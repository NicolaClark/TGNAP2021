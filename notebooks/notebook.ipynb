{
 "cells": [
  {
   "cell_type": "markdown",
   "source": "## Thoughts\n### Simplify the network\n- Number of people on the airplane\n- If a node has two egdes to the same node, we can merge them into one\n- Cut off dead ends (Airports with no return)\n- Merge airports that go from the same City. Example: JFK and NLI Airport\n- Should airports have a certain amount of flights between airports before they are relevant?\n- How many people does the average plane seat? Should we assume that planes with a shorter flight have fewer passengers and planes with a longer flight have more passengers.\n- How often does a plane fly?\n\n### How should the disease spread\n- The number of airplanes leaving the airport should be equal to number of iterations for the specific airport.\n- Probability for an infected person to travel with an airplane\n- How much does the disease spread? For example, about 1/10 people in contact with the infected person gets the disease.\n\n## Basic Network statistics \n- Is it one fully connected component? \n- Isolated nodes\n- Is there any cycles?\n- Is there any self loops? \n- Degree distribution plot and the cumulative distribution plot\n- Does it follow the power law\n- Calculate the density\n- Global clustestering coefficient and average clustering coefficient\n- Diameter and average diameter\n- Path length distribution \n- Closeness and betweenness \n- Reach centrality \n\n\n\n\n",
   "metadata": {
    "tags": [],
    "cell_id": "00000-50cefd47-9bc8-48be-a652-6cc7b8e68854",
    "deepnote_cell_type": "markdown"
   }
  },
  {
   "cell_type": "markdown",
   "source": "## Brief network description\n\nWe are working with an openflights airport network from icon.colorado.edu. which is a weighted, directed, multigraph, network where the nodes represent airports worldwide and the direction of edge {i,j} indicates a regularly occurring commercial flight, by a particular airline from airport i to airport j. Multiple edges may exist between pairs of airports if multiple airlines offer that flight, or if one airline offers multiple such flights each day. The  number of nodes is: 3214 and the  number of edges is: 18859.\nhttps://networks.skewed.de/net/openflights\n",
   "metadata": {
    "tags": [],
    "cell_id": "00000-22ec26aa-75b7-4f52-8bce-ae76449909a6",
    "deepnote_cell_type": "markdown"
   }
  },
  {
   "cell_type": "code",
   "metadata": {
    "tags": [],
    "cell_id": "00000-ce272a5f-b7ee-43cc-a2e7-35bb98eb8ef6",
    "deepnote_to_be_reexecuted": false,
    "source_hash": "89576e3",
    "execution_start": 1632745315707,
    "execution_millis": 2612,
    "deepnote_cell_type": "code"
   },
   "source": "!pip install networkx",
   "execution_count": 7,
   "outputs": [
    {
     "name": "stdout",
     "text": "Requirement already satisfied: networkx in /root/venv/lib/python3.9/site-packages (2.6.3)\r\n",
     "output_type": "stream"
    }
   ]
  },
  {
   "cell_type": "code",
   "metadata": {
    "tags": [],
    "cell_id": "00000-1c7ee476-631c-4cdf-9546-2d6766570441",
    "deepnote_to_be_reexecuted": false,
    "source_hash": "3fb51fc2",
    "execution_start": 1632746178137,
    "execution_millis": 2,
    "deepnote_cell_type": "code"
   },
   "source": "import networkx as nx\nimport pandas as pd\nimport matplotlib.pyplot as plt",
   "execution_count": 17,
   "outputs": []
  },
  {
   "cell_type": "code",
   "metadata": {
    "tags": [],
    "cell_id": "00000-3bd4d806-475a-45e2-a535-bf1a95c7025a",
    "deepnote_to_be_reexecuted": false,
    "source_hash": "1830d501",
    "execution_start": 1632745330075,
    "execution_millis": 82,
    "deepnote_cell_type": "code"
   },
   "source": "nodes = '../network/nodes.csv'\nedges = \"../network/edges.csv\"\n\npd_nodes = pd.read_csv(nodes, sep=\",\")\npd_edges = pd.read_csv(edges, sep=\",\")\npd_edges.columns ",
   "execution_count": 9,
   "outputs": [
    {
     "output_type": "execute_result",
     "execution_count": 9,
     "data": {
      "text/plain": "Index(['# source', ' target', ' distance', ' airline', ' airline_code',\n       ' codeshare', ' equipment', ' stops'],\n      dtype='object')"
     },
     "metadata": {}
    }
   ]
  },
  {
   "cell_type": "code",
   "metadata": {
    "tags": [],
    "cell_id": "00003-db7e7740-7321-42ca-9150-6b77d30ec96e",
    "deepnote_to_be_reexecuted": false,
    "source_hash": "bc5506e4",
    "execution_start": 1632745591009,
    "execution_millis": 44,
    "deepnote_cell_type": "code"
   },
   "source": "G = nx.Graph()\nG =nx.from_pandas_edgelist(pd_edges,source='# source', target=' target')\nprint(nx.info(G))",
   "execution_count": 14,
   "outputs": [
    {
     "name": "stdout",
     "text": "Graph with 3214 nodes and 18859 edges\n",
     "output_type": "stream"
    }
   ]
  },
  {
   "cell_type": "code",
   "source": "from collections import Counter\nequipment=[]\nfor i in pd_edges[\" equipment\"]:\n    possible=str(i).split()\n    for j in possible:\n        equipment.append(j)\nunique_equipment_count=Counter(equipment)\nunique_equipment=pd.DataFrame(set(equipment))\nprint(\"Amount of each plane type\",unique_equipment_count)\nprint(\"Unique plane types\",set(equipment))\n#print(Counter(pd_edges[\" equipment\"])) nope\n\n",
   "metadata": {
    "tags": [],
    "cell_id": "00006-6178d051-7f69-47eb-a1d6-020e327e63d3",
    "deepnote_to_be_reexecuted": false,
    "source_hash": "dc1fec58",
    "execution_start": 1632748991791,
    "execution_millis": 37,
    "deepnote_cell_type": "code"
   },
   "outputs": [
    {
     "name": "stdout",
     "text": "Amount of each plane type Counter({'320': 15400, '738': 10344, '319': 7847, '321': 3662, '73H': 3343, '737': 2753, '73W': 2492, 'CRJ': 2224, 'E90': 1968, 'AT7': 1595, '333': 1585, '73G': 1584, '332': 1439, 'DH4': 1387, '733': 1283, '763': 1183, 'CR7': 1161, '757': 1069, 'CR9': 1011, 'ER4': 989, 'ERJ': 947, '777': 945, '77W': 908, '330': 903, '739': 868, 'E70': 864, 'DH8': 785, 'M88': 725, '735': 705, 'E75': 701, 'M80': 656, '772': 633, 'ATR': 626, '73C': 623, '717': 614, '752': 604, '744': 599, '100': 590, '343': 490, 'DH3': 484, 'SF3': 475, '767': 461, '734': 460, 'CR2': 458, 'E95': 457, 'M90': 416, 'ERD': 415, '32S': 383, '773': 370, '736': 364, 'M83': 361, 'DHT': 354, '32A': 315, '75W': 311, 'DH1': 305, 'BEH': 290, '788': 287, 'AT4': 269, 'CNA': 266, 'CNC': 258, 'AT5': 256, '318': 253, 'BE1': 237, '310': 225, '346': 222, '388': 214, 'EM2': 214, '76W': 196, 'EMJ': 195, 'DH2': 187, 'F70': 175, 'AR1': 162, 'M82': 160, 'CRK': 159, '764': 153, '77L': 151, '73J': 145, '753': 143, 'F50': 134, 'S20': 113, '787': 106, 'AR8': 105, 'J41': 104, 'AB6': 102, '340': 96, 'SWM': 91, 'L4T': 91, 'J32': 84, 'ER3': 83, '313': 82, 'AN4': 82, '747': 62, '74E': 61, 'BNI': 61, 'SU9': 60, '732': 55, 'FRJ': 53, 'D38': 52, 'J31': 49, '73M': 47, '345': 47, '762': 46, 'PL2': 44, 'EMB': 44, 'ATP': 41, '73Q': 41, 'CRA': 38, '74M': 38, 'YN2': 38, '146': 35, 'A81': 35, 'PAG': 34, 'CNT': 34, 'BEC': 30, '380': 28, '342': 28, 'PA2': 28, '32B': 26, 'YK2': 26, 'YN7': 26, 'AB4': 24, '143': 22, '74H': 22, 'SFB': 20, '73N': 20, 'DC9': 20, 'BET': 19, 'nan': 18, 'T20': 18, 'BH2': 16, 'A58': 16, 'M87': 14, 'BNT': 14, 'D93': 14, 'A40': 14, 'DH7': 13, 'TU3': 13, 'TU5': 12, 'I14': 12, 'DHP': 11, '73R': 10, 'BE9': 10, '142': 10, 'IL9': 9, 'CN1': 9, '75T': 8, 'M11': 8, 'ARJ': 8, 'D28': 8, 'D1C': 8, 'F28': 7, '32C': 6, 'SH6': 6, '74L': 6, 'CNJ': 4, 'CN2': 4, '141': 4, 'MA6': 4, 'YK4': 4, '33X': 3, '74Y': 3, '76F': 2, 'M1F': 2, 'PA1': 2, '74N': 2, 'S76': 2, 'NDE': 2, '77X': 1})\nUnique plane types {'PL2', '738', '75T', 'SWM', 'PA1', 'CRA', 'SU9', '73R', '74M', 'M88', '141', 'ERJ', 'L4T', 'AT4', 'M83', '735', '736', 'EMB', '77W', 'AN4', '767', '744', 'DH3', 'YK2', 'D1C', '319', '752', '753', 'DHP', 'CNA', 'F28', '76F', 'M1F', 'A40', '739', 'CNT', 'CNC', '764', 'ER3', 'CN2', 'M87', 'ERD', 'CNJ', 'NDE', '77X', 'E75', 'BET', 'S20', 'MA6', 'D38', 'CN1', 'TU5', 'E95', 'ATR', '762', 'E70', 'AT7', '318', '787', 'AR1', '310', 'EMJ', 'BE1', '330', '732', 'D28', 'CR2', 'SH6', 'PA2', 'CR7', 'A58', 'E90', '73N', 'S76', 'EM2', 'YK4', 'J31', '146', 'ATP', 'M80', '74H', 'BNI', '733', 'AB4', 'TU3', '388', '73Q', 'DC9', '734', '737', 'SF3', 'BEH', 'ER4', 'A81', '74Y', '74N', 'BH2', 'CRJ', '142', 'IL9', '332', 'M11', '32B', 'FRJ', '73J', 'AR8', '33X', '73C', '320', '313', '321', '342', 'ARJ', '747', '100', '777', '345', 'F70', '32A', 'DH4', '32C', 'CRK', '75W', 'DH2', '77L', 'BEC', '76W', 'DH8', 'DH1', 'M90', '788', '343', '333', 'YN2', '346', '772', 'DHT', 'M82', 'D93', '763', '773', '73G', 'I14', '32S', '717', 'YN7', 'CR9', 'T20', '757', 'J41', 'BNT', 'J32', 'F50', 'BE9', '74L', 'PAG', '143', 'SFB', 'DH7', '73W', 'nan', 'AT5', '340', '380', 'AB6', '74E', '73M', '73H'}\n",
     "output_type": "stream"
    }
   ],
   "execution_count": 53
  },
  {
   "cell_type": "code",
   "source": "",
   "metadata": {
    "tags": [],
    "cell_id": "00007-1d2a267d-fe87-4c90-bc62-76d396742d22",
    "deepnote_cell_type": "code"
   },
   "outputs": [],
   "execution_count": null
  },
  {
   "cell_type": "code",
   "source": "\nunique_equipment.to_csv(\"./network/planes.csv\", sep='\\t',index=False)",
   "metadata": {
    "tags": [],
    "cell_id": "00007-e3ff8f58-0dca-46af-8d64-e22abb503474",
    "deepnote_to_be_reexecuted": false,
    "source_hash": "cd2f04cd",
    "execution_start": 1632749014180,
    "execution_millis": 3,
    "deepnote_cell_type": "code"
   },
   "outputs": [],
   "execution_count": 55
  },
  {
   "cell_type": "code",
   "metadata": {
    "tags": [],
    "cell_id": "00004-d475bd4c-44c7-4f0c-96de-f24f6b0398ce",
    "deepnote_to_be_reexecuted": false,
    "source_hash": "a3956d42",
    "execution_start": 1632746180454,
    "execution_millis": 51747,
    "deepnote_cell_type": "code"
   },
   "source": "nx.draw(G,node_size=0.4)\nplt.show()",
   "execution_count": 18,
   "outputs": [
    {
     "data": {
      "text/plain": "<Figure size 432x288 with 1 Axes>",
      "image/png": "[encoded data removed]"
     },
     "metadata": {
      "image/png": {
       "width": 446,
       "height": 302
      }
     },
     "output_type": "display_data"
    }
   ]
  },
  {
   "cell_type": "code",
   "metadata": {
    "tags": [],
    "cell_id": "00005-749b1b91-a4ba-4404-9392-ce5c81accf6b",
    "deepnote_to_be_reexecuted": false,
    "source_hash": "7e5cf17c",
    "execution_start": 1632744863737,
    "execution_millis": 2544,
    "deepnote_cell_type": "code"
   },
   "source": "!pip install python-igraph",
   "execution_count": 6,
   "outputs": [
    {
     "name": "stdout",
     "text": "Requirement already satisfied: python-igraph in /root/venv/lib/python3.9/site-packages (0.9.6)\r\nRequirement already satisfied: texttable>=1.6.2 in /root/venv/lib/python3.9/site-packages (from python-igraph) (1.6.4)\r\n",
     "output_type": "stream"
    }
   ]
  },
  {
   "cell_type": "code",
   "metadata": {
    "tags": [],
    "cell_id": "00006-7fbaaebf-ea8e-4b97-b89d-301232a5a662",
    "deepnote_to_be_reexecuted": false,
    "source_hash": "b623e53d",
    "execution_start": 1632744866283,
    "execution_millis": 7,
    "deepnote_cell_type": "code"
   },
   "source": "",
   "execution_count": 6,
   "outputs": []
  },
  {
   "cell_type": "markdown",
   "source": "<a style='text-decoration:none;line-height:16px;display:flex;color:#5B5B62;padding:10px;justify-content:end;' href='https://deepnote.com?utm_source=created-in-deepnote-cell&projectId=30c69275-ad4c-4319-be77-065d0edffda8' target=\"_blank\">\n<img alt='Created in deepnote.com' style='display:inline;max-height:16px;margin:0px;margin-right:7.5px;' src='data:image/svg+xml;base64,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' > </img>\nCreated in <span style='font-weight:600;margin-left:4px;'>Deepnote</span></a>",
   "metadata": {
    "tags": [],
    "created_in_deepnote_cell": true,
    "deepnote_cell_type": "markdown"
   }
  }
 ],
 "nbformat": 4,
 "nbformat_minor": 2,
 "metadata": {
  "orig_nbformat": 2,
  "deepnote": {
   "is_reactive": false
  },
  "deepnote_notebook_id": "8ca952b0-c3e4-4d5c-9ee8-7e731917d767",
  "deepnote_execution_queue": []
 }
}