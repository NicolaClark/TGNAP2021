{
 "cells": [
  {
   "cell_type": "markdown",
   "source": "## Thoughts\n### Simplify the network\n- Number of people on the airplane\n- If a node has two egdes to the same node, we can merge them into one\n- Cut off dead ends (Airports with no return)\n- Merge airports that go from the same City. Example: JFK and NLI Airport\n- Should airports have a certain amount of flights between airports before they are relevant?\n- How many people does the average plane seat? Should we assume that planes with a shorter flight have fewer passengers and planes with a longer flight have more passengers.\n- How often does a plane fly?\n\n### How should the disease spread\n- The number of airplanes leaving the airport should be equal to number of iterations for the specific airport.\n- Probability for an infected person to travel with an airplane\n- How much does the disease spread? For example, about 1/10 people in contact with the infected person gets the disease.\n\n\n",
   "metadata": {
    "tags": [],
    "cell_id": "00000-50cefd47-9bc8-48be-a652-6cc7b8e68854",
    "deepnote_cell_type": "markdown"
   }
  },
  {
   "cell_type": "markdown",
   "source": "## Brief network description\n\nWe are working with an openflights airport network from icon.colorado.edu. which is a weighted, directed, multigraph, network where the nodes represent airports worldwide and the direction of edge {i,j} indicates a regularly occurring commercial flight, by a particular airline from airport i to airport j. Multiple edges may exist between pairs of airports if multiple airlines offer that flight, or if one airline offers multiple such flights each day. The  number of nodes is: 3214 and the  number of edges is: 18859.\nhttps://networks.skewed.de/net/openflights\n",
   "metadata": {
    "tags": [],
    "cell_id": "00000-22ec26aa-75b7-4f52-8bce-ae76449909a6",
    "deepnote_cell_type": "markdown"
   }
  },
  {
   "cell_type": "code",
   "metadata": {
    "tags": [],
    "cell_id": "00000-ce272a5f-b7ee-43cc-a2e7-35bb98eb8ef6",
    "deepnote_to_be_reexecuted": false,
    "source_hash": "89576e3",
    "execution_start": 1632750933798,
    "execution_millis": 2547,
    "deepnote_cell_type": "code"
   },
   "source": "!pip install networkx",
   "outputs": [
    {
     "name": "stdout",
     "text": "Requirement already satisfied: networkx in /root/venv/lib/python3.9/site-packages (2.6.3)\r\n",
     "output_type": "stream"
    }
   ],
   "execution_count": 1
  },
  {
   "cell_type": "code",
   "metadata": {
    "tags": [],
    "cell_id": "00000-1c7ee476-631c-4cdf-9546-2d6766570441",
    "deepnote_to_be_reexecuted": false,
    "source_hash": "464d1b67",
    "execution_start": 1632752393302,
    "execution_millis": 4,
    "deepnote_cell_type": "code"
   },
   "source": "import networkx as nx\nimport pandas as pd\nimport matplotlib.pyplot as plt\nfrom collections import Counter",
   "outputs": [],
   "execution_count": 63
  },
  {
   "cell_type": "code",
   "metadata": {
    "tags": [],
    "cell_id": "00000-3bd4d806-475a-45e2-a535-bf1a95c7025a",
    "deepnote_to_be_reexecuted": false,
    "source_hash": "1830d501",
    "execution_start": 1632751702504,
    "execution_millis": 288,
    "deepnote_cell_type": "code"
   },
   "source": "nodes = '../network/nodes.csv'\nedges = \"../network/edges.csv\"\n\npd_nodes = pd.read_csv(nodes, sep=\",\")\npd_edges = pd.read_csv(edges, sep=\",\")\npd_edges.columns ",
   "outputs": [
    {
     "output_type": "execute_result",
     "execution_count": 25,
     "data": {
      "text/plain": "Index(['# source', ' target', ' distance', ' airline', ' airline_code',\n       ' codeshare', ' equipment', ' stops'],\n      dtype='object')"
     },
     "metadata": {}
    }
   ],
   "execution_count": 25
  },
  {
   "cell_type": "code",
   "metadata": {
    "tags": [],
    "cell_id": "00003-db7e7740-7321-42ca-9150-6b77d30ec96e",
    "deepnote_to_be_reexecuted": false,
    "source_hash": "db286733",
    "execution_start": 1632750936755,
    "execution_millis": 381,
    "deepnote_cell_type": "code"
   },
   "source": "G =nx.from_pandas_edgelist(pd_edges,source='# source', target=' target', create_using = nx.MultiDiGraph)\nprint(nx.info(G))",
   "outputs": [
    {
     "name": "stdout",
     "text": "MultiDiGraph with 3214 nodes and 66771 edges\n",
     "output_type": "stream"
    }
   ],
   "execution_count": 4
  },
  {
   "cell_type": "markdown",
   "source": "## Basic Network statistics \n- Is it one fully connected component?\n- Isolated nodes\n- Is there any cycles?\n- Is there any self loops? \n- Degree distribution plot and the cumulative distribution plot\n- Does it follow the power law\n- Calculate the density\n- Global clustestering coefficient and average clustering coefficient\n- Diameter and average diameter\n- Path length distribution \n- Closeness and betweenness \n- Reach centrality ",
   "metadata": {
    "tags": [],
    "cell_id": "00007-e16b01da-9240-4946-959f-a2cae9b6b98f",
    "deepnote_cell_type": "markdown"
   }
  },
  {
   "cell_type": "code",
   "source": "#connected components\n# - Strong connectivity = When there is a path from every node to every other node --> taking into account directions (subgraph)\n# - Weak connectivity = When there is a path from every node to every other node not taking into account the directions\nprint(nx.number_strongly_connected_components(G))\nprint(nx.number_weakly_connected_components(G))\n#for i in nx.weakly_connected_components(G):\n#    print(i)\n#for i in nx.strongly_connected_components(G):\n#    print(i)",
   "metadata": {
    "tags": [],
    "cell_id": "00007-752804e1-a776-4a3e-bf0e-c9d6f23a2ed7",
    "deepnote_to_be_reexecuted": false,
    "source_hash": "faf8c91a",
    "execution_start": 1632750937156,
    "execution_millis": 42,
    "deepnote_cell_type": "code"
   },
   "outputs": [
    {
     "name": "stdout",
     "text": "48\n7\n",
     "output_type": "stream"
    }
   ],
   "execution_count": 5
  },
  {
   "cell_type": "code",
   "source": "## Find isolated nodes:\nfor i in nx.isolates(G):\n    print(i)\n# There are not isolated nodes",
   "metadata": {
    "tags": [],
    "cell_id": "00008-fc51d358-a3cc-4953-a141-dbe4d5864864",
    "deepnote_to_be_reexecuted": false,
    "source_hash": "72fa98ed",
    "execution_start": 1632750937215,
    "execution_millis": 4,
    "deepnote_cell_type": "code"
   },
   "outputs": [],
   "execution_count": 6
  },
  {
   "cell_type": "code",
   "source": "# Find Cycles\ncycles = len(list(nx.simple_cycles(G)))",
   "metadata": {
    "tags": [],
    "cell_id": "00009-ebbb6c45-07fd-4fd8-a690-93df4267cae3",
    "deepnote_to_be_reexecuted": false,
    "source_hash": "e47a9b70",
    "execution_start": 1632750937223,
    "execution_millis": 30443,
    "deepnote_cell_type": "code"
   },
   "outputs": [
    {
     "output_type": "error",
     "ename": "KeyboardInterrupt",
     "evalue": "",
     "traceback": [
      "\u001b[0;31m---------------------------------------------------------------------------\u001b[0m",
      "\u001b[0;31mKeyboardInterrupt\u001b[0m                         Traceback (most recent call last)",
      "\u001b[0;32m/tmp/ipykernel_2629/3063568526.py\u001b[0m in \u001b[0;36m<module>\u001b[0;34m\u001b[0m\n\u001b[1;32m      1\u001b[0m \u001b[0;31m# Find Cycles\u001b[0m\u001b[0;34m\u001b[0m\u001b[0;34m\u001b[0m\u001b[0;34m\u001b[0m\u001b[0m\n\u001b[0;32m----> 2\u001b[0;31m \u001b[0mcycles\u001b[0m \u001b[0;34m=\u001b[0m \u001b[0mlen\u001b[0m\u001b[0;34m(\u001b[0m\u001b[0mlist\u001b[0m\u001b[0;34m(\u001b[0m\u001b[0mnx\u001b[0m\u001b[0;34m.\u001b[0m\u001b[0msimple_cycles\u001b[0m\u001b[0;34m(\u001b[0m\u001b[0mG\u001b[0m\u001b[0;34m)\u001b[0m\u001b[0;34m)\u001b[0m\u001b[0;34m)\u001b[0m\u001b[0;34m\u001b[0m\u001b[0;34m\u001b[0m\u001b[0m\n\u001b[0m",
      "\u001b[0;32m~/venv/lib/python3.9/site-packages/networkx/utils/decorators.py\u001b[0m in \u001b[0;36mfunc\u001b[0;34m(_argmap__wrapper, *args, **kwargs)\u001b[0m\n\u001b[1;32m    788\u001b[0m \u001b[0;34m\u001b[0m\u001b[0m\n\u001b[1;32m    789\u001b[0m             \u001b[0;32mdef\u001b[0m \u001b[0mfunc\u001b[0m\u001b[0;34m(\u001b[0m\u001b[0;34m*\u001b[0m\u001b[0margs\u001b[0m\u001b[0;34m,\u001b[0m \u001b[0m__wrapper\u001b[0m\u001b[0;34m=\u001b[0m\u001b[0;32mNone\u001b[0m\u001b[0;34m,\u001b[0m \u001b[0;34m**\u001b[0m\u001b[0mkwargs\u001b[0m\u001b[0;34m)\u001b[0m\u001b[0;34m:\u001b[0m\u001b[0;34m\u001b[0m\u001b[0;34m\u001b[0m\u001b[0m\n\u001b[0;32m--> 790\u001b[0;31m                 \u001b[0;32myield\u001b[0m \u001b[0;32mfrom\u001b[0m \u001b[0margmap\u001b[0m\u001b[0;34m.\u001b[0m\u001b[0m_lazy_compile\u001b[0m\u001b[0;34m(\u001b[0m\u001b[0m__wrapper\u001b[0m\u001b[0;34m)\u001b[0m\u001b[0;34m(\u001b[0m\u001b[0;34m*\u001b[0m\u001b[0margs\u001b[0m\u001b[0;34m,\u001b[0m \u001b[0;34m**\u001b[0m\u001b[0mkwargs\u001b[0m\u001b[0;34m)\u001b[0m\u001b[0;34m\u001b[0m\u001b[0;34m\u001b[0m\u001b[0m\n\u001b[0m\u001b[1;32m    791\u001b[0m \u001b[0;34m\u001b[0m\u001b[0m\n\u001b[1;32m    792\u001b[0m         \u001b[0;32melse\u001b[0m\u001b[0;34m:\u001b[0m\u001b[0;34m\u001b[0m\u001b[0;34m\u001b[0m\u001b[0m\n",
      "\u001b[0;32m~/venv/lib/python3.9/site-packages/networkx/utils/decorators.py\u001b[0m in \u001b[0;36margmap_simple_cycles_21\u001b[0;34m(G)\u001b[0m\n\u001b[1;32m      2\u001b[0m \u001b[0;32mfrom\u001b[0m \u001b[0mos\u001b[0m\u001b[0;34m.\u001b[0m\u001b[0mpath\u001b[0m \u001b[0;32mimport\u001b[0m \u001b[0msplitext\u001b[0m\u001b[0;34m\u001b[0m\u001b[0;34m\u001b[0m\u001b[0m\n\u001b[1;32m      3\u001b[0m \u001b[0;32mfrom\u001b[0m \u001b[0mcontextlib\u001b[0m \u001b[0;32mimport\u001b[0m \u001b[0mcontextmanager\u001b[0m\u001b[0;34m\u001b[0m\u001b[0;34m\u001b[0m\u001b[0m\n\u001b[0;32m----> 4\u001b[0;31m \u001b[0;32mfrom\u001b[0m \u001b[0mpathlib\u001b[0m \u001b[0;32mimport\u001b[0m \u001b[0mPath\u001b[0m\u001b[0;34m\u001b[0m\u001b[0;34m\u001b[0m\u001b[0m\n\u001b[0m\u001b[1;32m      5\u001b[0m \u001b[0;32mimport\u001b[0m \u001b[0mwarnings\u001b[0m\u001b[0;34m\u001b[0m\u001b[0;34m\u001b[0m\u001b[0m\n\u001b[1;32m      6\u001b[0m \u001b[0;34m\u001b[0m\u001b[0m\n",
      "\u001b[0;32m~/venv/lib/python3.9/site-packages/networkx/algorithms/cycles.py\u001b[0m in \u001b[0;36msimple_cycles\u001b[0;34m(G)\u001b[0m\n\u001b[1;32m    205\u001b[0m                 \u001b[0;32melif\u001b[0m \u001b[0mnextnode\u001b[0m \u001b[0;32mnot\u001b[0m \u001b[0;32min\u001b[0m \u001b[0mblocked\u001b[0m\u001b[0;34m:\u001b[0m\u001b[0;34m\u001b[0m\u001b[0;34m\u001b[0m\u001b[0m\n\u001b[1;32m    206\u001b[0m                     \u001b[0mpath\u001b[0m\u001b[0;34m.\u001b[0m\u001b[0mappend\u001b[0m\u001b[0;34m(\u001b[0m\u001b[0mnextnode\u001b[0m\u001b[0;34m)\u001b[0m\u001b[0;34m\u001b[0m\u001b[0;34m\u001b[0m\u001b[0m\n\u001b[0;32m--> 207\u001b[0;31m                     \u001b[0mstack\u001b[0m\u001b[0;34m.\u001b[0m\u001b[0mappend\u001b[0m\u001b[0;34m(\u001b[0m\u001b[0;34m(\u001b[0m\u001b[0mnextnode\u001b[0m\u001b[0;34m,\u001b[0m \u001b[0mlist\u001b[0m\u001b[0;34m(\u001b[0m\u001b[0msccG\u001b[0m\u001b[0;34m[\u001b[0m\u001b[0mnextnode\u001b[0m\u001b[0;34m]\u001b[0m\u001b[0;34m)\u001b[0m\u001b[0;34m)\u001b[0m\u001b[0;34m)\u001b[0m\u001b[0;34m\u001b[0m\u001b[0;34m\u001b[0m\u001b[0m\n\u001b[0m\u001b[1;32m    208\u001b[0m                     \u001b[0mclosed\u001b[0m\u001b[0;34m.\u001b[0m\u001b[0mdiscard\u001b[0m\u001b[0;34m(\u001b[0m\u001b[0mnextnode\u001b[0m\u001b[0;34m)\u001b[0m\u001b[0;34m\u001b[0m\u001b[0;34m\u001b[0m\u001b[0m\n\u001b[1;32m    209\u001b[0m                     \u001b[0mblocked\u001b[0m\u001b[0;34m.\u001b[0m\u001b[0madd\u001b[0m\u001b[0;34m(\u001b[0m\u001b[0mnextnode\u001b[0m\u001b[0;34m)\u001b[0m\u001b[0;34m\u001b[0m\u001b[0;34m\u001b[0m\u001b[0m\n",
      "\u001b[0;32m~/venv/lib/python3.9/site-packages/networkx/classes/coreviews.py\u001b[0m in \u001b[0;36m__len__\u001b[0;34m(self)\u001b[0m\n\u001b[1;32m     46\u001b[0m \u001b[0;34m\u001b[0m\u001b[0m\n\u001b[1;32m     47\u001b[0m     \u001b[0;32mdef\u001b[0m \u001b[0m__len__\u001b[0m\u001b[0;34m(\u001b[0m\u001b[0mself\u001b[0m\u001b[0;34m)\u001b[0m\u001b[0;34m:\u001b[0m\u001b[0;34m\u001b[0m\u001b[0;34m\u001b[0m\u001b[0m\n\u001b[0;32m---> 48\u001b[0;31m         \u001b[0;32mreturn\u001b[0m \u001b[0mlen\u001b[0m\u001b[0;34m(\u001b[0m\u001b[0mself\u001b[0m\u001b[0;34m.\u001b[0m\u001b[0m_atlas\u001b[0m\u001b[0;34m)\u001b[0m\u001b[0;34m\u001b[0m\u001b[0;34m\u001b[0m\u001b[0m\n\u001b[0m\u001b[1;32m     49\u001b[0m \u001b[0;34m\u001b[0m\u001b[0m\n\u001b[1;32m     50\u001b[0m     \u001b[0;32mdef\u001b[0m \u001b[0m__iter__\u001b[0m\u001b[0;34m(\u001b[0m\u001b[0mself\u001b[0m\u001b[0;34m)\u001b[0m\u001b[0;34m:\u001b[0m\u001b[0;34m\u001b[0m\u001b[0;34m\u001b[0m\u001b[0m\n",
      "\u001b[0;32m~/venv/lib/python3.9/site-packages/networkx/classes/coreviews.py\u001b[0m in \u001b[0;36m__len__\u001b[0;34m(self)\u001b[0m\n\u001b[1;32m    320\u001b[0m \u001b[0;34m\u001b[0m\u001b[0m\n\u001b[1;32m    321\u001b[0m     \u001b[0;32mdef\u001b[0m \u001b[0m__len__\u001b[0m\u001b[0;34m(\u001b[0m\u001b[0mself\u001b[0m\u001b[0;34m)\u001b[0m\u001b[0;34m:\u001b[0m\u001b[0;34m\u001b[0m\u001b[0;34m\u001b[0m\u001b[0m\n\u001b[0;32m--> 322\u001b[0;31m         \u001b[0;32mreturn\u001b[0m \u001b[0msum\u001b[0m\u001b[0;34m(\u001b[0m\u001b[0;36m1\u001b[0m \u001b[0;32mfor\u001b[0m \u001b[0mn\u001b[0m \u001b[0;32min\u001b[0m \u001b[0mself\u001b[0m\u001b[0;34m)\u001b[0m\u001b[0;34m\u001b[0m\u001b[0;34m\u001b[0m\u001b[0m\n\u001b[0m\u001b[1;32m    323\u001b[0m \u001b[0;34m\u001b[0m\u001b[0m\n\u001b[1;32m    324\u001b[0m     \u001b[0;32mdef\u001b[0m \u001b[0m__iter__\u001b[0m\u001b[0;34m(\u001b[0m\u001b[0mself\u001b[0m\u001b[0;34m)\u001b[0m\u001b[0;34m:\u001b[0m\u001b[0;34m\u001b[0m\u001b[0;34m\u001b[0m\u001b[0m\n",
      "\u001b[0;32m~/venv/lib/python3.9/site-packages/networkx/classes/coreviews.py\u001b[0m in \u001b[0;36m<genexpr>\u001b[0;34m(.0)\u001b[0m\n\u001b[1;32m    320\u001b[0m \u001b[0;34m\u001b[0m\u001b[0m\n\u001b[1;32m    321\u001b[0m     \u001b[0;32mdef\u001b[0m \u001b[0m__len__\u001b[0m\u001b[0;34m(\u001b[0m\u001b[0mself\u001b[0m\u001b[0;34m)\u001b[0m\u001b[0;34m:\u001b[0m\u001b[0;34m\u001b[0m\u001b[0;34m\u001b[0m\u001b[0m\n\u001b[0;32m--> 322\u001b[0;31m         \u001b[0;32mreturn\u001b[0m \u001b[0msum\u001b[0m\u001b[0;34m(\u001b[0m\u001b[0;36m1\u001b[0m \u001b[0;32mfor\u001b[0m \u001b[0mn\u001b[0m \u001b[0;32min\u001b[0m \u001b[0mself\u001b[0m\u001b[0;34m)\u001b[0m\u001b[0;34m\u001b[0m\u001b[0;34m\u001b[0m\u001b[0m\n\u001b[0m\u001b[1;32m    323\u001b[0m \u001b[0;34m\u001b[0m\u001b[0m\n\u001b[1;32m    324\u001b[0m     \u001b[0;32mdef\u001b[0m \u001b[0m__iter__\u001b[0m\u001b[0;34m(\u001b[0m\u001b[0mself\u001b[0m\u001b[0;34m)\u001b[0m\u001b[0;34m:\u001b[0m\u001b[0;34m\u001b[0m\u001b[0;34m\u001b[0m\u001b[0m\n",
      "\u001b[0;32m~/venv/lib/python3.9/site-packages/networkx/classes/coreviews.py\u001b[0m in \u001b[0;36m__iter__\u001b[0;34m(self)\u001b[0m\n\u001b[1;32m    390\u001b[0m         \u001b[0;32melse\u001b[0m\u001b[0;34m:\u001b[0m\u001b[0;34m\u001b[0m\u001b[0;34m\u001b[0m\u001b[0m\n\u001b[1;32m    391\u001b[0m             \u001b[0mmy_nodes\u001b[0m \u001b[0;34m=\u001b[0m \u001b[0;34m(\u001b[0m\u001b[0mn\u001b[0m \u001b[0;32mfor\u001b[0m \u001b[0mn\u001b[0m \u001b[0;32min\u001b[0m \u001b[0mself\u001b[0m\u001b[0;34m.\u001b[0m\u001b[0m_atlas\u001b[0m \u001b[0;32mif\u001b[0m \u001b[0mself\u001b[0m\u001b[0;34m.\u001b[0m\u001b[0mNODE_OK\u001b[0m\u001b[0;34m(\u001b[0m\u001b[0mn\u001b[0m\u001b[0;34m)\u001b[0m\u001b[0;34m)\u001b[0m\u001b[0;34m\u001b[0m\u001b[0;34m\u001b[0m\u001b[0m\n\u001b[0;32m--> 392\u001b[0;31m         \u001b[0;32mfor\u001b[0m \u001b[0mn\u001b[0m \u001b[0;32min\u001b[0m \u001b[0mmy_nodes\u001b[0m\u001b[0;34m:\u001b[0m\u001b[0;34m\u001b[0m\u001b[0;34m\u001b[0m\u001b[0m\n\u001b[0m\u001b[1;32m    393\u001b[0m             \u001b[0msome_keys_ok\u001b[0m \u001b[0;34m=\u001b[0m \u001b[0;32mFalse\u001b[0m\u001b[0;34m\u001b[0m\u001b[0;34m\u001b[0m\u001b[0m\n\u001b[1;32m    394\u001b[0m             \u001b[0;32mfor\u001b[0m \u001b[0mkey\u001b[0m \u001b[0;32min\u001b[0m \u001b[0mself\u001b[0m\u001b[0;34m.\u001b[0m\u001b[0m_atlas\u001b[0m\u001b[0;34m[\u001b[0m\u001b[0mn\u001b[0m\u001b[0;34m]\u001b[0m\u001b[0;34m:\u001b[0m\u001b[0;34m\u001b[0m\u001b[0;34m\u001b[0m\u001b[0m\n",
      "\u001b[0;32m~/venv/lib/python3.9/site-packages/networkx/classes/coreviews.py\u001b[0m in \u001b[0;36m<genexpr>\u001b[0;34m(.0)\u001b[0m\n\u001b[1;32m    389\u001b[0m             \u001b[0mmy_nodes\u001b[0m \u001b[0;34m=\u001b[0m \u001b[0;34m(\u001b[0m\u001b[0mn\u001b[0m \u001b[0;32mfor\u001b[0m \u001b[0mn\u001b[0m \u001b[0;32min\u001b[0m \u001b[0mself\u001b[0m\u001b[0;34m.\u001b[0m\u001b[0mNODE_OK\u001b[0m\u001b[0;34m.\u001b[0m\u001b[0mnodes\u001b[0m \u001b[0;32mif\u001b[0m \u001b[0mn\u001b[0m \u001b[0;32min\u001b[0m \u001b[0mself\u001b[0m\u001b[0;34m.\u001b[0m\u001b[0m_atlas\u001b[0m\u001b[0;34m)\u001b[0m\u001b[0;34m\u001b[0m\u001b[0;34m\u001b[0m\u001b[0m\n\u001b[1;32m    390\u001b[0m         \u001b[0;32melse\u001b[0m\u001b[0;34m:\u001b[0m\u001b[0;34m\u001b[0m\u001b[0;34m\u001b[0m\u001b[0m\n\u001b[0;32m--> 391\u001b[0;31m             \u001b[0mmy_nodes\u001b[0m \u001b[0;34m=\u001b[0m \u001b[0;34m(\u001b[0m\u001b[0mn\u001b[0m \u001b[0;32mfor\u001b[0m \u001b[0mn\u001b[0m \u001b[0;32min\u001b[0m \u001b[0mself\u001b[0m\u001b[0;34m.\u001b[0m\u001b[0m_atlas\u001b[0m \u001b[0;32mif\u001b[0m \u001b[0mself\u001b[0m\u001b[0;34m.\u001b[0m\u001b[0mNODE_OK\u001b[0m\u001b[0;34m(\u001b[0m\u001b[0mn\u001b[0m\u001b[0;34m)\u001b[0m\u001b[0;34m)\u001b[0m\u001b[0;34m\u001b[0m\u001b[0;34m\u001b[0m\u001b[0m\n\u001b[0m\u001b[1;32m    392\u001b[0m         \u001b[0;32mfor\u001b[0m \u001b[0mn\u001b[0m \u001b[0;32min\u001b[0m \u001b[0mmy_nodes\u001b[0m\u001b[0;34m:\u001b[0m\u001b[0;34m\u001b[0m\u001b[0;34m\u001b[0m\u001b[0m\n\u001b[1;32m    393\u001b[0m             \u001b[0msome_keys_ok\u001b[0m \u001b[0;34m=\u001b[0m \u001b[0;32mFalse\u001b[0m\u001b[0;34m\u001b[0m\u001b[0;34m\u001b[0m\u001b[0m\n",
      "\u001b[0;31mKeyboardInterrupt\u001b[0m: "
     ]
    }
   ],
   "execution_count": 7
  },
  {
   "cell_type": "code",
   "source": "#Find self loops\nnx.number_of_selfloops(G)\nfor i in nx.selfloop_edges(G):\n    print(\"There is one self loop which can be found at node:\", i)",
   "metadata": {
    "tags": [],
    "cell_id": "00010-2542f41b-d92e-47b4-a2fa-ac95c1e38f9e",
    "deepnote_to_be_reexecuted": false,
    "source_hash": "75406c77",
    "execution_start": 1632751632525,
    "execution_millis": 83,
    "deepnote_cell_type": "code"
   },
   "outputs": [
    {
     "name": "stdout",
     "text": "There is one self loop which can be found at node: (1931, 1931)\n",
     "output_type": "stream"
    }
   ],
   "execution_count": 17
  },
  {
   "cell_type": "code",
   "source": "#the source and target reference the index of the pd_nodes df\npd_edges[pd_edges[\"# source\"]==1931 & pd_edges[\" target\"]==1931]\n#pd_nodes[pd_nodes[\"# index\"]==1931]\n",
   "metadata": {
    "tags": [],
    "cell_id": "00011-d94aae2f-fd43-494c-9280-40b1c301c037",
    "deepnote_to_be_reexecuted": false,
    "source_hash": "55ee06ae",
    "execution_start": 1632752463807,
    "execution_millis": 6,
    "deepnote_cell_type": "code"
   },
   "outputs": [
    {
     "output_type": "error",
     "ename": "ValueError",
     "evalue": "The truth value of a Series is ambiguous. Use a.empty, a.bool(), a.item(), a.any() or a.all().",
     "traceback": [
      "\u001b[0;31m---------------------------------------------------------------------------\u001b[0m",
      "\u001b[0;31mValueError\u001b[0m                                Traceback (most recent call last)",
      "\u001b[0;32m/tmp/ipykernel_2629/4270574119.py\u001b[0m in \u001b[0;36m<module>\u001b[0;34m\u001b[0m\n\u001b[1;32m      1\u001b[0m \u001b[0;31m#the source and target reference the index of the pd_nodes df\u001b[0m\u001b[0;34m\u001b[0m\u001b[0;34m\u001b[0m\u001b[0;34m\u001b[0m\u001b[0m\n\u001b[0;32m----> 2\u001b[0;31m \u001b[0mpd_edges\u001b[0m\u001b[0;34m[\u001b[0m\u001b[0mpd_edges\u001b[0m\u001b[0;34m[\u001b[0m\u001b[0;34m\"# source\"\u001b[0m\u001b[0;34m]\u001b[0m\u001b[0;34m==\u001b[0m\u001b[0;36m1931\u001b[0m \u001b[0;34m&\u001b[0m \u001b[0mpd_edges\u001b[0m\u001b[0;34m[\u001b[0m\u001b[0;34m\" target\"\u001b[0m\u001b[0;34m]\u001b[0m\u001b[0;34m==\u001b[0m\u001b[0;36m1931\u001b[0m\u001b[0;34m]\u001b[0m\u001b[0;34m\u001b[0m\u001b[0;34m\u001b[0m\u001b[0m\n\u001b[0m\u001b[1;32m      3\u001b[0m \u001b[0;31m#pd_nodes[pd_nodes[\"# index\"]==1931]\u001b[0m\u001b[0;34m\u001b[0m\u001b[0;34m\u001b[0m\u001b[0;34m\u001b[0m\u001b[0m\n",
      "\u001b[0;32m/shared-libs/python3.9/py/lib/python3.9/site-packages/pandas/core/generic.py\u001b[0m in \u001b[0;36m__nonzero__\u001b[0;34m(self)\u001b[0m\n\u001b[1;32m   1440\u001b[0m     \u001b[0;34m@\u001b[0m\u001b[0mfinal\u001b[0m\u001b[0;34m\u001b[0m\u001b[0;34m\u001b[0m\u001b[0m\n\u001b[1;32m   1441\u001b[0m     \u001b[0;32mdef\u001b[0m \u001b[0m__nonzero__\u001b[0m\u001b[0;34m(\u001b[0m\u001b[0mself\u001b[0m\u001b[0;34m)\u001b[0m\u001b[0;34m:\u001b[0m\u001b[0;34m\u001b[0m\u001b[0;34m\u001b[0m\u001b[0m\n\u001b[0;32m-> 1442\u001b[0;31m         raise ValueError(\n\u001b[0m\u001b[1;32m   1443\u001b[0m             \u001b[0;34mf\"The truth value of a {type(self).__name__} is ambiguous. \"\u001b[0m\u001b[0;34m\u001b[0m\u001b[0;34m\u001b[0m\u001b[0m\n\u001b[1;32m   1444\u001b[0m             \u001b[0;34m\"Use a.empty, a.bool(), a.item(), a.any() or a.all().\"\u001b[0m\u001b[0;34m\u001b[0m\u001b[0;34m\u001b[0m\u001b[0m\n",
      "\u001b[0;31mValueError\u001b[0m: The truth value of a Series is ambiguous. Use a.empty, a.bool(), a.item(), a.any() or a.all()."
     ]
    }
   ],
   "execution_count": 68
  },
  {
   "cell_type": "code",
   "source": "# Degree distribution plot\ndef plot_degree_dist(G):\n    degrees = [G.degree(n) for n in G.nodes()]\n    plt.hist(degrees, 50)\n    plt.show()\n\nplot_degree_dist(G)\n## THHE CCDF IS NOT DONE\n# The cumulative distribution plot (The y-axis in a CCDF is the probability of finding a node of degree k or high)\ndef cum_dist(G):\n    degrees = [G.degree(n) for n in G.nodes()] #Is this the in or out degree? SHOULD BE LOOKED AT \n    num_of_nodes = len(degrees)\n    count_degress = Counter(degrees)\n    cum = []\n    for degree, times in sorted(count_degress.items()):\n        print(degree, times)\n        cum.append(times/num_of_nodes)\n   # plt.plot(degrees, 50)\n    #plt.show()\n\ncum_dist(G)",
   "metadata": {
    "tags": [],
    "cell_id": "00011-99993e86-7ab7-419c-bb38-ca12a9443b0e",
    "deepnote_to_be_reexecuted": false,
    "source_hash": "4e37498c",
    "execution_start": 1632752460455,
    "execution_millis": 359,
    "deepnote_cell_type": "code"
   },
   "outputs": [
    {
     "data": {
      "text/plain": "<Figure size 432x288 with 1 Axes>",
      "image/png": "[encoded data removed]"
     },
     "metadata": {
      "needs_background": "light",
      "image/png": {
       "width": 381,
       "height": 248
      }
     },
     "output_type": "display_data"
    },
    {
     "name": "stdout",
     "text": "1 31\n2 566\n3 42\n4 503\n5 44\n6 303\n7 32\n8 201\n9 24\n10 140\n11 24\n12 113\n13 16\n14 86\n15 13\n16 66\n17 8\n18 48\n19 11\n20 46\n21 10\n22 40\n23 5\n24 29\n25 6\n26 32\n27 11\n28 26\n29 7\n30 27\n31 6\n32 23\n33 7\n34 19\n35 6\n36 23\n37 3\n38 10\n39 4\n40 17\n41 6\n42 16\n43 4\n44 8\n45 3\n46 11\n47 2\n48 12\n49 2\n50 4\n51 4\n52 8\n54 6\n55 4\n56 10\n57 4\n58 12\n60 6\n61 3\n62 7\n63 4\n64 5\n65 1\n66 13\n67 2\n68 4\n69 8\n70 6\n71 4\n72 6\n74 4\n75 3\n76 6\n77 3\n78 4\n79 3\n80 3\n81 4\n82 2\n83 5\n84 5\n85 3\n86 6\n87 1\n88 3\n89 2\n90 7\n91 3\n92 3\n93 2\n94 4\n95 4\n97 3\n98 3\n99 2\n100 3\n101 2\n102 2\n103 3\n104 4\n105 1\n106 5\n107 1\n108 2\n110 2\n111 2\n112 2\n114 4\n116 4\n117 3\n118 2\n119 1\n120 3\n121 2\n122 1\n124 1\n125 2\n126 1\n127 1\n128 6\n129 3\n131 3\n132 1\n133 2\n134 4\n135 2\n136 1\n138 2\n139 1\n140 1\n143 1\n145 2\n148 2\n149 3\n150 1\n152 2\n154 1\n158 4\n159 1\n160 4\n161 2\n162 4\n163 1\n164 1\n165 2\n167 2\n168 5\n169 4\n170 2\n172 1\n174 3\n175 1\n176 1\n179 1\n182 1\n183 1\n185 2\n188 1\n189 1\n190 1\n191 1\n192 2\n194 1\n195 1\n196 1\n197 1\n198 1\n199 1\n200 1\n201 1\n202 4\n203 1\n204 2\n211 1\n212 2\n213 1\n214 2\n215 1\n216 1\n217 1\n218 2\n219 1\n221 1\n226 1\n227 1\n228 3\n230 1\n233 3\n237 2\n238 1\n240 1\n245 1\n248 1\n249 1\n253 1\n258 1\n259 1\n261 1\n264 1\n265 1\n266 1\n267 1\n268 1\n269 1\n270 1\n271 2\n272 1\n273 2\n274 1\n276 1\n278 1\n279 1\n286 1\n290 2\n294 1\n301 1\n304 1\n306 2\n307 1\n311 1\n314 1\n315 2\n316 1\n318 2\n320 1\n321 1\n329 1\n330 1\n343 1\n348 1\n361 2\n367 2\n371 1\n372 2\n374 1\n375 1\n376 1\n377 1\n386 3\n387 1\n388 1\n397 1\n402 2\n403 1\n407 1\n410 2\n414 1\n418 1\n424 1\n430 1\n433 1\n435 1\n439 1\n442 1\n457 1\n460 1\n461 1\n473 1\n475 1\n483 1\n485 1\n494 1\n498 1\n499 1\n505 1\n506 2\n510 1\n517 1\n525 1\n536 1\n541 1\n548 1\n561 1\n570 1\n575 1\n576 1\n600 1\n616 1\n627 1\n631 1\n636 1\n645 1\n646 1\n654 1\n661 1\n662 1\n663 1\n698 1\n708 2\n711 1\n728 1\n733 1\n734 1\n736 1\n783 1\n814 1\n817 1\n903 1\n911 1\n936 1\n986 1\n990 1\n1041 1\n1047 1\n1061 1\n1108 1\n1826 1\n",
     "output_type": "stream"
    }
   ],
   "execution_count": 67
  },
  {
   "cell_type": "markdown",
   "source": "",
   "metadata": {
    "tags": [],
    "cell_id": "00013-a4701f35-5ffe-408b-ae50-a0e1dc2c0df3",
    "deepnote_cell_type": "markdown"
   }
  },
  {
   "cell_type": "code",
   "metadata": {
    "tags": [],
    "cell_id": "00006-6178d051-7f69-47eb-a1d6-020e327e63d3",
    "deepnote_to_be_reexecuted": true,
    "source_hash": "5578a3e3",
    "execution_start": 1632750739081,
    "execution_millis": 33,
    "deepnote_cell_type": "code"
   },
   "source": "#plane types explored \nfrom collections import Counter\nequipment=[]\nfor i in pd_edges[\" equipment\"]:\n    possible=str(i).split()\n    for j in possible:\n        equipment.append(j)\nunique_equipment_count=Counter(equipment)\nunique_equipment=pd.DataFrame(set(equipment))\nprint(\"Amount of each plane type\",unique_equipment_count)\nprint(\"Unique plane types\",set(equipment))\n#print(Counter(pd_edges[\" equipment\"])) nope\n\n",
   "outputs": [
    {
     "name": "stdout",
     "text": "Amount of each plane type Counter({'320': 15400, '738': 10344, '319': 7847, '321': 3662, '73H': 3343, '737': 2753, '73W': 2492, 'CRJ': 2224, 'E90': 1968, 'AT7': 1595, '333': 1585, '73G': 1584, '332': 1439, 'DH4': 1387, '733': 1283, '763': 1183, 'CR7': 1161, '757': 1069, 'CR9': 1011, 'ER4': 989, 'ERJ': 947, '777': 945, '77W': 908, '330': 903, '739': 868, 'E70': 864, 'DH8': 785, 'M88': 725, '735': 705, 'E75': 701, 'M80': 656, '772': 633, 'ATR': 626, '73C': 623, '717': 614, '752': 604, '744': 599, '100': 590, '343': 490, 'DH3': 484, 'SF3': 475, '767': 461, '734': 460, 'CR2': 458, 'E95': 457, 'M90': 416, 'ERD': 415, '32S': 383, '773': 370, '736': 364, 'M83': 361, 'DHT': 354, '32A': 315, '75W': 311, 'DH1': 305, 'BEH': 290, '788': 287, 'AT4': 269, 'CNA': 266, 'CNC': 258, 'AT5': 256, '318': 253, 'BE1': 237, '310': 225, '346': 222, '388': 214, 'EM2': 214, '76W': 196, 'EMJ': 195, 'DH2': 187, 'F70': 175, 'AR1': 162, 'M82': 160, 'CRK': 159, '764': 153, '77L': 151, '73J': 145, '753': 143, 'F50': 134, 'S20': 113, '787': 106, 'AR8': 105, 'J41': 104, 'AB6': 102, '340': 96, 'SWM': 91, 'L4T': 91, 'J32': 84, 'ER3': 83, '313': 82, 'AN4': 82, '747': 62, '74E': 61, 'BNI': 61, 'SU9': 60, '732': 55, 'FRJ': 53, 'D38': 52, 'J31': 49, '73M': 47, '345': 47, '762': 46, 'PL2': 44, 'EMB': 44, 'ATP': 41, '73Q': 41, 'CRA': 38, '74M': 38, 'YN2': 38, '146': 35, 'A81': 35, 'PAG': 34, 'CNT': 34, 'BEC': 30, '380': 28, '342': 28, 'PA2': 28, '32B': 26, 'YK2': 26, 'YN7': 26, 'AB4': 24, '143': 22, '74H': 22, 'SFB': 20, '73N': 20, 'DC9': 20, 'BET': 19, 'nan': 18, 'T20': 18, 'BH2': 16, 'A58': 16, 'M87': 14, 'BNT': 14, 'D93': 14, 'A40': 14, 'DH7': 13, 'TU3': 13, 'TU5': 12, 'I14': 12, 'DHP': 11, '73R': 10, 'BE9': 10, '142': 10, 'IL9': 9, 'CN1': 9, '75T': 8, 'M11': 8, 'ARJ': 8, 'D28': 8, 'D1C': 8, 'F28': 7, '32C': 6, 'SH6': 6, '74L': 6, 'CNJ': 4, 'CN2': 4, '141': 4, 'MA6': 4, 'YK4': 4, '33X': 3, '74Y': 3, '76F': 2, 'M1F': 2, 'PA1': 2, '74N': 2, 'S76': 2, 'NDE': 2, '77X': 1})\nUnique plane types {'E95', 'M1F', 'MA6', 'DC9', 'E70', '318', '739', 'SWM', '345', 'BET', 'E75', '762', 'PAG', '737', '734', '747', '32B', '73W', '773', '74H', '388', '313', 'D38', 'I14', '73M', 'DH7', '738', 'CN2', 'DH4', 'CRJ', '340', 'TU3', 'EM2', '143', 'YN2', 'YN7', 'M82', 'ARJ', 'PA1', '74N', '73G', 'D93', '33X', 'ER4', 'F70', '767', 'BEC', 'J32', 'T20', '74M', 'M80', 'ERD', '717', 'DH3', 'CRK', 'BE1', 'D1C', 'J31', 'nan', '733', 'AT4', '332', 'YK4', 'CR2', 'EMJ', '752', '744', 'A40', '787', '76W', 'M83', 'ER3', 'CN1', '343', '320', '736', 'SFB', 'PA2', 'AR8', 'AT5', 'F50', '753', '772', '788', '319', 'F28', 'DHP', '735', 'ATR', 'BNT', '321', '73J', '32S', 'BE9', 'BH2', '75W', '100', 'BEH', 'CRA', 'ATP', 'AR1', 'CR9', '73N', '757', 'AB4', 'IL9', '76F', 'J41', '75T', 'DHT', 'M88', 'EMB', '73C', 'A81', 'CNA', 'CNJ', 'E90', 'FRJ', '77X', '333', 'SF3', 'PL2', '142', '32A', 'ERJ', 'TU5', 'YK2', '310', 'A58', '380', 'AN4', '74Y', 'AT7', '141', '342', 'CR7', 'AB6', 'BNI', '777', 'S20', 'CNT', '74E', 'DH1', 'SU9', 'M90', 'M11', '73H', '74L', 'DH8', '764', '763', 'M87', '73R', 'SH6', 'DH2', '732', '330', 'D28', 'L4T', '146', '32C', '346', 'CNC', '77L', 'NDE', '77W', 'S76', '73Q'}\n",
     "output_type": "stream"
    }
   ],
   "execution_count": null
  },
  {
   "cell_type": "code",
   "metadata": {
    "tags": [],
    "cell_id": "00007-1d2a267d-fe87-4c90-bc62-76d396742d22",
    "deepnote_to_be_reexecuted": true,
    "source_hash": "b623e53d",
    "deepnote_cell_type": "code"
   },
   "source": "",
   "outputs": [],
   "execution_count": null
  },
  {
   "cell_type": "code",
   "metadata": {
    "tags": [],
    "cell_id": "00007-e3ff8f58-0dca-46af-8d64-e22abb503474",
    "deepnote_to_be_reexecuted": true,
    "source_hash": "9c9e2cb0",
    "execution_start": 1632749014180,
    "execution_millis": 3,
    "deepnote_cell_type": "code"
   },
   "source": "\nunique_equipment.to_csv(\"./network/planes.csv\", sep='\\t',index=False)",
   "outputs": [],
   "execution_count": null
  },
  {
   "cell_type": "code",
   "metadata": {
    "tags": [],
    "cell_id": "00004-d475bd4c-44c7-4f0c-96de-f24f6b0398ce",
    "deepnote_to_be_reexecuted": true,
    "source_hash": "a3956d42",
    "execution_start": 1632746180454,
    "execution_millis": 51747,
    "deepnote_cell_type": "code"
   },
   "source": "nx.draw(G,node_size=0.4)\nplt.show()",
   "outputs": [
    {
     "data": {
      "text/plain": "<Figure size 432x288 with 1 Axes>",
      "image/png": "[encoded data removed]"
     },
     "metadata": {
      "image/png": {
       "width": 446,
       "height": 302
      }
     },
     "output_type": "display_data"
    }
   ],
   "execution_count": null
  },
  {
   "cell_type": "code",
   "metadata": {
    "tags": [],
    "cell_id": "00005-749b1b91-a4ba-4404-9392-ce5c81accf6b",
    "deepnote_to_be_reexecuted": true,
    "source_hash": "7e5cf17c",
    "execution_start": 1632744863737,
    "execution_millis": 2544,
    "deepnote_cell_type": "code"
   },
   "source": "!pip install python-igraph",
   "outputs": [
    {
     "name": "stdout",
     "text": "Requirement already satisfied: python-igraph in /root/venv/lib/python3.9/site-packages (0.9.6)\r\nRequirement already satisfied: texttable>=1.6.2 in /root/venv/lib/python3.9/site-packages (from python-igraph) (1.6.4)\r\n",
     "output_type": "stream"
    }
   ],
   "execution_count": null
  },
  {
   "cell_type": "code",
   "metadata": {
    "tags": [],
    "cell_id": "00006-7fbaaebf-ea8e-4b97-b89d-301232a5a662",
    "deepnote_to_be_reexecuted": true,
    "source_hash": "b623e53d",
    "execution_start": 1632744866283,
    "execution_millis": 7,
    "deepnote_cell_type": "code"
   },
   "source": "",
   "outputs": [],
   "execution_count": null
  },
  {
   "cell_type": "markdown",
   "source": "<a style='text-decoration:none;line-height:16px;display:flex;color:#5B5B62;padding:10px;justify-content:end;' href='https://deepnote.com?utm_source=created-in-deepnote-cell&projectId=30c69275-ad4c-4319-be77-065d0edffda8' target=\"_blank\">\n<img alt='Created in deepnote.com' style='display:inline;max-height:16px;margin:0px;margin-right:7.5px;' src='data:image/svg+xml;base64,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' > </img>\nCreated in <span style='font-weight:600;margin-left:4px;'>Deepnote</span></a>",
   "metadata": {
    "tags": [],
    "created_in_deepnote_cell": true,
    "deepnote_cell_type": "markdown"
   }
  }
 ],
 "nbformat": 4,
 "nbformat_minor": 2,
 "metadata": {
  "orig_nbformat": 2,
  "deepnote": {
   "is_reactive": false
  },
  "deepnote_notebook_id": "8ca952b0-c3e4-4d5c-9ee8-7e731917d767",
  "deepnote_execution_queue": []
 }
}