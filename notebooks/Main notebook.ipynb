{
 "cells": [
  {
   "cell_type": "markdown",
   "source": "## Thoughts\n### Simplify the network\n- Number of people on the airplane\n- If a node has two egdes to the same node, we can merge them into one\n- Cut off dead ends (Airports with no return)\n- Merge airports that go from the same City. Example: JFK and NLI Airport\n- Should airports have a certain amount of flights between airports before they are relevant?\n- How many people does the average plane seat? Should we assume that planes with a shorter flight have fewer passengers and planes with a longer flight have more passengers.\n- How often does a plane fly?\n\n### How should the disease spread\n- The number of airplanes leaving the airport should be equal to number of iterations for the specific airport.\n- Probability for an infected person to travel with an airplane\n- How much does the disease spread? For example, about 1/10 people in contact with the infected person gets the disease.\n\n\n",
   "metadata": {
    "tags": [],
    "cell_id": "00000-50cefd47-9bc8-48be-a652-6cc7b8e68854",
    "deepnote_cell_type": "markdown"
   }
  },
  {
   "cell_type": "markdown",
   "source": "## Brief network description\n\nWe are working with an openflights airport network from icon.colorado.edu. which is a weighted, directed, multigraph, network where the nodes represent airports worldwide and the direction of edge {i,j} indicates a regularly occurring commercial flight, by a particular airline from airport i to airport j. Multiple edges may exist between pairs of airports if multiple airlines offer that flight, or if one airline offers multiple such flights each day. The  number of nodes is: 3214 and the  number of edges is: 18859.\nhttps://networks.skewed.de/net/openflights\n",
   "metadata": {
    "tags": [],
    "cell_id": "00000-22ec26aa-75b7-4f52-8bce-ae76449909a6",
    "deepnote_cell_type": "markdown"
   }
  },
  {
   "cell_type": "code",
   "metadata": {
    "tags": [],
    "cell_id": "00000-ce272a5f-b7ee-43cc-a2e7-35bb98eb8ef6",
    "deepnote_to_be_reexecuted": false,
    "source_hash": "df5cbb4d",
    "execution_start": 1637090569546,
    "execution_millis": 25050,
    "is_output_hidden": true,
    "deepnote_cell_type": "code"
   },
   "source": "!pip install networkx\n!pip install powerlaw\n!pip install python-louvain\n!pip install python-igraph\n!pip install mpl_toolkits\n!pip install shapely",
   "execution_count": 47,
   "outputs": [
    {
     "name": "stdout",
     "text": "Requirement already satisfied: networkx in /root/venv/lib/python3.7/site-packages (2.6.3)\n\u001b[33mWARNING: You are using pip version 20.1.1; however, version 21.3.1 is available.\nYou should consider upgrading via the '/root/venv/bin/python -m pip install --upgrade pip' command.\u001b[0m\nRequirement already satisfied: powerlaw in /root/venv/lib/python3.7/site-packages (1.5)\nRequirement already satisfied: matplotlib in /shared-libs/python3.7/py/lib/python3.7/site-packages (from powerlaw) (3.4.3)\nRequirement already satisfied: numpy in /shared-libs/python3.7/py/lib/python3.7/site-packages (from powerlaw) (1.19.5)\nRequirement already satisfied: mpmath in /shared-libs/python3.7/py/lib/python3.7/site-packages (from powerlaw) (1.2.1)\nRequirement already satisfied: scipy in /shared-libs/python3.7/py/lib/python3.7/site-packages (from powerlaw) (1.7.2)\nRequirement already satisfied: python-dateutil>=2.7 in /shared-libs/python3.7/py-core/lib/python3.7/site-packages (from matplotlib->powerlaw) (2.8.2)\nRequirement already satisfied: kiwisolver>=1.0.1 in /shared-libs/python3.7/py/lib/python3.7/site-packages (from matplotlib->powerlaw) (1.3.2)\nRequirement already satisfied: cycler>=0.10 in /shared-libs/python3.7/py/lib/python3.7/site-packages (from matplotlib->powerlaw) (0.11.0)\nRequirement already satisfied: pyparsing>=2.2.1 in /shared-libs/python3.7/py-core/lib/python3.7/site-packages (from matplotlib->powerlaw) (2.4.7)\nRequirement already satisfied: pillow>=6.2.0 in /shared-libs/python3.7/py/lib/python3.7/site-packages (from matplotlib->powerlaw) (8.4.0)\nRequirement already satisfied: six>=1.5 in /shared-libs/python3.7/py-core/lib/python3.7/site-packages (from python-dateutil>=2.7->matplotlib->powerlaw) (1.16.0)\n\u001b[33mWARNING: You are using pip version 20.1.1; however, version 21.3.1 is available.\nYou should consider upgrading via the '/root/venv/bin/python -m pip install --upgrade pip' command.\u001b[0m\nRequirement already satisfied: python-louvain in /root/venv/lib/python3.7/site-packages (0.15)\nRequirement already satisfied: numpy in /shared-libs/python3.7/py/lib/python3.7/site-packages (from python-louvain) (1.19.5)\nRequirement already satisfied: networkx in /root/venv/lib/python3.7/site-packages (from python-louvain) (2.6.3)\n\u001b[33mWARNING: You are using pip version 20.1.1; however, version 21.3.1 is available.\nYou should consider upgrading via the '/root/venv/bin/python -m pip install --upgrade pip' command.\u001b[0m\nRequirement already satisfied: python-igraph in /root/venv/lib/python3.7/site-packages (0.9.8)\nRequirement already satisfied: igraph==0.9.8 in /root/venv/lib/python3.7/site-packages (from python-igraph) (0.9.8)\nRequirement already satisfied: texttable>=1.6.2 in /root/venv/lib/python3.7/site-packages (from igraph==0.9.8->python-igraph) (1.6.4)\n\u001b[33mWARNING: You are using pip version 20.1.1; however, version 21.3.1 is available.\nYou should consider upgrading via the '/root/venv/bin/python -m pip install --upgrade pip' command.\u001b[0m\n\u001b[31mERROR: Could not find a version that satisfies the requirement mpl_toolkits (from versions: none)\u001b[0m\n\u001b[31mERROR: No matching distribution found for mpl_toolkits\u001b[0m\n\u001b[33mWARNING: You are using pip version 20.1.1; however, version 21.3.1 is available.\nYou should consider upgrading via the '/root/venv/bin/python -m pip install --upgrade pip' command.\u001b[0m\nCollecting shapely\n  Downloading Shapely-1.8.0-cp37-cp37m-manylinux_2_5_x86_64.manylinux1_x86_64.whl (1.1 MB)\n\u001b[K     |████████████████████████████████| 1.1 MB 31.4 MB/s \n\u001b[?25hInstalling collected packages: shapely\nSuccessfully installed shapely-1.8.0\n\u001b[33mWARNING: You are using pip version 20.1.1; however, version 21.3.1 is available.\nYou should consider upgrading via the '/root/venv/bin/python -m pip install --upgrade pip' command.\u001b[0m\n",
     "output_type": "stream"
    }
   ]
  },
  {
   "cell_type": "markdown",
   "source": "## Imports and Reading in our data",
   "metadata": {
    "tags": [],
    "cell_id": "00003-dea93952-f7f8-442a-b3f8-bb378d5e5c93",
    "deepnote_cell_type": "markdown"
   }
  },
  {
   "cell_type": "code",
   "metadata": {
    "tags": [],
    "cell_id": "00000-1c7ee476-631c-4cdf-9546-2d6766570441",
    "deepnote_to_be_reexecuted": false,
    "source_hash": "a9003221",
    "execution_start": 1637090594607,
    "execution_millis": 216,
    "deepnote_cell_type": "code"
   },
   "source": "import networkx as nx\nimport pandas as pd\nimport matplotlib.pyplot as plt\nimport collections\nfrom collections import Counter\nimport powerlaw # Power laws are probability distributions with the form:p(x)∝x−α\nimport numpy as np\n#from mpl_toolkits.basemap import Basemap wont work ?\nimport matplotlib.pyplot as plt\nimport networkx as nx\nimport mpl_toolkits\n\nimport folium\nfrom shapely.geometry import Point, MultiPoint, LineString, MultiLineString, Polygon, MultiPolygon\nfrom folium.plugins import HeatMap, MarkerCluster\nfrom folium import plugins",
   "execution_count": 48,
   "outputs": []
  },
  {
   "cell_type": "code",
   "metadata": {
    "tags": [],
    "cell_id": "00000-3bd4d806-475a-45e2-a535-bf1a95c7025a",
    "deepnote_to_be_reexecuted": false,
    "source_hash": "1830d501",
    "execution_start": 1637089361857,
    "execution_millis": 156,
    "deepnote_cell_type": "code"
   },
   "source": "nodes = '../network/nodes.csv'\nedges = \"../network/edges.csv\"\n\npd_nodes = pd.read_csv(nodes, sep=\",\")\npd_edges = pd.read_csv(edges, sep=\",\")\npd_edges.columns ",
   "execution_count": 3,
   "outputs": [
    {
     "output_type": "execute_result",
     "execution_count": 3,
     "data": {
      "text/plain": "Index(['# source', ' target', ' distance', ' airline', ' airline_code',\n       ' codeshare', ' equipment', ' stops'],\n      dtype='object')"
     },
     "metadata": {}
    }
   ]
  },
  {
   "cell_type": "code",
   "metadata": {
    "tags": [],
    "cell_id": "00003-db7e7740-7321-42ca-9150-6b77d30ec96e",
    "deepnote_to_be_reexecuted": false,
    "source_hash": "ec78a5e8",
    "execution_start": 1637089362022,
    "execution_millis": 1028,
    "deepnote_cell_type": "code"
   },
   "source": "G =nx.from_pandas_edgelist(pd_edges,source='# source', target=' target', create_using = nx.MultiDiGraph)\nprint(nx.info(G))\n#DiGraph = Directed graph without parallel edges and self loops\n#MultiDiGraph = Directed graph with parallel edges and self loops",
   "execution_count": 4,
   "outputs": [
    {
     "name": "stdout",
     "text": "MultiDiGraph with 3214 nodes and 66771 edges\n",
     "output_type": "stream"
    }
   ]
  },
  {
   "cell_type": "markdown",
   "source": "## Basic Network statistics - Exploratory data analysis\n- Is it one fully connected component?\n- Isolated nodes\n- Is there any cycles?\n- Is there any self loops? \n- Degree distribution plot and the cumulative distribution plot\n- Does it follow the power law\n- Calculate the density\n- Global clustestering coefficient and average clustering coefficient\n- Diameter and average diameter\n- Path length distribution \n- Closeness and betweenness \n- Reach centrality ",
   "metadata": {
    "tags": [],
    "cell_id": "00007-e16b01da-9240-4946-959f-a2cae9b6b98f",
    "deepnote_cell_type": "markdown"
   }
  },
  {
   "cell_type": "markdown",
   "source": "### Connected Components",
   "metadata": {
    "tags": [],
    "is_collapsed": false,
    "cell_id": "00008-44ca1304-c6bf-413e-bb76-6510a62c6c11",
    "deepnote_cell_type": "text-cell-h3"
   }
  },
  {
   "cell_type": "code",
   "metadata": {
    "tags": [],
    "cell_id": "00007-752804e1-a776-4a3e-bf0e-c9d6f23a2ed7",
    "deepnote_to_be_reexecuted": false,
    "source_hash": "faf8c91a",
    "execution_start": 1637089363052,
    "execution_millis": 201,
    "deepnote_cell_type": "code"
   },
   "source": "#connected components\n# - Strong connectivity = When there is a path from every node to every other node --> taking into account directions (subgraph)\n# - Weak connectivity = When there is a path from every node to every other node not taking into account the directions\nprint(nx.number_strongly_connected_components(G))\nprint(nx.number_weakly_connected_components(G))\n#for i in nx.weakly_connected_components(G):\n#    print(i)\n#for i in nx.strongly_connected_components(G):\n#    print(i)",
   "execution_count": 5,
   "outputs": [
    {
     "name": "stdout",
     "text": "48\n7\n",
     "output_type": "stream"
    }
   ]
  },
  {
   "cell_type": "markdown",
   "source": "### Isolated nodes",
   "metadata": {
    "tags": [],
    "is_collapsed": false,
    "cell_id": "00010-1c9dae21-6df6-4d8c-bdad-cdea0103c756",
    "deepnote_cell_type": "text-cell-h3"
   }
  },
  {
   "cell_type": "code",
   "metadata": {
    "tags": [],
    "cell_id": "00008-fc51d358-a3cc-4953-a141-dbe4d5864864",
    "deepnote_to_be_reexecuted": false,
    "source_hash": "b6f755eb",
    "execution_start": 1637089363255,
    "execution_millis": 54,
    "deepnote_cell_type": "code"
   },
   "source": "## Find isolated nodes:\nfor i in nx.isolates(G):\n    print(i)\n# There are not isolated nodes\nprint(\"There are no isolated nodes\")",
   "execution_count": 6,
   "outputs": [
    {
     "name": "stdout",
     "text": "There are no isolated nodes\n",
     "output_type": "stream"
    }
   ]
  },
  {
   "cell_type": "markdown",
   "source": "### Cycles",
   "metadata": {
    "tags": [],
    "is_collapsed": false,
    "cell_id": "00012-7cf157aa-6e53-4b2d-ae50-00529152c5d2",
    "deepnote_cell_type": "text-cell-h3"
   }
  },
  {
   "cell_type": "code",
   "metadata": {
    "tags": [],
    "cell_id": "00009-ebbb6c45-07fd-4fd8-a690-93df4267cae3",
    "deepnote_to_be_reexecuted": false,
    "source_hash": "7365186c",
    "execution_start": 1637089363318,
    "execution_millis": 43,
    "deepnote_cell_type": "code"
   },
   "source": "# Find Cycles\n#https://groups.google.com/g/networkx-discuss/c/6FiQy-cxsBM for some insight into why this might not be possible\nD = nx.DiGraph([(0, 1), (2, 0), (1, 2),(2,1)])\ncycle= nx.simple_cycles(G)\n#cycle = pd.DataFrame(list(cycle))\n#print(cycle)\n#cycle.to_csv(\"../network/cycles.csv\", sep='\\t',index=False)\n##for i in cycle:\n#   print(i)\n",
   "execution_count": 7,
   "outputs": []
  },
  {
   "cell_type": "code",
   "metadata": {
    "tags": [],
    "cell_id": "00014-4c7f1481-0ea5-41f0-9ee4-a7ab9c7e2d12",
    "deepnote_to_be_reexecuted": false,
    "source_hash": "f115590c",
    "execution_start": 1637089363370,
    "execution_millis": 13,
    "deepnote_cell_type": "code"
   },
   "source": "#the code works but creates a document over 5gb (which deepnote refuses to store) so its a bit unreasonable to calculate i think\n#with open(\"../network/cycles.csv\", \"w\") as filename:\n#  for i in cycle:\n#    filename.write(f'{i}\\n')",
   "execution_count": 8,
   "outputs": []
  },
  {
   "cell_type": "markdown",
   "source": "### Self loops",
   "metadata": {
    "tags": [],
    "is_collapsed": false,
    "cell_id": "00014-f7a6ab2b-ab8d-435c-8f13-56f70a9bf191",
    "deepnote_cell_type": "text-cell-h3"
   }
  },
  {
   "cell_type": "code",
   "metadata": {
    "tags": [],
    "cell_id": "00010-2542f41b-d92e-47b4-a2fa-ac95c1e38f9e",
    "deepnote_to_be_reexecuted": false,
    "source_hash": "75406c77",
    "execution_start": 1637089363389,
    "execution_millis": 57,
    "deepnote_cell_type": "code"
   },
   "source": "#Find self loops\nnx.number_of_selfloops(G)\nfor i in nx.selfloop_edges(G):\n    print(\"There is one self loop which can be found at node:\", i)",
   "execution_count": 9,
   "outputs": [
    {
     "name": "stdout",
     "text": "There is one self loop which can be found at node: (1931, 1931)\n",
     "output_type": "stream"
    }
   ]
  },
  {
   "cell_type": "code",
   "metadata": {
    "tags": [],
    "cell_id": "00011-d94aae2f-fd43-494c-9280-40b1c301c037",
    "deepnote_to_be_reexecuted": false,
    "source_hash": "d82c43a",
    "execution_start": 1637089363454,
    "execution_millis": 164,
    "deepnote_cell_type": "code"
   },
   "source": "#the source and target reference the index of the pd_nodes df\npd_edges[pd_edges[\"# source\"]==1931]\n#& pd_edges[\" target\"]==1931]]\n#pd_nodes[pd_nodes[\"# index\"]==1931]",
   "execution_count": 10,
   "outputs": [
    {
     "output_type": "execute_result",
     "execution_count": 10,
     "data": {
      "application/vnd.deepnote.dataframe.v2+json": {
       "row_count": 7,
       "column_count": 8,
       "columns": [
        {
         "name": "# source",
         "dtype": "int64",
         "stats": {
          "unique_count": 1,
          "nan_count": 0,
          "min": "1931",
          "max": "1931",
          "histogram": [
           {
            "bin_start": 1930.5,
            "bin_end": 1930.6,
            "count": 0
           },
           {
            "bin_start": 1930.6,
            "bin_end": 1930.7,
            "count": 0
           },
           {
            "bin_start": 1930.7,
            "bin_end": 1930.8,
            "count": 0
           },
           {
            "bin_start": 1930.8,
            "bin_end": 1930.9,
            "count": 0
           },
           {
            "bin_start": 1930.9,
            "bin_end": 1931,
            "count": 0
           },
           {
            "bin_start": 1931,
            "bin_end": 1931.1,
            "count": 7
           },
           {
            "bin_start": 1931.1,
            "bin_end": 1931.2,
            "count": 0
           },
           {
            "bin_start": 1931.2,
            "bin_end": 1931.3,
            "count": 0
           },
           {
            "bin_start": 1931.3,
            "bin_end": 1931.4,
            "count": 0
           },
           {
            "bin_start": 1931.4,
            "bin_end": 1931.5,
            "count": 0
           }
          ]
         }
        },
        {
         "name": " target",
         "dtype": "int64",
         "stats": {
          "unique_count": 7,
          "nan_count": 0,
          "min": "1589",
          "max": "1942",
          "histogram": [
           {
            "bin_start": 1589,
            "bin_end": 1624.3,
            "count": 2
           },
           {
            "bin_start": 1624.3,
            "bin_end": 1659.6,
            "count": 0
           },
           {
            "bin_start": 1659.6,
            "bin_end": 1694.9,
            "count": 0
           },
           {
            "bin_start": 1694.9,
            "bin_end": 1730.2,
            "count": 0
           },
           {
            "bin_start": 1730.2,
            "bin_end": 1765.5,
            "count": 0
           },
           {
            "bin_start": 1765.5,
            "bin_end": 1800.8,
            "count": 0
           },
           {
            "bin_start": 1800.8,
            "bin_end": 1836.1,
            "count": 0
           },
           {
            "bin_start": 1836.1,
            "bin_end": 1871.4,
            "count": 0
           },
           {
            "bin_start": 1871.4,
            "bin_end": 1906.7,
            "count": 0
           },
           {
            "bin_start": 1906.7,
            "bin_end": 1942,
            "count": 5
           }
          ]
         }
        },
        {
         "name": " distance",
         "dtype": "float64",
         "stats": {
          "unique_count": 7,
          "nan_count": 0,
          "min": "0.0",
          "max": "673.9496168483794",
          "histogram": [
           {
            "bin_start": 0,
            "bin_end": 67.39496168483794,
            "count": 1
           },
           {
            "bin_start": 67.39496168483794,
            "bin_end": 134.78992336967588,
            "count": 0
           },
           {
            "bin_start": 134.78992336967588,
            "bin_end": 202.1848850545138,
            "count": 0
           },
           {
            "bin_start": 202.1848850545138,
            "bin_end": 269.57984673935175,
            "count": 1
           },
           {
            "bin_start": 269.57984673935175,
            "bin_end": 336.9748084241897,
            "count": 0
           },
           {
            "bin_start": 336.9748084241897,
            "bin_end": 404.3697701090276,
            "count": 1
           },
           {
            "bin_start": 404.3697701090276,
            "bin_end": 471.76473179386556,
            "count": 0
           },
           {
            "bin_start": 471.76473179386556,
            "bin_end": 539.1596934787035,
            "count": 2
           },
           {
            "bin_start": 539.1596934787035,
            "bin_end": 606.5546551635414,
            "count": 1
           },
           {
            "bin_start": 606.5546551635414,
            "bin_end": 673.9496168483794,
            "count": 1
           }
          ]
         }
        },
        {
         "name": " airline",
         "dtype": "object",
         "stats": {
          "unique_count": 1,
          "nan_count": 0,
          "categories": [
           {
            "name": "IL",
            "count": 7
           }
          ]
         }
        },
        {
         "name": " airline_code",
         "dtype": "object",
         "stats": {
          "unique_count": 1,
          "nan_count": 0,
          "categories": [
           {
            "name": "10121",
            "count": 7
           }
          ]
         }
        },
        {
         "name": " codeshare",
         "dtype": "int64",
         "stats": {
          "unique_count": 1,
          "nan_count": 0,
          "min": "0",
          "max": "0",
          "histogram": [
           {
            "bin_start": -0.5,
            "bin_end": -0.4,
            "count": 0
           },
           {
            "bin_start": -0.4,
            "bin_end": -0.3,
            "count": 0
           },
           {
            "bin_start": -0.3,
            "bin_end": -0.19999999999999996,
            "count": 0
           },
           {
            "bin_start": -0.19999999999999996,
            "bin_end": -0.09999999999999998,
            "count": 0
           },
           {
            "bin_start": -0.09999999999999998,
            "bin_end": 0,
            "count": 0
           },
           {
            "bin_start": 0,
            "bin_end": 0.10000000000000009,
            "count": 7
           },
           {
            "bin_start": 0.10000000000000009,
            "bin_end": 0.20000000000000007,
            "count": 0
           },
           {
            "bin_start": 0.20000000000000007,
            "bin_end": 0.30000000000000004,
            "count": 0
           },
           {
            "bin_start": 0.30000000000000004,
            "bin_end": 0.4,
            "count": 0
           },
           {
            "bin_start": 0.4,
            "bin_end": 0.5,
            "count": 0
           }
          ]
         }
        },
        {
         "name": " equipment",
         "dtype": "object",
         "stats": {
          "unique_count": 4,
          "nan_count": 0,
          "categories": [
           {
            "name": "AT7",
            "count": 3
           },
           {
            "name": "737",
            "count": 2
           },
           {
            "name": "2 others",
            "count": 2
           }
          ]
         }
        },
        {
         "name": " stops",
         "dtype": "int64",
         "stats": {
          "unique_count": 1,
          "nan_count": 0,
          "min": "0",
          "max": "0",
          "histogram": [
           {
            "bin_start": -0.5,
            "bin_end": -0.4,
            "count": 0
           },
           {
            "bin_start": -0.4,
            "bin_end": -0.3,
            "count": 0
           },
           {
            "bin_start": -0.3,
            "bin_end": -0.19999999999999996,
            "count": 0
           },
           {
            "bin_start": -0.19999999999999996,
            "bin_end": -0.09999999999999998,
            "count": 0
           },
           {
            "bin_start": -0.09999999999999998,
            "bin_end": 0,
            "count": 0
           },
           {
            "bin_start": 0,
            "bin_end": 0.10000000000000009,
            "count": 7
           },
           {
            "bin_start": 0.10000000000000009,
            "bin_end": 0.20000000000000007,
            "count": 0
           },
           {
            "bin_start": 0.20000000000000007,
            "bin_end": 0.30000000000000004,
            "count": 0
           },
           {
            "bin_start": 0.30000000000000004,
            "bin_end": 0.4,
            "count": 0
           },
           {
            "bin_start": 0.4,
            "bin_end": 0.5,
            "count": 0
           }
          ]
         }
        },
        {
         "name": "_deepnote_index_column",
         "dtype": "int64"
        }
       ],
       "rows_top": [
        {
         "# source": 1931,
         " target": 1930,
         " distance": 352.8622747244669,
         " airline": "IL",
         " airline_code": "10121",
         " codeshare": 0,
         " equipment": "AT7",
         " stops": 0,
         "_deepnote_index_column": 57358
        },
        {
         "# source": 1931,
         " target": 1589,
         " distance": 673.9496168483794,
         " airline": "IL",
         " airline_code": "10121",
         " codeshare": 0,
         " equipment": "737",
         " stops": 0,
         "_deepnote_index_column": 57359
        },
        {
         "# source": 1931,
         " target": 1590,
         " distance": 214.21565462881173,
         " airline": "IL",
         " airline_code": "10121",
         " codeshare": 0,
         " equipment": "AT7 737",
         " stops": 0,
         "_deepnote_index_column": 57360
        },
        {
         "# source": 1931,
         " target": 1931,
         " distance": 0,
         " airline": "IL",
         " airline_code": "10121",
         " codeshare": 0,
         " equipment": "AT7",
         " stops": 0,
         "_deepnote_index_column": 57361
        },
        {
         "# source": 1931,
         " target": 1942,
         " distance": 544.6463480783639,
         " airline": "IL",
         " airline_code": "10121",
         " codeshare": 0,
         " equipment": "AT7",
         " stops": 0,
         "_deepnote_index_column": 57362
        },
        {
         "# source": 1931,
         " target": 1925,
         " distance": 495.9881361336912,
         " airline": "IL",
         " airline_code": "10121",
         " codeshare": 0,
         " equipment": "737 AT7",
         " stops": 0,
         "_deepnote_index_column": 57363
        },
        {
         "# source": 1931,
         " target": 1941,
         " distance": 534.3998824863237,
         " airline": "IL",
         " airline_code": "10121",
         " codeshare": 0,
         " equipment": "737",
         " stops": 0,
         "_deepnote_index_column": 57364
        }
       ],
       "rows_bottom": null
      },
      "text/plain": "       # source   target    distance  airline  airline_code   codeshare  \\\n57358      1931     1930  352.862275       IL         10121           0   \n57359      1931     1589  673.949617       IL         10121           0   \n57360      1931     1590  214.215655       IL         10121           0   \n57361      1931     1931    0.000000       IL         10121           0   \n57362      1931     1942  544.646348       IL         10121           0   \n57363      1931     1925  495.988136       IL         10121           0   \n57364      1931     1941  534.399882       IL         10121           0   \n\n       equipment   stops  \n57358        AT7       0  \n57359        737       0  \n57360    AT7 737       0  \n57361        AT7       0  \n57362        AT7       0  \n57363    737 AT7       0  \n57364        737       0  ",
      "text/html": "<div>\n<style scoped>\n    .dataframe tbody tr th:only-of-type {\n        vertical-align: middle;\n    }\n\n    .dataframe tbody tr th {\n        vertical-align: top;\n    }\n\n    .dataframe thead th {\n        text-align: right;\n    }\n</style>\n<table border=\"1\" class=\"dataframe\">\n  <thead>\n    <tr style=\"text-align: right;\">\n      <th></th>\n      <th># source</th>\n      <th>target</th>\n      <th>distance</th>\n      <th>airline</th>\n      <th>airline_code</th>\n      <th>codeshare</th>\n      <th>equipment</th>\n      <th>stops</th>\n    </tr>\n  </thead>\n  <tbody>\n    <tr>\n      <th>57358</th>\n      <td>1931</td>\n      <td>1930</td>\n      <td>352.862275</td>\n      <td>IL</td>\n      <td>10121</td>\n      <td>0</td>\n      <td>AT7</td>\n      <td>0</td>\n    </tr>\n    <tr>\n      <th>57359</th>\n      <td>1931</td>\n      <td>1589</td>\n      <td>673.949617</td>\n      <td>IL</td>\n      <td>10121</td>\n      <td>0</td>\n      <td>737</td>\n      <td>0</td>\n    </tr>\n    <tr>\n      <th>57360</th>\n      <td>1931</td>\n      <td>1590</td>\n      <td>214.215655</td>\n      <td>IL</td>\n      <td>10121</td>\n      <td>0</td>\n      <td>AT7 737</td>\n      <td>0</td>\n    </tr>\n    <tr>\n      <th>57361</th>\n      <td>1931</td>\n      <td>1931</td>\n      <td>0.000000</td>\n      <td>IL</td>\n      <td>10121</td>\n      <td>0</td>\n      <td>AT7</td>\n      <td>0</td>\n    </tr>\n    <tr>\n      <th>57362</th>\n      <td>1931</td>\n      <td>1942</td>\n      <td>544.646348</td>\n      <td>IL</td>\n      <td>10121</td>\n      <td>0</td>\n      <td>AT7</td>\n      <td>0</td>\n    </tr>\n    <tr>\n      <th>57363</th>\n      <td>1931</td>\n      <td>1925</td>\n      <td>495.988136</td>\n      <td>IL</td>\n      <td>10121</td>\n      <td>0</td>\n      <td>737 AT7</td>\n      <td>0</td>\n    </tr>\n    <tr>\n      <th>57364</th>\n      <td>1931</td>\n      <td>1941</td>\n      <td>534.399882</td>\n      <td>IL</td>\n      <td>10121</td>\n      <td>0</td>\n      <td>737</td>\n      <td>0</td>\n    </tr>\n  </tbody>\n</table>\n</div>"
     },
     "metadata": {}
    }
   ]
  },
  {
   "cell_type": "markdown",
   "source": "",
   "metadata": {
    "tags": [],
    "cell_id": "00017-5e0b15fa-2dca-4679-be3e-d646ff71daa5",
    "deepnote_cell_type": "markdown"
   }
  },
  {
   "cell_type": "markdown",
   "source": "### Degree Distribution &amp; Cumulative Distribution Plots",
   "metadata": {
    "tags": [],
    "is_collapsed": false,
    "cell_id": "00018-483f3b84-5138-4fc4-9a62-219b0186c26a",
    "deepnote_cell_type": "text-cell-h3"
   }
  },
  {
   "cell_type": "code",
   "metadata": {
    "tags": [],
    "cell_id": "00011-99993e86-7ab7-419c-bb38-ca12a9443b0e",
    "deepnote_to_be_reexecuted": false,
    "source_hash": "b97134ef",
    "execution_start": 1637089363688,
    "execution_millis": 3089,
    "deepnote_cell_type": "code"
   },
   "source": "# Degree distribution plot\ndef plot_degree_dist(G):\n    degrees = [(G.degree(n)) for n in G.nodes()]#np.log?\n    plt.hist(degrees, 50)\n    plt.show()\n\n# The cumulative distribution plot (The y-axis in a CCDF is the probability of finding a node of degree k or high)\ndef plot_cum_dist(G):\n    degrees = [G.degree(n) for n in G.nodes()]\n    num_of_nodes = len(degrees)\n    count_degrees = Counter([G.degree(n) for n in G.nodes()])\n    count_degrees = collections.OrderedDict(sorted(count_degrees.items()))\n    cum_dict = {}\n    node_count = 0\n    for degree, times in count_degrees.items():\n        node_count += times\n        cum_dict[degree]= 1 - (node_count/num_of_nodes)\n    data = pd.DataFrame(list(cum_dict.items()),columns = ['x','P(k>=x)'])\n    data.plot(x = 'x',y = 'P(k>=x)', loglog = True)\n    plt.show()\n\ndef from_book(G):\n    dd = Counter(dict(G.degree).values())\n    dd = pd.DataFrame(list(dd.items()), columns = (\"k\", \"count\")).sort_values(by = \"k\")\n    ccdf = dd.sort_values(by = \"k\", ascending = False)\n    ccdf[\"cumsum\"] = ccdf[\"count\"].cumsum()\n    ccdf[\"ccdf\"] = ccdf[\"cumsum\"] / ccdf[\"count\"].sum()\n    ccdf = ccdf[[\"k\", \"ccdf\"]].sort_values(by = \"k\")\n    dd.plot(kind = \"scatter\", x = \"k\", y = \"count\", color = \"#e41a1c\")\n    plt.show()\nplot_degree_dist(G)\nplot_cum_dist(G)",
   "execution_count": 11,
   "outputs": [
    {
     "data": {
      "text/plain": "<Figure size 432x288 with 1 Axes>",
      "image/png": "[encoded data removed]"
     },
     "metadata": {
      "needs_background": "light",
      "image/png": {
       "width": 381,
       "height": 248
      }
     },
     "output_type": "display_data"
    },
    {
     "data": {
      "text/plain": "<Figure size 432x288 with 1 Axes>",
      "image/png": "[encoded data removed]"
     },
     "metadata": {
      "needs_background": "light",
      "image/png": {
       "width": 380,
       "height": 266
      }
     },
     "output_type": "display_data"
    }
   ]
  },
  {
   "cell_type": "markdown",
   "source": "### Density",
   "metadata": {
    "tags": [],
    "is_collapsed": false,
    "cell_id": "00020-8de30e7b-c527-44db-92fb-2f5a93e1daee",
    "deepnote_cell_type": "text-cell-h3"
   }
  },
  {
   "cell_type": "code",
   "metadata": {
    "tags": [],
    "cell_id": "00013-63e606d7-e367-4419-801b-6843676c508c",
    "deepnote_to_be_reexecuted": false,
    "source_hash": "811a7947",
    "execution_start": 1637089366832,
    "execution_millis": 45,
    "deepnote_cell_type": "code"
   },
   "source": "#Density of the graph (Using networkx)\ndens = nx.density(G)\nprint('Networkx density:', str(round(dens*100, 3))+'%')\n\n\n#Density using the formular (simple directed graph)\n# total egdes / total nodes*(total nodes - 1)\ndens_form = (G.number_of_edges())/(G.number_of_nodes()*(G.number_of_nodes()-1))\nprint('Formular density:', str(round(dens_form*100, 3))+'%')\n",
   "execution_count": 12,
   "outputs": [
    {
     "name": "stdout",
     "text": "Networkx density: 0.647%\nFormular density: 0.647%\n",
     "output_type": "stream"
    }
   ]
  },
  {
   "cell_type": "markdown",
   "source": "### Global, local, average Clustering Coeffecients",
   "metadata": {
    "tags": [],
    "is_collapsed": false,
    "cell_id": "00022-61eafbbe-d265-418a-ac68-561217046df2",
    "deepnote_cell_type": "text-cell-h3"
   }
  },
  {
   "cell_type": "code",
   "metadata": {
    "tags": [],
    "cell_id": "00014-c86110f3-3aad-4845-b1b6-a67a5d3ee413",
    "deepnote_to_be_reexecuted": false,
    "source_hash": "33d7987f",
    "execution_start": 1637089366920,
    "execution_millis": 4890,
    "deepnote_cell_type": "code"
   },
   "source": "#Global clustestering coefficient\n#here we are assuming that connection is all that matters, therefore digraph is used not multidigraph \nG_di = nx.DiGraph(G)\nglobal_clustering = nx.transitivity(G_di)\nglobal_clustering\n# Local clustering\nlocal_clustering = nx.clustering(G_di)\n#Average clustering coefficient\navg_clustering = nx.average_clustering(G_di)\n\nprint(\"Global clustering:\", global_clustering)\nprint(\"Average clustering:\",avg_clustering)\nprint(\"Local clustering:\",local_clustering)",
   "execution_count": 13,
   "outputs": [
    {
     "name": "stdout",
     "text": "Global clustering: 0.25005448521436646\nAverage clustering: 0.4782853255477227\nLocal clustering: {0: 1.0, 2: 0.390625, 3: 0.3888888888888889, 1: 0.5714285714285714, 4: 0.12298387096774194, 5: 0.8333333333333334, 2250: 0.7, 2256: 1.0, 2251: 1.0, 2254: 0.8333333333333334, 2253: 1.0, 2243: 0.6666666666666666, 2246: 1.0, 2245: 0.6666666666666666, 2255: 0.42857142857142855, 1610: 0.1276029434789416, 2244: 0.3333333333333333, 2247: 0.6666666666666666, 2241: 0.5, 2135: 0.15270935960591134, 2242: 0, 1612: 0.16646848989298454, 1951: 0.2537746806039489, 2048: 0.08319738988580751, 1485: 0.20884986225895316, 2248: 1.0, 2249: 0, 1115: 0.1575091575091575, 903: 0.20793950850661624, 1058: 0.23894731832675012, 1607: 0.17473118279569894, 1639: 0.1134456794550018, 2257: 0, 6: 0.3, 7: 0.17857142857142858, 2260: 1.0, 2261: 0.3333333333333333, 2264: 1.0, 8: 0.2857142857142857, 1988: 0.2, 2266: 0.6666666666666666, 2262: 1.0, 13: 0.4926644581164221, 14: 0, 295: 0.2964827610152425, 1989: 0.6666666666666666, 9: 0, 2265: 0, 10: 0, 11: 0, 12: 0, 218: 0.2895905439822373, 308: 0.3395390070921986, 315: 0.25812592204825585, 282: 0.16209784706477542, 368: 0.22097091260453802, 294: 0.41228070175438597, 1699: 0.2831603229527105, 184: 0.2395984802289038, 628: 0.1472837205073419, 1853: 0.13043439287186934, 1721: 0.20420706371191136, 191: 0.15019021475289734, 270: 0.2726326742976067, 1829: 0.23155341397056414, 1870: 0.19584247200170804, 253: 0.1654471544715447, 255: 0.21706896851777727, 242: 0.20812681081339943, 196: 0.20066274957533903, 1754: 0.2603996860472137, 2115: 0.003579952267303103, 31: 0.3239590942293645, 125: 0.19034997185212985, 758: 0.28295307093425603, 245: 0.29552469135802467, 640: 0.4102958579881657, 271: 0.3276084710743802, 247: 0.1920168067226891, 566: 0.22072368421052632, 188: 0.3585640138408305, 15: 0.75, 73: 0.1557377049180328, 80: 0.54, 87: 0.28205128205128205, 16: 0.6666666666666666, 2288: 0.3333333333333333, 121: 0.14545454545454545, 122: 0.3923611111111111, 17: 0.9166666666666666, 89: 0.21853404996751521, 124: 0.6333333333333333, 65: 0.2947882736156352, 99: 0.27607361963190186, 18: 0.74, 46: 0.4166666666666667, 130: 0.2777777777777778, 19: 0.5555555555555556, 2289: 0.6666666666666666, 2326: 0.75, 79: 0.17, 90: 0.6666666666666666, 20: 0.3333333333333333, 71: 0.6666666666666666, 97: 0.1990811638591118, 3044: 0, 21: 0, 113: 0.23513358230393566, 22: 0.6666666666666666, 26: 0.3333333333333333, 118: 1.0, 126: 0.0718954248366013, 44: 1.0, 23: 1.0, 24: 1.0, 25: 0, 48: 0.2802441731409545, 43: 0.3333333333333333, 27: 0, 34: 0.022222222222222223, 49: 0, 28: 0.3333333333333333, 84: 0, 29: 0.65625, 30: 0, 115: 0.3333333333333333, 111: 0.68, 59: 1.0, 3043: 1.0, 104: 0.6, 1800: 0.12683444247479003, 1914: 0.19013442697653224, 1715: 0.18395113147299735, 1708: 0.3210986267166042, 1744: 0.14237882653061223, 1885: 0.12544303341222832, 1712: 0.268144690781797, 56: 0.5238095238095238, 60: 0.42153846153846153, 72: 1.0, 74: 1.0, 98: 0.274703557312253, 102: 1.0, 1901: 0.19233177305387436, 47: 1.0, 82: 0.5, 853: 0.30653349979192673, 1888: 0.875, 841: 0.6619047619047619, 45: 0.5, 55: 0.4909090909090909, 110: 1.0, 119: 0.9285714285714286, 32: 0.6666666666666666, 120: 0.5833333333333334, 33: 0.09523809523809523, 96: 0.16666666666666666, 2148: 0, 83: 1.0, 88: 0, 131: 0, 2146: 1.0, 2295: 0.3333333333333333, 91: 1.0, 106: 0, 3120: 0, 2308: 0, 95: 0.09259259259259259, 35: 1.0, 36: 1.0, 2319: 1.0, 85: 0.48, 37: 0, 38: 0, 39: 0.3333333333333333, 2296: 0.2, 2865: 0.16666666666666666, 40: 1.0, 41: 0.5, 2901: 0.34210526315789475, 42: 0.3333333333333333, 68: 0, 2321: 0.18604651162790697, 105: 0.10756501182033097, 70: 0.7142857142857143, 94: 0.2, 1731: 0.2949878284751264, 1854: 0.23996858245398353, 75: 1.0, 76: 1.0, 81: 1.0, 117: 1.0, 1818: 0.3445704683889939, 645: 1.0, 1915: 0.278683750728014, 803: 0.6717134416543574, 792: 0.4569032258064516, 50: 1.0, 51: 1.0, 107: 0.39285714285714285, 52: 1.0, 53: 0.4166666666666667, 54: 0, 101: 1.0, 66: 0.6666666666666666, 64: 0, 57: 0, 2292: 0, 2306: 0.13333333333333333, 86: 0.28, 58: 0, 2303: 0, 3118: 0, 1913: 0.18786773207266, 109: 1.0, 1789: 0.198123190020049, 61: 0.5, 62: 1.0, 3042: 1.0, 63: 0, 67: 0.3333333333333333, 2284: 0.25, 69: 0, 2293: 0, 2325: 0.1, 77: 1.0, 100: 1.0, 78: 0, 2298: 0, 112: 1.0, 2297: 1.0, 123: 0.5, 1850: 0.32286340394448504, 1729: 0.391304347826087, 92: 0.6666666666666666, 1011: 0.4069421487603306, 1753: 0.18300153139356815, 2482: 0.84375, 1882: 0.8492307692307692, 874: 0.5232558139534884, 815: 1.0, 1354: 0.33, 1736: 0.25, 755: 0.3694, 880: 0.7635135135135135, 873: 0.47735849056603774, 1356: 0.4340277777777778, 881: 0.7692307692307693, 882: 0.5769230769230769, 2328: 0, 899: 0.6538461538461539, 1809: 0.11275077160493827, 133: 0.2558154903515728, 832: 0.16944155393687133, 492: 0.22886395891058997, 876: 0.6666666666666666, 875: 0.5, 176: 0.3769174579985391, 3204: 0.24684232225178968, 629: 0.12575850059243834, 579: 0.262336968957364, 1952: 0.274116023414077, 570: 0.2330530939937893, 593: 0.5063775510204082, 706: 0.24546517252499195, 739: 0.29041494782819705, 614: 0.3135387811634349, 618: 0.26513282043838005, 619: 0.34563329928498465, 793: 0.6683848797250859, 597: 0.5129962192816635, 704: 0.4341704718417047, 2312: 0.3333333333333333, 93: 0, 2280: 0.16666666666666666, 2311: 0, 2286: 0.3333333333333333, 2315: 0.3888888888888889, 2307: 0.6666666666666666, 2866: 1.0, 2145: 0, 2099: 0.3300546448087432, 2875: 0.5, 2318: 0, 129: 0, 3119: 0, 2332: 0, 1834: 0.37431480031323416, 939: 0.15407239819004526, 1102: 0.1129667855132295, 1838: 0.29514097180563886, 1943: 0.18994096953073758, 1702: 0.5023809523809524, 1642: 0.12375490492001208, 1679: 0.16186306970956202, 108: 1.0, 114: 1.0, 116: 0, 127: 0, 1056: 0.26301343005587685, 1646: 0.16261593341260405, 1738: 0.23584963891117833, 1909: 0.7426303854875284, 1728: 0.7454545454545455, 1766: 0.8909090909090909, 845: 0.6277056277056277, 2322: 0.3333333333333333, 2336: 1.0, 103: 0, 2277: 1.0, 2331: 0.4166666666666667, 2274: 0.625, 2276: 0.5, 2285: 1.0, 2283: 0.5, 2273: 0.7777777777777778, 2291: 0.75, 2323: 0.5, 2333: 1.0, 2334: 0.5, 2335: 0.5, 1841: 0.5129730623037514, 2290: 0, 3040: 0.3333333333333333, 2270: 0, 1351: 0.3545945945945946, 1367: 0.4216666666666667, 1015: 0.2788320192436189, 2046: 0.75, 1352: 0.34974093264248707, 1813: 0.6665879017013232, 1264: 0.14235468345057387, 1894: 0.4387715179968701, 1716: 0.5061688311688312, 1857: 0.8438287153652393, 1717: 0.6211840888066605, 288: 0.25587606837606836, 884: 0.5462962962962963, 889: 0.8, 1357: 0.625, 1190: 0.17031927232769672, 879: 0.27136514983351834, 1759: 0.8168067226890756, 770: 0.12004602150962403, 802: 0.5292397660818714, 1317: 0.20974025974025973, 866: 0.6952380952380952, 1704: 0.7098560354374308, 1739: 0.6818181818181818, 1831: 0.9275862068965517, 1904: 0.8083670715249662, 898: 0.3002191380569759, 1751: 0.8318318318318318, 789: 0.4592641261498029, 1780: 0.8205128205128205, 1778: 0.9215686274509803, 1867: 0.6231060606060606, 1241: 0.23545842918172855, 868: 0.3334550766983199, 1806: 0.48, 1849: 0.8416666666666667, 718: 0.40368178829717294, 1790: 0.4271076957344916, 1366: 0.6470588235294118, 728: 0.25139188577213034, 340: 0.38644688644688646, 128: 0, 871: 0.5468262226847035, 2175: 0.5238095238095238, 1374: 0.3380952380952381, 864: 0.24608763693270735, 1017: 0.14174268065020415, 508: 0.1819950286393602, 523: 0.28484375, 1034: 0.3380863039399625, 1026: 0.3599537037037037, 1027: 0.48201825013419214, 737: 0.31065573770491806, 735: 0.3359375, 1435: 0.1721056721056721, 977: 0.1614973786074771, 1437: 0.1474729938271605, 1363: 0.3129340277777778, 1371: 0.3369616658778987, 3045: 0, 2271: 0, 2320: 0, 2310: 0, 2144: 0, 132: 1.0, 194: 0.2541057031949836, 136: 0.9047619047619048, 160: 0.46625, 144: 0.44, 1014: 0.43543388429752067, 474: 0.55, 2337: 1.0, 145: 1.0, 137: 0.5454545454545454, 134: 0.5, 500: 0.34981192907039227, 2340: 0, 608: 0.9, 147: 0.5833333333333334, 148: 0.3333333333333333, 139: 1.0, 149: 0.5, 630: 0.30700712589073637, 578: 0.22077736496141756, 143: 1.0, 691: 0.32367929335824697, 174: 0.625, 151: 0.26, 142: 0.42702702702702705, 154: 0.5790816326530612, 1990: 0.19342243103393544, 2849: 1.0, 138: 0, 150: 0, 140: 1.0, 538: 0.3278985507246377, 141: 1.0, 723: 0.37242347162529604, 978: 0.3676716917922948, 135: 0.18, 146: 0, 2338: 0, 2339: 0, 152: 0, 153: 0.4830508474576271, 182: 0.5601092896174863, 170: 0.27237585489146593, 400: 1.0, 401: 0.4921875, 441: 0.5422222222222223, 404: 0.42575558475689884, 161: 0.18774703557312253, 156: 0.31446153846153846, 2040: 0.17193187727509102, 396: 0.640495867768595, 397: 0.6388888888888888, 155: 1.0, 486: 0.8032786885245902, 2341: 0, 157: 0, 484: 0.4751131221719457, 485: 1.0, 158: 0, 159: 0, 381: 0.1240625, 2071: 0.28867924528301886, 2113: 0.6964285714285714, 171: 1.0, 454: 0.42857142857142855, 162: 1.0, 163: 1.0, 164: 1.0, 165: 0, 166: 0, 169: 0.5764705882352941, 2868: 1.0, 2946: 1.0, 172: 0, 173: 0, 167: 0, 168: 0, 544: 0.412972972972973, 3185: 0, 540: 0.419921875, 175: 0.7333333333333333, 639: 0.45636363636363636, 537: 0.5636363636363636, 2404: 1.0, 2402: 1.0, 2403: 0.6666666666666666, 783: 0.4258823529411765, 699: 0.4104662698412698, 2016: 0.07522376962452458, 195: 0.21652222532848756, 1013: 0.3432884272033761, 501: 0.5555555555555556, 685: 0.4903047091412742, 642: 0.5938461538461538, 179: 0.5241855873642646, 178: 0.7, 177: 0.8333333333333334, 708: 0.5078431372549019, 180: 0.6666666666666666, 181: 0.5769230769230769, 197: 0.5190757657173563, 198: 0.5747599451303155, 302: 0.3885784142507859, 3071: 0.4688279301745636, 193: 0.3905372894947875, 1188: 0.28384006663890043, 183: 0, 254: 0.3436734693877551, 2390: 0.5, 497: 0.7121212121212122, 200: 0.3237085673601772, 1445: 0.19883419689119172, 1493: 0.18557096650402938, 650: 0.3667359976229386, 519: 0.8888888888888888, 433: 0.19072164948453607, 487: 0.44818976279650435, 490: 0.3333333333333333, 493: 0.4346788194444444, 695: 0.4621212121212121, 264: 0.22023809523809523, 262: 0.3598090277777778, 1962: 0.41812993854258124, 1965: 0.3869565217391304, 287: 0.6264367816091954, 555: 0.5432926829268293, 700: 0.2958748221906117, 586: 0.4317042606516291, 480: 0.3148239960337134, 762: 0.2465675777805769, 553: 0.5454545454545454, 657: 0.3384446878422782, 668: 0.3658269441401972, 559: 0.5097531240475465, 2061: 0.5057471264367817, 575: 0.3824285498261001, 663: 0.8619631901840491, 655: 0.44984615384615384, 599: 0.5, 567: 0.5459183673469388, 479: 0.3228654011405359, 580: 0.5443037974683544, 558: 0.33, 582: 0.375, 666: 0.31279826464208244, 481: 0.29025268106361096, 786: 0.6, 556: 0.5555555555555556, 675: 0.5433962264150943, 569: 0.6420168067226891, 201: 0.29353589765171284, 585: 0.7278911564625851, 712: 0.5714285714285714, 334: 0.32469935245143383, 341: 0.45698924731182794, 682: 0.5439357778259927, 202: 0.4386859824525607, 2112: 0.4268292682926829, 716: 0.37291237703042784, 564: 0.5349794238683128, 216: 0.46164021164021163, 771: 0.3899793388429752, 2182: 0.3075, 1401: 0.4278419779629132, 750: 0.3946862634256642, 240: 0.26851851851851855, 609: 0.4782608695652174, 1919: 0.1992227162914464, 369: 0.07142857142857142, 676: 0.4278879015721121, 731: 0.2891884747554851, 461: 0.24482758620689654, 710: 0.7123076923076923, 343: 0.5907258064516129, 591: 0.5170697012802276, 693: 0.4605911330049261, 2906: 0, 2183: 0.1751525352409005, 185: 0.14810461357625623, 688: 0.30752688172043013, 2179: 0.4, 680: 0.32748538011695905, 692: 0.22579113924050634, 603: 0.5256410256410257, 678: 0.4530487804878049, 787: 0.49019607843137253, 689: 0.2887624466571835, 617: 0.3111111111111111, 705: 0.3183673469387755, 3176: 0.5714285714285714, 594: 0, 489: 0.35, 644: 0.16666666666666666, 611: 0.4444444444444444, 476: 0.38713020538910875, 694: 0.5110294117647058, 573: 0.23889479277364506, 335: 0.4110105580693816, 2850: 0.35714285714285715, 621: 0.3526315789473684, 348: 0.3333333333333333, 711: 0.6, 620: 0.4, 709: 0.3543269230769231, 679: 0.5833333333333334, 561: 0.47928994082840237, 491: 0.4722222222222222, 605: 0.3333333333333333, 325: 0.3957983193277311, 589: 0.7941176470588235, 674: 0.3484224965706447, 681: 0.441141498216409, 784: 0.6515151515151515, 687: 0.24603174603174602, 701: 0.4727272727272727, 647: 0.2, 3141: 0.5384615384615384, 565: 0.3170289855072464, 590: 0.6785714285714286, 746: 0.5359477124183006, 781: 0.2813852813852814, 186: 0.2328767123287671, 612: 0.36677768526228144, 187: 1.0, 1411: 0.4792682926829268, 772: 0.38929279576999337, 557: 0.41572052401746723, 576: 0.6520190023752969, 333: 0.4228480761602539, 332: 0.33944444444444444, 291: 0.40923076923076923, 279: 0.1262551939058172, 1408: 0.1805710507830255, 246: 0.24202127659574468, 690: 0.5433249370277078, 256: 0.6758241758241759, 727: 0.6113416320885201, 189: 0.6013071895424836, 524: 0.5024, 190: 0.5, 2342: 0.3, 780: 0.465, 1602: 0.17425619834710743, 251: 0.35459183673469385, 1513: 0.35798816568047337, 1520: 0.4461538461538462, 1457: 0.6942148760330579, 1542: 0.29806763285024157, 1545: 0.2746734397677794, 1671: 0.22473990477869865, 1664: 0.4591194968553459, 532: 0.5546875, 1525: 0.3879003558718861, 402: 0.35701906412478335, 1216: 0.477124183006536, 794: 0.4811643835616438, 452: 0.4861111111111111, 478: 0.8095238095238095, 563: 0.5372867909559699, 1223: 0.27476923076923077, 1373: 0.7, 703: 0.6157024793388429, 967: 0.512495994873438, 1434: 0.272640306122449, 2192: 0.40562466197944835, 1387: 0.43049932523616735, 785: 0.7573529411764706, 552: 0.5294117647058824, 1378: 0.2976827094474153, 268: 0.270935960591133, 1377: 0.27626262626262627, 203: 0.40420819490586934, 1340: 0.19227053140096617, 972: 0.35892691951896394, 1984: 0.5763157894736842, 1983: 0.32473566164690804, 211: 0.5757575757575758, 192: 0.7272727272727273, 2160: 0.45714285714285713, 724: 0.8909090909090909, 214: 0.9523809523809523, 725: 0.6666666666666666, 1986: 0.3380325814536341, 336: 0.33475783475783477, 1442: 0.5026315789473684, 726: 0.7142857142857143, 1953: 0.3089569160997732, 337: 0.43859649122807015, 982: 0.23002958579881658, 338: 0.43636363636363634, 2052: 0.2679738562091503, 1431: 0.3088888888888889, 1430: 0.5272727272727272, 760: 0.1616385275394409, 1463: 0.43414634146341463, 1021: 0.3795525975226474, 504: 0.5696969696969697, 667: 0.3333333333333333, 2114: 0.3790849673202614, 1981: 0.29285714285714287, 2187: 0.8333333333333334, 562: 0.5941176470588235, 199: 0.6666666666666666, 757: 0.6590909090909091, 610: 0.4, 671: 0.8251533742331288, 659: 0.8, 374: 0.8, 742: 0.6794871794871795, 1405: 0.26052631578947366, 244: 0.49100968188105115, 243: 0.5, 654: 0.8529411764705882, 1369: 0.2982456140350877, 252: 0.3822829964328181, 664: 0.7070707070707071, 665: 0.6111111111111112, 2127: 0.8333333333333334, 670: 0.9591836734693877, 280: 0.4473684210526316, 259: 0.25333333333333335, 768: 0.9, 2557: 0.8214285714285714, 3101: 0, 707: 0.2, 209: 0.2531887755102041, 656: 0.4444444444444444, 1402: 0.4696969696969697, 1406: 0.44166666666666665, 1407: 0.5909090909090909, 208: 0.44642857142857145, 286: 0.34215384615384614, 751: 1.0, 1972: 0.4904513888888889, 754: 0.6060606060606061, 1416: 0.3538320330426801, 1429: 0.19649080639346234, 1436: 0.8, 212: 0.47058823529411764, 1410: 0.6222222222222222, 284: 0.25742308209055487, 362: 0.4, 205: 0, 622: 0.3333333333333333, 316: 0.5555555555555556, 234: 0.6222222222222222, 204: 0.20906567992599445, 290: 0.8, 1963: 0.4152046783625731, 554: 1.0, 206: 0, 207: 0.5, 210: 0, 213: 0, 215: 0, 2874: 0, 2369: 0, 217: 0, 1669: 0.28448275862068967, 3135: 0.6, 219: 0.5, 220: 0, 221: 1.0, 223: 0, 225: 0, 222: 1.0, 224: 1.0, 227: 0, 229: 1.0, 372: 0, 230: 1.0, 232: 0, 233: 0, 235: 0.6190476190476191, 236: 1.0, 1655: 0.26400560224089636, 2633: 0.3333333333333333, 231: 0.6666666666666666, 226: 0.5, 228: 1.0, 2128: 0.23897581792318634, 237: 0.5644415069398546, 577: 0.3235294117647059, 238: 0.5163398692810458, 269: 0.28, 249: 0.3577075098814229, 261: 0.28888888888888886, 239: 0.4, 273: 0.2904761904761905, 289: 0.5, 292: 0, 2365: 0.6666666666666666, 2038: 0.35185185185185186, 782: 0.1, 241: 0, 278: 0.6071428571428571, 624: 0.22735242548217416, 503: 0.5186567164179104, 2201: 0.3333333333333333, 2352: 0, 596: 0.24444444444444444, 260: 1.0, 339: 0.5714285714285714, 331: 0.41379310344827586, 748: 0.6190476190476191, 747: 0, 677: 0, 788: 0.6666666666666666, 3153: 0.5333333333333333, 753: 0.5384615384615384, 248: 0.27941176470588236, 631: 0.6363636363636364, 636: 0.5833333333333334, 250: 1.0, 632: 0.6666666666666666, 2343: 0.21428571428571427, 258: 0.8333333333333334, 301: 0.8076923076923077, 303: 0.8, 330: 0.22894736842105262, 653: 0.6666666666666666, 601: 0.4375, 633: 0, 574: 0.6, 1802: 0.6549672813801308, 376: 0.19954648526077098, 551: 0.4175824175824176, 1484: 0.4393939393939394, 1483: 0.8888888888888888, 572: 0.9333333333333333, 525: 0.9523809523809523, 257: 0.3194444444444444, 263: 1.0, 265: 0.15454545454545454, 266: 0.45, 2345: 1.0, 2349: 0.75, 2346: 0.6153846153846154, 2347: 0.6666666666666666, 2348: 1.0, 2350: 1.0, 267: 0, 296: 0, 318: 0.6805555555555556, 276: 0.15, 274: 1.0, 2353: 0, 2344: 0, 2354: 1.0, 272: 0, 277: 0, 345: 0.391812865497076, 275: 0, 293: 0.6428571428571429, 717: 0, 351: 0.2727272727272727, 560: 0.5833333333333334, 714: 0.6666666666666666, 595: 0.4, 696: 0.5, 361: 0.3333333333333333, 643: 0, 627: 0.9, 366: 0.6666666666666666, 568: 0.7333333333333333, 281: 0.5, 1239: 0.5, 613: 0.8, 457: 0.4117647058823529, 547: 0.4972375690607735, 1257: 0.3365979381443299, 310: 0.9642857142857143, 1662: 0.31866197183098594, 1659: 0.34803312629399585, 648: 0.90625, 652: 0.6538461538461539, 2210: 0.6666666666666666, 1074: 0.38333333333333336, 371: 1.0, 1310: 0.2857142857142857, 1368: 0.7333333333333333, 353: 0.56, 764: 0.5, 507: 0.6341463414634146, 283: 0.2392638036809816, 285: 0.4423076923076923, 300: 1.0, 299: 0, 298: 0, 297: 0, 1964: 1.0, 320: 0.6, 304: 0.8888888888888888, 307: 0.2372448979591837, 312: 0.7142857142857143, 305: 0.5068493150684932, 2188: 0.3274336283185841, 319: 0.54, 322: 1.0, 2363: 1.0, 2191: 0.4235294117647059, 306: 0.7560975609756098, 2357: 0.59375, 329: 0.8125, 2355: 0.6666666666666666, 321: 0.625, 2203: 0, 2359: 1.0, 2152: 0.6666666666666666, 2362: 0.6666666666666666, 314: 0.84, 2200: 0.8333333333333334, 327: 0, 2361: 0.6666666666666666, 309: 0.56, 2204: 0.68, 2190: 0.5609756097560976, 2364: 0.6666666666666666, 311: 0, 313: 0, 328: 0.6666666666666666, 326: 1.0, 323: 0, 324: 0, 2360: 1.0, 317: 1.0, 2356: 0.6666666666666666, 1409: 0.4, 2358: 0.6666666666666666, 1971: 0.3274336283185841, 1966: 0.36079545454545453, 2629: 0.578125, 342: 0, 370: 0, 358: 0.5, 344: 1.0, 352: 0.4444444444444444, 373: 0.3333333333333333, 346: 0, 347: 1.0, 354: 1.0, 349: 0, 350: 0, 365: 0, 355: 0.5, 356: 1.0, 360: 1.0, 367: 0.3, 357: 0, 364: 0, 359: 0, 2366: 0.6666666666666666, 363: 0, 2371: 0, 2368: 1.0, 1700: 0.43552088113813675, 2370: 0, 2090: 0.532051282051282, 2367: 0, 375: 1.0, 377: 0.3076923076923077, 385: 1.0, 395: 0.42857142857142855, 394: 0.6, 383: 1.0, 378: 1.0, 379: 1.0, 380: 1.0, 382: 1.0, 446: 0.2571428571428571, 2372: 0.6666666666666666, 390: 1.0, 2904: 1.0, 409: 0.2717842323651452, 384: 0, 408: 0.68, 456: 0.7, 393: 1.0, 392: 1.0, 470: 0.4722222222222222, 411: 0.5245901639344263, 458: 0.96, 550: 0.5581395348837209, 416: 0.18, 1633: 0.2112375533428165, 447: 0.6190476190476191, 443: 0.7333333333333333, 455: 1.0, 546: 0.3046192259675406, 459: 0.7916666666666666, 460: 0, 398: 0, 386: 0, 448: 0.7333333333333333, 388: 0, 387: 0, 389: 0, 450: 0.6, 391: 0, 451: 1.0, 444: 1.0, 414: 0.28846153846153844, 440: 0, 399: 1.0, 415: 0, 403: 0, 407: 0.8, 405: 1.0, 406: 0.5, 2373: 0, 3186: 1.0, 410: 0, 2374: 1.0, 412: 0.3472222222222222, 2083: 0.37358490566037733, 413: 0.4108527131782946, 420: 0.7, 423: 1.0, 424: 1.0, 417: 1.0, 418: 0.4, 422: 1.0, 427: 1.0, 419: 1.0, 426: 0.6666666666666666, 428: 0.6666666666666666, 425: 0.6666666666666666, 421: 0, 429: 0, 430: 1.0, 437: 1.0, 431: 1.0, 435: 1.0, 2376: 0.4, 432: 1.0, 2375: 1.0, 439: 0, 434: 1.0, 2377: 0, 438: 0.6666666666666666, 442: 0.6666666666666666, 436: 1.0, 2391: 0.2571428571428571, 449: 1.0, 445: 1.0, 2378: 0, 453: 0, 3206: 1.0, 464: 0, 472: 0.6666666666666666, 469: 0, 462: 0.125, 473: 1.0, 2383: 1.0, 463: 0, 468: 0.15384615384615385, 465: 0, 466: 0.4, 3205: 0.5, 467: 0, 3209: 0, 475: 0.6666666666666666, 2386: 0.8, 482: 0.4338235294117647, 477: 0.6666666666666666, 502: 0.6666666666666666, 2389: 1.0, 2387: 1.0, 588: 0.9, 2385: 0, 483: 0.5, 488: 0, 616: 0, 697: 0.2, 494: 1.0, 496: 0.5, 3184: 0.6666666666666666, 606: 0.6666666666666666, 626: 0, 495: 0.5, 498: 0.5, 499: 1.0, 506: 1.0, 505: 0, 509: 1.0, 518: 1.0, 510: 0.5, 511: 0.5, 512: 0.6666666666666666, 514: 0.5, 513: 1.0, 520: 0.49193548387096775, 3069: 0.3333333333333333, 515: 1.0, 543: 0.8061224489795918, 517: 0, 1979: 0.4280078895463511, 516: 0.38461538461538464, 534: 0.40625, 2395: 0.32653061224489793, 521: 0.3235294117647059, 2394: 0, 1976: 0.5380116959064327, 1019: 0.1562019477191184, 522: 0, 526: 0.3333333333333333, 974: 0.9506172839506173, 986: 0.8611111111111112, 985: 1.0, 989: 0.9183673469387755, 1973: 0.6484375, 1974: 0.7, 2397: 1.0, 1682: 0.5664233576642336, 3122: 1.0, 968: 0.78, 1968: 0.6363636363636364, 1589: 0.19211388259007306, 2406: 1.0, 527: 0.5, 530: 1.0, 528: 1.0, 529: 0, 533: 0.04, 531: 0.5, 2400: 0.25, 2398: 0, 2399: 0, 3070: 1.0, 3108: 0, 2401: 0.75, 2900: 1.0, 535: 0, 536: 1.0, 539: 0, 541: 0, 542: 0, 3111: 0.18685121107266436, 2896: 0, 2405: 0, 545: 1.0, 3187: 0, 549: 0.5, 548: 0, 2407: 0, 3072: 0, 2408: 0, 2111: 0, 587: 1.0, 584: 1.0, 2888: 0, 2889: 0, 583: 0, 571: 1.0, 1270: 0.3431372549019608, 1290: 0.4477124183006536, 877: 0.5441176470588235, 796: 0.6294349540078844, 1253: 0.38271604938271603, 581: 0, 2470: 0, 1308: 0.4256198347107438, 791: 0.5530973451327433, 1328: 0.7575757575757576, 592: 1.0, 604: 0.6666666666666666, 602: 0, 623: 0, 641: 0, 598: 0.8333333333333334, 600: 0, 607: 0, 635: 1.0, 634: 1.0, 625: 0, 615: 0, 2388: 1.0, 1169: 0.21229338842975207, 1652: 0.3918269230769231, 2657: 0.7843137254901961, 637: 0, 638: 0, 1311: 0.3333333333333333, 646: 1.0, 672: 0.16666666666666666, 649: 0, 2121: 0.75, 651: 0, 2122: 0.6666666666666666, 658: 0, 661: 0.6666666666666666, 2120: 1.0, 662: 0.6666666666666666, 2126: 0, 669: 0, 673: 1.0, 1420: 0.48268398268398266, 683: 0.8333333333333334, 684: 0.3333333333333333, 686: 0.5, 1187: 0.4542483660130719, 741: 0, 743: 0, 698: 0, 702: 1.0, 759: 0, 713: 1.0, 715: 1.0, 2214: 0.8, 1424: 0.5384615384615384, 1427: 0.55, 1441: 0.4269005847953216, 719: 0.3333333333333333, 1403: 0.6944444444444444, 1418: 0.49583333333333335, 3117: 0, 722: 1.0, 720: 1.0, 721: 0, 729: 1.0, 730: 0.6666666666666666, 2472: 1.0, 733: 0.6, 734: 0.3392857142857143, 732: 0, 736: 1.0, 740: 1.0, 738: 0, 1172: 0.27270577105014193, 1209: 0.7901234567901234, 1210: 0.2868663594470046, 1199: 0.10784313725490197, 2473: 0.6666666666666666, 744: 0, 745: 0, 749: 0, 752: 0, 756: 1.0, 2469: 0.7857142857142857, 761: 0.6, 2477: 1.0, 2476: 1.0, 779: 0.6666666666666666, 3172: 1.0, 2907: 0, 774: 0.8333333333333334, 775: 0.6666666666666666, 776: 0.6666666666666666, 773: 0.8333333333333334, 3167: 0.8333333333333334, 763: 0.9, 3073: 0.6607142857142857, 3166: 1.0, 2475: 0.6666666666666666, 2474: 0.6666666666666666, 765: 0.6666666666666666, 2886: 0.8333333333333334, 2908: 0.6666666666666666, 2910: 0, 777: 0.7142857142857143, 778: 0.8333333333333334, 1439: 0.4238095238095238, 766: 0, 767: 0.6666666666666666, 769: 0, 1675: 0.22457912457912457, 2217: 0.33455882352941174, 2945: 0.8095238095238095, 1380: 0.5086580086580087, 1381: 0.5512820512820513, 1421: 0.5259515570934256, 1012: 1.0, 1037: 0.8333333333333334, 1970: 0.8, 998: 0.5068493150684932, 2478: 0, 964: 0.3835616438356164, 3173: 0, 996: 0.6666666666666666, 1509: 0.2978494623655914, 2621: 0.65625, 3168: 0, 2193: 0.17704426106526633, 966: 0.9230769230769231, 2622: 1.0, 1982: 0, 3078: 0.921875, 1005: 0.33070088845014806, 1006: 0.6795580110497238, 1428: 0.5, 2480: 0.3333333333333333, 872: 1.0, 795: 0.8571428571428571, 790: 1.0, 2011: 0, 798: 0.680952380952381, 801: 0.6636363636363637, 852: 1.0, 859: 0.9642857142857143, 797: 0.2222222222222222, 799: 0, 2484: 1.0, 800: 0.7530864197530864, 2086: 0, 900: 0.47619047619047616, 804: 0.6, 851: 0.35555555555555557, 833: 0.3125, 849: 0.16389177939646202, 805: 0.8095238095238095, 806: 1.0, 807: 1.0, 808: 0.8571428571428571, 818: 0.30609756097560975, 819: 0.5, 825: 0.9333333333333333, 809: 0, 810: 1.0, 811: 0, 812: 1.0, 813: 0.7555555555555555, 847: 1.0, 814: 0, 816: 0.6666666666666666, 817: 1.0, 1777: 0.6714285714285714, 1851: 0.6064209274673008, 1811: 0.9272727272727272, 834: 0.6388888888888888, 1843: 0.826530612244898, 1878: 0.6505102040816326, 828: 0.75, 844: 0.7, 848: 1.0, 855: 0.7222222222222222, 854: 0.75, 823: 0.9, 829: 1.0, 838: 0.8666666666666667, 820: 1.0, 821: 1.0, 822: 0, 824: 0.7333333333333333, 826: 0, 827: 0, 830: 0.6190476190476191, 831: 0, 836: 0.9, 850: 1.0, 856: 0.5, 857: 0.6, 858: 0.6666666666666666, 2485: 0, 835: 0, 837: 0.6666666666666666, 839: 0, 842: 0, 846: 0.7333333333333333, 1883: 0.9, 843: 0.8, 840: 0, 860: 0.125, 863: 0.030303030303030304, 861: 1.0, 862: 0, 3107: 0, 1329: 0.5333333333333333, 1294: 0.5714285714285714, 1260: 0.6555555555555556, 1265: 0.9333333333333333, 1263: 1.0, 1133: 0.43636363636363634, 1269: 0.7857142857142857, 1268: 1.0, 1320: 0.6666666666666666, 1183: 0.20261437908496732, 1337: 0.5714285714285714, 1286: 0.6666666666666666, 1349: 0.6, 865: 1.0, 2489: 1.0, 2490: 0, 2488: 1.0, 867: 1.0, 2870: 0.5, 2934: 0, 2869: 1.0, 2487: 0, 870: 0.8, 869: 1.0, 2483: 0, 878: 0, 1339: 0.15384615384615385, 883: 0.75, 2181: 1.0, 885: 0.5333333333333333, 1827: 0.8276923076923077, 1835: 0.6442687747035574, 886: 1.0, 2492: 1.0, 887: 0, 888: 0, 891: 1.0, 890: 0.5, 892: 0, 893: 0.7777777777777778, 1876: 0.7631578947368421, 1768: 0.8888888888888888, 894: 1.0, 897: 1.0, 895: 0, 896: 0, 2491: 0, 3121: 1.0, 2163: 1.0, 901: 1.0, 2493: 1.0, 902: 0.1527777777777778, 2494: 0, 2496: 0, 2495: 0, 2049: 0.075, 908: 0.92, 941: 0.2325, 1043: 1.0, 2498: 1.0, 2500: 1.0, 1626: 0.19667352537722907, 2502: 0, 904: 0.15702479338842976, 2503: 1.0, 905: 0.9166666666666666, 906: 0.3333333333333333, 2501: 1.0, 930: 0.10906701708278581, 938: 0.4444444444444444, 907: 0.3333333333333333, 2051: 0, 2497: 0, 2499: 0, 2504: 0, 2050: 0.3333333333333333, 1041: 0.16666666666666666, 2506: 0, 909: 0, 910: 0.75, 2929: 1.0, 911: 0.75, 3074: 1.0, 912: 0.875, 924: 0.38, 913: 1.0, 914: 0.6666666666666666, 2507: 0.75, 915: 0.5, 916: 0.5, 917: 0.5, 918: 0, 921: 0.25, 919: 0.5, 920: 1.0, 922: 0.6666666666666666, 2508: 0.6666666666666666, 2510: 1.0, 2509: 1.0, 923: 0.5737704918032787, 925: 0.9166666666666666, 928: 1.0, 926: 1.0, 929: 0.8125, 927: 0.3333333333333333, 2515: 0.2777777777777778, 2532: 1.0, 2514: 0, 2534: 0.6666666666666666, 2520: 0.5, 2522: 0.6666666666666666, 2519: 1.0, 2523: 0.35, 2518: 0.5, 2525: 0.08888888888888889, 2529: 1.0, 2147: 0.2, 2526: 0, 2528: 0, 931: 0, 934: 0.078125, 932: 0.5, 2536: 1.0, 933: 0.6666666666666666, 2535: 1.0, 937: 1.0, 2537: 0, 935: 0, 936: 0, 1627: 0.24615384615384617, 942: 1.0, 1611: 0.5, 959: 0.18333333333333332, 953: 1.0, 957: 1.0, 943: 1.0, 945: 1.0, 947: 0, 946: 0, 2064: 1.0, 948: 1.0, 949: 1.0, 951: 0.9, 952: 1.0, 954: 1.0, 955: 1.0, 940: 1.0, 962: 0, 958: 0, 960: 1.0, 944: 0, 950: 1.0, 956: 0, 961: 0, 963: 0.5, 965: 0.8333333333333334, 1031: 0.5551470588235294, 1516: 0.7, 2902: 0.9722222222222222, 1523: 0.7610294117647058, 1519: 0.905, 969: 1.0, 970: 1.0, 971: 1.0, 1517: 0.6743119266055045, 979: 1.0, 973: 1.0, 976: 0.9, 975: 1.0, 1479: 0.6850828729281768, 1587: 0.6389776357827476, 1941: 0.3056, 2558: 1.0, 1975: 1.0, 1029: 0.8571428571428571, 2539: 1.0, 980: 1.0, 992: 0.5846645367412141, 1007: 0.68, 2538: 1.0, 988: 0, 2882: 0.68, 1501: 0.6527777777777778, 2548: 0.6, 983: 1.0, 999: 0.7176470588235294, 984: 1.0, 1000: 0.10459062943681968, 1022: 0.9333333333333333, 3138: 1.0, 981: 0, 987: 0, 990: 1.0, 991: 1.0, 994: 0.6938775510204082, 2545: 1.0, 3087: 0.9, 1001: 0.5606060606060606, 993: 0.8333333333333334, 995: 1.0, 997: 0, 1002: 0.8333333333333334, 2547: 1.0, 2543: 0, 2542: 0, 2541: 0, 2883: 0, 2544: 1.0, 2884: 0, 1004: 1.0, 3088: 0, 1010: 0.5476190476190477, 1009: 0.56, 2540: 0, 2546: 0.6666666666666666, 1003: 1.0, 1008: 0, 1443: 0.6801470588235294, 1451: 0.7818181818181819, 1534: 0.4464099895941727, 1496: 0.875, 1033: 1.0, 1016: 0.3333333333333333, 1018: 0, 3162: 1.0, 1471: 0.22777777777777777, 1423: 0.7333333333333333, 1658: 0.23083962479981698, 2222: 0.37755102040816324, 1382: 0.6814159292035398, 1515: 0.8571428571428571, 1456: 0.8163265306122449, 2553: 1.0, 2556: 0.58, 1032: 0.5, 1020: 0, 1024: 1.0, 1023: 0, 1025: 0, 2550: 1.0, 1028: 1.0, 1030: 0, 1035: 0.6875, 2549: 0, 2551: 1.0, 2554: 0, 1036: 0, 2555: 0, 1038: 1.0, 1040: 0.4298245614035088, 1039: 0.691358024691358, 1106: 0.45396825396825397, 1063: 0.2706122448979592, 1085: 0.6964285714285714, 1099: 0.6658163265306123, 1046: 0.7333333333333333, 1044: 0, 1048: 1.0, 1042: 0.3333333333333333, 1047: 1.0, 1045: 0.3333333333333333, 1049: 0.5, 1052: 0.44664031620553357, 1055: 0.38596491228070173, 1051: 0.5570570570570571, 1054: 0.5, 1050: 0, 1647: 0.3701863354037267, 1057: 0.3333333333333333, 1661: 0.5416281221091582, 1666: 0.4385045422781272, 1651: 0.45656565656565656, 1507: 0.48364153627311524, 1663: 0.5817923186344239, 2073: 0.6079268292682927, 1644: 0.4470588235294118, 1660: 0.6600284495021337, 1111: 0.35161290322580646, 1650: 0.27036718301778545, 1649: 0.5576109936575053, 1665: 0.6638655462184874, 2103: 0.7320261437908496, 2780: 0.4, 1053: 0, 2814: 0.6117424242424242, 1108: 0.2692307692307692, 1667: 0.2894525421783542, 1645: 0.5792270531400966, 2773: 0.5819964349376114, 2018: 0.7023809523809523, 2815: 0.8760330578512396, 1584: 0.28735632183908044, 1678: 0.32456140350877194, 1072: 0.8333333333333334, 2771: 0.46321321321321324, 1064: 0.7, 1676: 0.27947060634041243, 1082: 0.9027777777777778, 1648: 0.649375, 1465: 0.8476190476190476, 2810: 0.8529411764705882, 2084: 0.6194302410518627, 1084: 0.7916666666666666, 1112: 0.7380952380952381, 1076: 0.8333333333333334, 1075: 0.6818181818181818, 1605: 0.42105263157894735, 1557: 0.34119897959183676, 2017: 0.5829268292682926, 1093: 0.8333333333333334, 1083: 0.7666666666666667, 2812: 0.8245614035087719, 2225: 0.6502463054187192, 2779: 0.8939393939393939, 1670: 0.5026595744680851, 2055: 0.638525564803805, 1105: 0.33238636363636365, 1944: 0.41846153846153844, 2570: 0.8333333333333334, 1466: 0.6052631578947368, 1654: 0.5729166666666666, 2809: 0.7189542483660131, 1127: 0.75, 1668: 0.8043478260869565, 1090: 0.19480519480519481, 1087: 0.8, 1089: 0.75, 1077: 0.7, 1395: 0.4722222222222222, 1391: 0.4026315789473684, 1396: 0.4666666666666667, 2226: 0.6, 1656: 0.1893491124260355, 1059: 1.0, 1060: 0.7, 1954: 0.4642857142857143, 1061: 0, 1062: 0, 2574: 1.0, 1094: 0.5, 1097: 0.8, 1096: 0.5, 1065: 1.0, 1066: 1.0, 1067: 1.0, 1068: 0, 1080: 0.3090909090909091, 1069: 1.0, 1070: 0, 1071: 0, 1073: 0, 1078: 0, 1079: 0.5333333333333333, 2572: 0, 1081: 1.0, 1086: 0, 1088: 0.3333333333333333, 1095: 0.3333333333333333, 1098: 1.0, 1091: 0, 1092: 0, 1100: 0, 1101: 0, 2571: 0.75, 2573: 0, 3213: 0, 1681: 0, 2575: 0, 2576: 0, 1114: 1.0, 1103: 1.0, 1104: 1.0, 2581: 0.8333333333333334, 2580: 1.0, 2577: 0, 1110: 1.0, 1107: 1.0, 2578: 0, 1109: 1.0, 2119: 0.7, 1113: 0, 2586: 0, 2130: 1.0, 1116: 0, 1117: 0.9, 2590: 0, 1124: 1.0, 1119: 1.0, 2133: 1.0, 1125: 1.0, 2134: 1.0, 1128: 0.7, 2592: 0, 2584: 1.0, 2587: 0, 1120: 0.5, 1123: 1.0, 2871: 0, 2131: 1.0, 2060: 0.5277777777777778, 1126: 0.6071428571428571, 2132: 0, 1118: 1.0, 1121: 0, 1122: 1.0, 1987: 0, 2129: 1.0, 2588: 0, 2585: 0, 2589: 0, 1991: 0.3263157894736842, 2591: 0, 1581: 0.19473684210526315, 2583: 0, 2095: 0.6785714285714286, 1129: 0, 1132: 0.054406347407197506, 1130: 0.6, 2903: 1.0, 1131: 0, 1157: 1.0, 1135: 0.6, 1156: 0.6666666666666666, 1160: 0.5409836065573771, 1161: 0, 1148: 0.4634146341463415, 1136: 0, 1178: 0.33742911153119093, 1149: 0.8461538461538461, 1185: 0.4696969696969697, 1143: 0, 2041: 0.6666666666666666, 1144: 0.3333333333333333, 1138: 0, 1147: 1.0, 1141: 1.0, 1134: 0.46938775510204084, 1158: 0.6666666666666666, 1145: 0, 1150: 0.35294117647058826, 1142: 0, 1153: 1.0, 1154: 0.3181818181818182, 3157: 0, 1159: 1.0, 1137: 0, 1146: 0.6666666666666666, 1139: 0, 1140: 1.0, 1155: 0.5555555555555556, 1151: 1.0, 1152: 0, 1162: 0, 3053: 0, 1163: 0, 1164: 0.8571428571428571, 1205: 0.9523809523809523, 1217: 0.39869281045751637, 1165: 0, 1180: 0.24183006535947713, 1166: 0, 1167: 0.25504587155963304, 1191: 0.625, 3086: 0.5, 1195: 0.875, 1202: 0.2903225806451613, 1206: 0, 2062: 0.18, 1220: 0.75, 3054: 0, 1168: 0.13636363636363635, 1218: 0.6666666666666666, 3065: 1.0, 3050: 0.6666666666666666, 2873: 0, 1194: 0.6666666666666666, 1204: 0, 3123: 0.5, 1219: 0, 1232: 0.6666666666666666, 2597: 0.6666666666666666, 3056: 1.0, 3051: 1.0, 3059: 0.6666666666666666, 2137: 0.6666666666666666, 1221: 0.23076923076923078, 1173: 0.5333333333333333, 1189: 0.6727272727272727, 1196: 0.9333333333333333, 1214: 0.5, 1215: 0.3333333333333333, 1225: 0.8, 1235: 0.6944444444444444, 1193: 0.8571428571428571, 2593: 0.9, 1213: 0.82, 1222: 0.7333333333333333, 1170: 0, 1171: 0.6666666666666666, 2136: 0.8, 1198: 0.9, 3113: 1.0, 1233: 0.8333333333333334, 3060: 0.6666666666666666, 1177: 0, 1203: 0.75, 1174: 1.0, 1175: 1.0, 1176: 0.6666666666666666, 2595: 0.6666666666666666, 1179: 0.6666666666666666, 1184: 0.7142857142857143, 1200: 0.7619047619047619, 3130: 0, 3062: 0, 1234: 0, 2613: 0, 3182: 0, 3061: 0, 1181: 0, 1182: 0, 3067: 0, 3066: 0, 3055: 0, 1227: 0, 1226: 0, 3063: 0, 1186: 1.0, 1207: 0.7, 2176: 1.0, 1197: 0.5, 1211: 0.4166666666666667, 1301: 0.5, 3134: 1.0, 1192: 0, 3128: 0, 2138: 0, 3124: 0.3333333333333333, 2596: 1.0, 3064: 0, 1201: 0.5, 3068: 0.5, 1228: 1.0, 3125: 0.3333333333333333, 3126: 0, 1208: 0.5, 2598: 0.16666666666666666, 1212: 0, 2847: 0.25, 2611: 0.5, 2594: 0, 1230: 0, 1224: 0, 3131: 0, 3133: 0, 3132: 0, 1229: 0, 1231: 0, 1236: 0.6666666666666666, 1242: 0.48, 1240: 0.45, 1303: 0.15176715176715178, 1237: 1.0, 1248: 0.4, 1238: 0.8333333333333334, 2180: 1.0, 1246: 0.8333333333333334, 1243: 0.4166666666666667, 1247: 1.0, 1244: 0, 1245: 0.5, 1249: 0.5, 3183: 0, 1250: 0, 1254: 0, 1251: 1.0, 1252: 0, 2599: 0, 2601: 1.0, 2600: 1.0, 1255: 0.5, 3201: 0.5, 1256: 0, 1258: 0, 1259: 0, 1261: 1.0, 1262: 0.3333333333333333, 2602: 0, 1278: 1.0, 1297: 0, 1267: 0, 1272: 0, 1280: 0.17857142857142858, 1274: 0, 1277: 0, 1282: 1.0, 1285: 1.0, 2605: 1.0, 1288: 1.0, 3048: 1.0, 1292: 0, 1295: 0, 1296: 1.0, 1298: 0.6666666666666666, 3049: 0, 1300: 0.5, 1273: 0, 2606: 0, 1276: 1.0, 1279: 0, 1281: 1.0, 1283: 0, 1284: 0, 1287: 0, 1291: 0, 1293: 1.0, 1299: 0, 1266: 0, 1275: 0, 1271: 0, 2603: 0, 2604: 0, 1289: 0, 2877: 0, 1307: 0.21428571428571427, 1302: 1.0, 1305: 1.0, 1306: 0.6, 1304: 0, 2149: 0.3333333333333333, 1321: 0.6, 1327: 0.6, 3047: 1.0, 3046: 0, 1309: 0, 2607: 0, 2608: 0, 1312: 1.0, 1323: 1.0, 1313: 0, 1314: 0, 1315: 0, 1316: 0, 2610: 0, 2609: 0, 1318: 1.0, 1325: 1.0, 1326: 0, 1319: 0, 1324: 1.0, 1322: 0, 3181: 0, 1344: 0.2, 1330: 0, 1331: 0.6666666666666666, 1332: 0, 1333: 0, 1334: 0, 1335: 1.0, 1336: 0, 1343: 1.0, 1338: 0, 1341: 1.0, 1347: 1.0, 2612: 1.0, 1350: 0, 1342: 0, 1348: 0, 1345: 0, 1346: 0, 2614: 0.76, 1364: 0.76, 1372: 0.8333333333333334, 1353: 0.5309734513274337, 1365: 0.4918032786885246, 2845: 0.5277777777777778, 2177: 0, 1376: 0.71875, 1375: 0.9375, 1358: 0.4567901234567901, 1355: 1.0, 1359: 0.7, 2615: 1.0, 2911: 1.0, 1360: 0.8333333333333334, 1361: 0, 1362: 1.0, 2920: 0, 1370: 0, 2150: 1.0, 1386: 1.0, 1379: 0.8461538461538461, 2618: 1.0, 2223: 0.5333333333333333, 2616: 1.0, 2620: 1.0, 1385: 1.0, 2617: 1.0, 2619: 0.7, 2211: 0.6666666666666666, 1384: 1.0, 1415: 0.4380952380952381, 1383: 1.0, 2660: 0.5, 1399: 0.2723076923076923, 1388: 0.3157894736842105, 1389: 0.8666666666666667, 2623: 1.0, 3165: 1.0, 1392: 1.0, 2624: 0, 2625: 0, 2626: 0, 1390: 0.8, 1400: 0.8, 1397: 0.5277777777777778, 2832: 0.7142857142857143, 2627: 1.0, 1394: 0.8333333333333334, 1393: 0, 3150: 0, 1653: 0.5, 1643: 0.3611111111111111, 2937: 0.4444444444444444, 1398: 0.8333333333333334, 3160: 0, 2928: 0, 1412: 0.5, 2635: 0, 2630: 0, 1404: 0.9, 3103: 1.0, 2628: 1.0, 2631: 0, 2663: 0.6666666666666666, 1422: 0.5714285714285714, 2213: 0.2, 1438: 0.26666666666666666, 2652: 0.3684210526315789, 2664: 1.0, 2931: 0, 2649: 0.3333333333333333, 1417: 0.8333333333333334, 2667: 1.0, 2218: 0.3333333333333333, 3090: 0.8333333333333334, 2653: 1.0, 1432: 1.0, 2654: 0.8666666666666667, 2658: 1.0, 2655: 0.7777777777777778, 2848: 1.0, 1433: 0.92, 2648: 1.0, 1440: 0.6, 2206: 0.6666666666666666, 2076: 0.3117283950617284, 3147: 1.0, 2205: 0.57, 1413: 0, 1414: 0, 1426: 0.6111111111111112, 2215: 0.5777777777777777, 2645: 0.6785714285714286, 1419: 0.3333333333333333, 1425: 1.0, 2171: 0.6666666666666666, 2647: 0.6, 2651: 1.0, 2951: 1.0, 2224: 0.6666666666666666, 3143: 0.6666666666666666, 2221: 0, 2216: 0.8, 2646: 0.3333333333333333, 2650: 0.5714285714285714, 2644: 0.5357142857142857, 1488: 0.4666666666666667, 2656: 0.6666666666666666, 2659: 1.0, 2930: 0, 2636: 0, 2846: 0, 2661: 0, 2220: 0, 2662: 0, 1444: 1.0, 1470: 0.86, 1448: 1.0, 2671: 0.3560606060606061, 1452: 0.8333333333333334, 1491: 1.0, 1497: 0.8333333333333334, 1475: 0.71875, 1502: 0.6, 1446: 0, 1449: 1.0, 1450: 0, 2409: 0.5, 1495: 1.0, 1459: 0, 1460: 0.7450980392156863, 1462: 1.0, 1477: 0.8367346938775511, 1486: 0.5, 1494: 0, 1487: 1.0, 1454: 0, 1489: 0.6463414634146342, 2668: 1.0, 1453: 1.0, 1461: 1.0, 1447: 0, 1455: 0.5, 1458: 0.5, 3161: 0.75, 1518: 1.0, 1522: 1.0, 2677: 0.6666666666666666, 3171: 0, 2669: 0, 1464: 0, 1526: 0.14450354609929078, 1506: 0.325, 2063: 0, 1541: 0.42105263157894735, 1503: 0.38095238095238093, 1504: 0.4, 1467: 1.0, 1472: 0.7, 1468: 1.0, 1469: 0.8, 1524: 0.6, 1521: 0.8461538461538461, 1474: 0.6666666666666666, 1476: 0.9444444444444444, 1473: 1.0, 2672: 1.0, 2670: 0, 1478: 0, 1480: 0, 1481: 1.0, 1482: 0.5, 2673: 0, 2787: 0.9340659340659341, 2783: 0.8397435897435898, 1533: 0.6, 2174: 0.7391304347826086, 2813: 0.9722222222222222, 3105: 0.8560606060606061, 2806: 0.6666666666666666, 1490: 0, 1492: 1.0, 2878: 0, 1500: 1.0, 2891: 0, 1498: 0, 1499: 0, 1657: 0.4722222222222222, 1505: 0.6666666666666666, 2097: 0, 2098: 0, 2053: 0, 2689: 0.7, 1508: 0, 2065: 0.3619047619047619, 2675: 0, 2674: 0, 1511: 0, 2118: 0, 2676: 0, 1510: 0, 2117: 0, 1512: 0, 3100: 0, 1514: 0, 2678: 0, 3207: 0, 3156: 1.0, 2143: 1.0, 2679: 1.0, 2093: 0, 1945: 0.6666666666666666, 2172: 0, 1536: 0.9, 1532: 0.8666666666666667, 1947: 0, 1540: 0, 2680: 0, 2091: 1.0, 1946: 0, 1530: 1.0, 1529: 0, 2092: 0, 1539: 0, 1537: 0, 1948: 0, 1535: 0, 1992: 0.6666666666666666, 1538: 0.8333333333333334, 1949: 0, 1550: 0.375, 1531: 0, 1527: 1.0, 1528: 0, 1680: 0.19696969696969696, 2681: 1.0, 2683: 0.8333333333333334, 2104: 1.0, 2682: 1.0, 2688: 1.0, 1543: 1.0, 2686: 0, 1544: 0.6666666666666666, 2109: 1.0, 2687: 1.0, 2685: 0.3333333333333333, 2108: 1.0, 2105: 1.0, 2107: 0, 2684: 0, 2106: 0, 1546: 1.0, 1547: 0.8888888888888888, 1556: 0.7222222222222222, 1548: 1.0, 1549: 0, 1552: 0.3333333333333333, 1551: 0, 2691: 0, 2690: 0, 1553: 0, 1554: 1.0, 1555: 1.0, 1558: 0.20355731225296442, 1571: 0.24806201550387597, 1559: 1.0, 1937: 0.489010989010989, 1562: 0.1111111111111111, 1565: 1.0, 1924: 0.6410256410256411, 1921: 1.0, 3139: 0.6222222222222222, 1567: 0.2545454545454545, 1566: 1.0, 1576: 0.36666666666666664, 1569: 1.0, 3194: 0, 1570: 0, 1568: 0, 1938: 0.6, 1575: 0.55, 1561: 0.6666666666666666, 1560: 0.16666666666666666, 1573: 0.375, 1564: 0, 3197: 0, 1563: 0, 3195: 0, 3196: 0, 1920: 0, 3208: 1.0, 1572: 0.5, 2694: 0.5, 1574: 0, 1577: 1.0, 1578: 0.4230769230769231, 1582: 0.9333333333333333, 1601: 0.45454545454545453, 1597: 0.8095238095238095, 1603: 0.8, 2037: 0.6666666666666666, 2697: 1.0, 1591: 0.16666666666666666, 1579: 0, 1580: 0.4, 2700: 1.0, 2695: 1.0, 2897: 1.0, 2696: 1.0, 1604: 0.6666666666666666, 1585: 1.0, 2699: 0.3333333333333333, 1583: 0, 2096: 0.6666666666666666, 1586: 0.5, 2701: 1.0, 1588: 0.6666666666666666, 1923: 0.5833333333333334, 1926: 0.23161764705882354, 1930: 0.6666666666666666, 1593: 1.0, 1595: 1.0, 1592: 1.0, 1922: 1.0, 3151: 0.6666666666666666, 1928: 0.6666666666666666, 1932: 1.0, 1594: 0.6530612244897959, 1942: 0.6666666666666666, 1925: 0.6944444444444444, 1927: 1.0, 2702: 1.0, 1929: 0, 1931: 0.4666666666666667, 1590: 0, 1596: 0, 1598: 1.0, 1599: 0, 1600: 0, 1606: 1.0, 2000: 1.0, 1608: 0, 1609: 0.8214285714285714, 1997: 1.0, 1635: 0.8666666666666667, 1619: 0.4222222222222222, 2140: 1.0, 2735: 0.15384615384615385, 1618: 0.6666666666666666, 1624: 1.0, 2709: 1.0, 1625: 0.4, 1616: 0.7, 2186: 0.7, 1617: 1.0, 2715: 1.0, 1638: 1.0, 2760: 1.0, 2993: 0.3333333333333333, 2706: 1.0, 2141: 0, 2185: 0.7040816326530612, 1613: 0.3333333333333333, 1985: 0, 2725: 0.6666666666666666, 2035: 1.0, 1614: 0.25, 1628: 0.9512195121951219, 2732: 1.0, 2742: 1.0, 1632: 0.86, 2757: 1.0, 2726: 1.0, 2753: 1.0, 2705: 0.7, 2718: 0.8333333333333334, 2756: 1.0, 2733: 0.7, 2731: 1.0, 2747: 0, 1620: 0, 2728: 0, 2759: 0, 2712: 0, 2719: 0.3333333333333333, 2729: 0, 1615: 1.0, 2765: 0, 1621: 0, 1622: 1.0, 1623: 0, 2723: 0, 2766: 0.6666666666666666, 2168: 1.0, 2720: 0, 2740: 0.8333333333333334, 1636: 1.0, 1629: 1.0, 2730: 1.0, 2744: 1.0, 2736: 0.6666666666666666, 1641: 1.0, 2749: 0, 2755: 0, 2750: 0, 2708: 0.6666666666666666, 2716: 0, 2714: 0, 2034: 0, 2764: 0, 1630: 1.0, 1631: 0, 2704: 1.0, 3169: 1.0, 3199: 0, 2722: 1.0, 2724: 0, 2751: 0, 3091: 1.0, 2748: 0, 1634: 0, 2752: 0, 1637: 1.0, 2042: 0, 2741: 0, 1640: 0, 2713: 1.0, 2727: 1.0, 2734: 0, 2743: 1.0, 2746: 1.0, 2915: 0, 2754: 1.0, 2916: 0, 2825: 0.9642857142857143, 3110: 1.0, 2799: 1.0, 2772: 0.7205882352941176, 2777: 0.8285714285714286, 2899: 1.0, 2768: 0.6222222222222222, 2074: 0.7450980392156863, 2770: 0.6190476190476191, 2819: 0.9, 2841: 1.0, 3190: 1.0, 2842: 0.783625730994152, 3079: 0.8055555555555556, 2820: 0.8333333333333334, 2775: 0.6666666666666666, 2880: 0.7333333333333333, 2807: 0.8095238095238095, 2803: 0.9285714285714286, 2804: 1.0, 2802: 0.8888888888888888, 2782: 0.9358974358974359, 1677: 0.9333333333333333, 2822: 0.7688888888888888, 2834: 0.5, 3145: 1.0, 2774: 0.75, 2938: 0.6666666666666666, 2786: 0.8333333333333334, 2776: 0.6666666666666666, 2790: 0.5730994152046783, 2075: 0.9523809523809523, 2839: 0.8823529411764706, 3170: 1.0, 2816: 0.5934065934065934, 2835: 0.9333333333333333, 3155: 0.8717948717948718, 2781: 0.5724137931034483, 3191: 0.9294871794871795, 3189: 1.0, 2778: 0.9464285714285714, 2769: 0.7545454545454545, 2817: 0.6190476190476191, 2823: 0.9333333333333333, 3152: 0.6666666666666666, 2944: 0.9, 2837: 0.9761904761904762, 2100: 0.9333333333333333, 2791: 0.6666666666666666, 2792: 0.6666666666666666, 2811: 0.8095238095238095, 3200: 1.0, 3142: 0.8333333333333334, 3149: 1.0, 2933: 0.8055555555555556, 2102: 0.8055555555555556, 2808: 0.7252747252747253, 2821: 0.9636363636363636, 3163: 0.6666666666666666, 2767: 0.16153846153846155, 2917: 0, 2173: 1.0, 3082: 0.8, 3193: 1.0, 3164: 0.8571428571428571, 2798: 0.7, 3140: 0.8, 3084: 1.0, 3083: 1.0, 3188: 1.0, 2785: 0.8095238095238095, 3112: 1.0, 3154: 1.0, 2881: 1.0, 2805: 1.0, 2828: 0.8, 2784: 0, 2178: 1.0, 2840: 0.8333333333333334, 2789: 0.3333333333333333, 3211: 0.5, 3109: 1.0, 3175: 1.0, 2788: 1.0, 1673: 0.5, 2797: 0, 3077: 0, 3089: 0, 2794: 0, 2795: 0, 2796: 0, 2036: 0.8333333333333334, 3102: 1.0, 2800: 0, 3081: 0, 3085: 0, 2801: 1.0, 2936: 1.0, 1672: 1.0, 2833: 0.6666666666666666, 2838: 1.0, 3080: 0, 2843: 1.0, 3174: 0, 2824: 1.0, 2826: 1.0, 2818: 1.0, 2830: 1.0, 3158: 0, 3106: 0, 1674: 0, 2935: 0, 2827: 0, 2829: 0, 3177: 0, 2885: 0, 3212: 0, 2831: 1.0, 3192: 1.0, 2932: 0.6666666666666666, 2579: 0, 1683: 0, 1688: 0.16666666666666666, 1776: 0.35, 1684: 0, 1815: 0.06790123456790123, 1685: 0, 1752: 0.2222222222222222, 1686: 1.0, 1687: 0.6666666666666666, 2852: 1.0, 2923: 0.625, 1886: 0.07210401891252956, 2983: 1.0, 2987: 0, 1689: 0, 2565: 0.2222222222222222, 1690: 1.0, 1861: 0.09536541889483066, 1691: 1.0, 1692: 0, 1693: 0, 1765: 0.0411522633744856, 1694: 1.0, 1695: 0.2, 2952: 0, 2851: 0.05846774193548387, 1696: 0, 1697: 0, 1698: 0.7362637362637363, 2948: 0, 1730: 0.3333333333333333, 1907: 0.7602339181286549, 1821: 0, 2012: 0, 2162: 0.75, 2442: 0, 2157: 0.5833333333333334, 2844: 0, 2013: 0, 2457: 0, 2460: 0, 1880: 0.9315789473684211, 1900: 0.6022099447513812, 1860: 0.3, 1734: 0, 1873: 0.8836565096952909, 1750: 0.4340793263904277, 1757: 0.8863636363636364, 1773: 0.9358974358974359, 2077: 0.9818181818181818, 1732: 0.8055555555555556, 1906: 0.7538644470868014, 1863: 0.75, 2067: 0.8055555555555556, 3092: 0.6666666666666666, 2006: 0.6996047430830039, 1722: 0.8041666666666667, 1788: 0.7575757575757576, 1711: 0.9888888888888889, 1701: 0.9386861313868613, 1895: 1.0, 1823: 1.0, 1742: 0, 1703: 0.6694214876033058, 1725: 0.2982456140350877, 1714: 0.6878251821019771, 1707: 1.0, 2461: 0, 1705: 0.9636363636363636, 1706: 1.0, 1868: 0.10465116279069768, 1745: 1.0, 1828: 1.0, 1839: 0.6176470588235294, 1746: 0.8611111111111112, 2155: 0, 2043: 1.0, 1959: 1.0, 1874: 0.9289940828402367, 1960: 1.0, 2458: 1.0, 1785: 0.9688888888888889, 1762: 1.0, 2968: 0, 1796: 0.70703125, 2001: 0.9235537190082644, 1898: 0.7320261437908496, 2085: 0.3333333333333333, 1709: 0.4, 1775: 0, 1710: 0, 1771: 0.9053833605220228, 2227: 0.6666666666666666, 2422: 1.0, 1825: 0, 1879: 0.9818181818181818, 2443: 1.0, 2069: 1.0, 1877: 0, 2448: 1.0, 2642: 0.7857142857142857, 2066: 0, 2070: 1.0, 1713: 0.9, 1817: 0.25, 2436: 0.5, 1822: 0, 2969: 0, 1865: 1.0, 2949: 1.0, 2209: 0.8351648351648352, 1905: 0.8539325842696629, 2950: 1.0, 2058: 0, 2462: 1.0, 2992: 0, 2991: 0, 2417: 1.0, 1781: 0.95, 2429: 1.0, 2161: 1.0, 2039: 1.0, 2059: 0.9642857142857143, 1810: 0.6947368421052632, 2019: 0.6368421052631579, 2956: 1.0, 2079: 0, 2955: 0, 3098: 0, 1718: 0, 2452: 0, 1719: 0.09049773755656108, 1875: 0.09523809523809523, 2101: 0, 1899: 1.0, 2919: 0, 2994: 0, 2560: 1.0, 2996: 1.0, 2563: 1.0, 2561: 1.0, 1720: 1.0, 1826: 0.7111111111111111, 1995: 0.7087912087912088, 1958: 1.0, 1998: 0.9105431309904153, 1786: 0.8772893772893773, 1805: 0.6544117647058824, 1956: 0.6666666666666666, 1723: 0, 1724: 0.6666666666666666, 1889: 0.64, 1884: 0.6823529411764706, 1792: 0.6944444444444444, 2943: 0.6666666666666666, 1747: 0.7213114754098361, 1726: 1.0, 1917: 0.6904761904761905, 1727: 1.0, 1869: 1.0, 2208: 0.4166666666666667, 2024: 0.3111111111111111, 2437: 0.16666666666666666, 1918: 0, 2165: 0.9206349206349206, 1783: 0.1, 2440: 0.6666666666666666, 2432: 1.0, 1760: 0.48931116389548696, 1779: 0, 1794: 1.0, 1748: 0.9777777777777777, 1755: 0.5357142857142857, 2433: 0.8333333333333334, 3136: 1.0, 2078: 0.9722222222222222, 1891: 1.0, 1756: 0.8333333333333334, 2228: 1.0, 1749: 0.9272727272727272, 2045: 0.9333333333333333, 1819: 0.9523809523809523, 1911: 1.0, 2004: 0.5769230769230769, 1741: 0.6666666666666666, 1733: 0, 1735: 0, 3005: 0, 3003: 0, 1912: 0.7857142857142857, 2836: 1.0, 1797: 0.6, 1994: 0.35714285714285715, 1737: 1.0, 2939: 1.0, 2008: 0.24242424242424243, 2009: 0, 2007: 0.7619047619047619, 1881: 0, 2966: 0, 2199: 1.0, 1910: 1.0, 2431: 0, 2169: 0.4888888888888889, 2087: 1.0, 2170: 1.0, 2068: 0.6666666666666666, 2014: 1.0, 2139: 0.7619047619047619, 2451: 0, 2057: 0.7619047619047619, 2456: 1.0, 2044: 1.0, 2156: 0, 2967: 0, 1740: 1.0, 1743: 0, 2465: 0, 1896: 1.0, 1845: 1.0, 1892: 1.0, 1830: 1.0, 1848: 0.6666666666666666, 2021: 1.0, 1862: 1.0, 1852: 0, 1814: 1.0, 1842: 1.0, 1864: 1.0, 1769: 1.0, 1893: 1.0, 3099: 1.0, 3035: 1.0, 2854: 1.0, 2976: 1.0, 1999: 0, 2414: 0, 2927: 0, 1955: 1.0, 2468: 0, 1758: 0, 1761: 0, 1763: 0, 1764: 0.6666666666666666, 2977: 1.0, 3025: 0.75, 3029: 0.3333333333333333, 2979: 0, 2981: 0.5, 3114: 0.5, 3179: 0.5, 2942: 1.0, 2856: 0.5, 3033: 1.0, 2564: 0.5, 2978: 0, 2980: 0.75, 3115: 0.3333333333333333, 2568: 0.5, 2972: 0, 1767: 0, 1770: 0, 1772: 0, 1774: 0.11989795918367346, 3013: 0.6666666666666666, 2855: 1.0, 3014: 0.6666666666666666, 3012: 0.6666666666666666, 2862: 1.0, 3020: 0.8333333333333334, 2863: 1.0, 3015: 1.0, 2973: 0.375, 3016: 0.5, 3017: 1.0, 3018: 0.6666666666666666, 3021: 1.0, 2026: 0.4, 1957: 0.3, 1996: 0.4444444444444444, 1803: 0, 2047: 0.4888888888888889, 2029: 0.4888888888888889, 2015: 0.1, 2003: 0.5833333333333334, 2212: 0.3055555555555556, 2202: 0.3055555555555556, 2023: 0, 2081: 0.16666666666666666, 1782: 0, 1784: 0.6, 1787: 1.0, 1812: 0, 2415: 1.0, 2030: 0.5238095238095238, 2166: 0.6666666666666666, 2022: 1.0, 2089: 1.0, 2020: 0.75, 2424: 0, 2028: 1.0, 2918: 0, 2005: 1.0, 1793: 1.0, 2088: 1.0, 1804: 1.0, 2453: 0, 2184: 1.0, 2010: 1.0, 1902: 0.8666666666666667, 1791: 0, 1795: 1.0, 1798: 0, 1799: 0, 1832: 0, 1820: 0, 2032: 1.0, 1833: 1.0, 2435: 0.6666666666666666, 2207: 0, 2154: 0, 2080: 1.0, 2033: 1.0, 1844: 0, 1824: 0, 2195: 0.16666666666666666, 1807: 0, 1859: 0, 1801: 1.0, 2421: 1.0, 2025: 1.0, 2423: 0, 2438: 0, 2921: 0, 2449: 0, 2464: 0, 1808: 0.3333333333333333, 2940: 1.0, 1856: 1.0, 2194: 0, 2447: 0, 2450: 0, 2463: 0, 2411: 0, 2420: 0, 2002: 1.0, 2153: 0, 1961: 1.0, 1846: 0, 1840: 1.0, 2159: 0, 2466: 0, 2412: 0, 3006: 0.5, 3007: 1.0, 2887: 1.0, 3008: 1.0, 3010: 1.0, 2990: 0.6666666666666666, 3011: 0, 2864: 1.0, 2859: 1.0, 1816: 1.0, 2116: 1.0, 2876: 0, 2444: 0, 2419: 1.0, 2164: 0.5, 2957: 1.0, 2926: 0, 1836: 0, 1837: 0.1, 2426: 0, 2971: 0.5, 1847: 0.3333333333333333, 2965: 1.0, 2954: 0, 2961: 0.5, 2054: 0.4, 1871: 0, 2958: 1.0, 2151: 0, 2953: 0, 2197: 0, 2439: 0, 2924: 0, 2418: 0, 2196: 0, 2428: 1.0, 2441: 0, 2198: 1.0, 2962: 0, 2925: 0, 2459: 0, 1887: 1.0, 1993: 0, 1855: 0, 1858: 0.3, 2985: 0.35714285714285715, 2857: 0.75, 2986: 0.625, 2861: 0.75, 2567: 0.09411764705882353, 2858: 0, 1908: 0, 2559: 0, 1897: 0, 2879: 0, 1866: 0, 3001: 0, 3002: 0.5, 2467: 0, 1872: 0, 2997: 0, 2569: 0, 3028: 0, 2998: 0, 2413: 0, 2229: 0, 2027: 1.0, 2031: 0.3333333333333333, 2427: 0, 2430: 0, 1890: 0, 2446: 0, 2082: 0, 2158: 0, 2989: 0.5, 3039: 0, 2988: 0, 3038: 0, 3026: 0, 2893: 0, 3027: 0, 2410: 0, 2167: 0, 2922: 1.0, 2455: 1.0, 2416: 0, 1903: 0, 3022: 0, 3023: 0, 2643: 0, 1916: 0, 2445: 0, 2941: 0, 2094: 0, 1950: 0, 2703: 0, 1933: 1.0, 1935: 0.3333333333333333, 1934: 0, 1936: 0, 2692: 1.0, 2693: 0, 1939: 1.0, 1940: 0, 2056: 0, 2110: 0, 2124: 0, 2471: 0, 2123: 0, 2125: 0, 660: 0, 1967: 0, 1969: 0, 1980: 0, 1977: 0, 1978: 0, 2268: 0, 2267: 0, 3076: 0, 2739: 0, 2738: 0, 3093: 0, 2963: 0, 2434: 0, 2964: 0, 2959: 0, 2640: 0, 2638: 0, 2634: 0, 2666: 0, 2872: 0, 2665: 0, 2639: 0, 3146: 0, 3148: 0, 2396: 0.38461538461538464, 2230: 0, 3095: 1.0, 2890: 0.6578947368421053, 2231: 1.0, 2235: 0.46875, 2232: 0.6666666666666666, 2239: 1.0, 2234: 0.58, 3096: 1.0, 2240: 0.9, 3094: 1.0, 2236: 0, 2237: 0, 2233: 0, 2238: 0.8, 2379: 0.5, 2072: 0, 2300: 0, 2142: 0, 2425: 0.25, 2454: 0, 2582: 0, 2947: 0, 2530: 0, 2531: 1.0, 2533: 1.0, 2479: 0, 2189: 1.0, 2913: 0, 2351: 0, 2632: 0, 2219: 0, 2637: 0, 2252: 0, 2258: 1.0, 2263: 1.0, 2259: 0, 3116: 0, 3144: 0, 2269: 1.0, 2294: 0.3333333333333333, 2272: 1.0, 2275: 0.6, 2279: 0.6, 2278: 0, 2314: 0, 2281: 0, 2282: 0, 2912: 0, 2299: 0, 2287: 0, 2317: 0, 2330: 0, 2309: 0, 2302: 1.0, 2313: 0.5, 3041: 0, 2301: 1.0, 2304: 0, 2305: 0, 2327: 0, 2329: 0, 2316: 0.45, 2324: 0.8333333333333334, 3137: 1.0, 2381: 0.5, 2380: 0, 2382: 0.3333333333333333, 2905: 1.0, 3097: 1.0, 2384: 0, 2392: 0, 2393: 0, 2641: 0, 2481: 0, 2486: 0, 2505: 0, 2511: 0.6666666666666666, 2512: 0.3333333333333333, 2513: 0.6666666666666666, 2524: 0.3333333333333333, 2527: 0.375, 2516: 1.0, 2517: 0, 2521: 0, 2898: 0, 2552: 1.0, 2562: 0, 2853: 0, 2982: 0.5, 3034: 0, 2566: 0, 2975: 0, 2974: 0, 3032: 0.6666666666666666, 3159: 0, 3210: 0, 2698: 0, 2707: 0, 2710: 0, 2763: 0, 2711: 1.0, 2745: 0.3333333333333333, 2717: 0, 2761: 0, 2762: 0, 2721: 0, 3198: 0, 2737: 0, 2758: 0, 3075: 0, 3203: 0, 3202: 0, 3104: 0, 2793: 0, 3178: 0, 3030: 0, 2860: 0.5, 2867: 0, 2892: 0, 2894: 0, 2895: 0, 2909: 0, 2914: 0, 2984: 0.3333333333333333, 2960: 0.5, 2970: 0.5, 3024: 0, 3019: 0, 3031: 0.5, 3036: 0.5, 3009: 0.6666666666666666, 2995: 0, 2999: 0.5, 3000: 0, 3004: 0, 3037: 0, 3052: 0, 3058: 0, 3057: 0, 3129: 0, 3127: 0, 3180: 0.5, 471: 0}\n",
     "output_type": "stream"
    }
   ]
  },
  {
   "cell_type": "markdown",
   "source": "\n\n\n",
   "metadata": {
    "tags": [],
    "cell_id": "00013-a4701f35-5ffe-408b-ae50-a0e1dc2c0df3",
    "deepnote_cell_type": "markdown"
   }
  },
  {
   "cell_type": "markdown",
   "source": "### Diameter and average path length",
   "metadata": {
    "tags": [],
    "is_collapsed": false,
    "cell_id": "00025-c497b2a3-313f-416c-ba87-0aac69787423",
    "deepnote_cell_type": "text-cell-h3"
   }
  },
  {
   "cell_type": "code",
   "metadata": {
    "tags": [],
    "cell_id": "00018-e214c974-bfb3-4816-a655-8e4e61a83bab",
    "deepnote_to_be_reexecuted": false,
    "source_hash": "85f0bebe",
    "execution_start": 1637089371811,
    "execution_millis": 10,
    "deepnote_cell_type": "code"
   },
   "source": "setup=False\nif setup==True:\n    diameters=[]\n    for i in (G.subgraph(c) for c in nx.strongly_connected_components(G)):\n        diameters.append(nx.diameter(i))\n    np.savetxt(\"../network/diameters.txt\", diameters, delimiter=\"\\n\", fmt=\"%s\")\nelse:\n    diameters=np.genfromtxt(\"../network/diameters.txt\",dtype=int,delimiter=\"\\n\")\n\nprint (diameters)",
   "execution_count": 14,
   "outputs": [
    {
     "name": "stdout",
     "text": "[ 0  0  0  0  0  0  0  0  0  0  0  0  0  0  0  0  0  0  0 13  0  0  3  0\n  0  0  0  3  2  0  1  1  2  0  0  0  0  0  0  0  0  0  0  0  0  0  0  0]\n",
     "output_type": "stream"
    }
   ]
  },
  {
   "cell_type": "code",
   "metadata": {
    "tags": [],
    "cell_id": "00019-14a7b0ed-29ed-4c54-9e05-d4c03c660fdd",
    "deepnote_to_be_reexecuted": false,
    "source_hash": "9c8f74a6",
    "execution_start": 1637089371823,
    "execution_millis": 29540,
    "deepnote_cell_type": "code"
   },
   "source": "#Path length distribution \nshortest = dict(nx.all_pairs_shortest_path_length(G))\n#print(shortest)",
   "execution_count": 15,
   "outputs": []
  },
  {
   "cell_type": "code",
   "metadata": {
    "tags": [],
    "cell_id": "00020-f6ee3e52-4d8c-4c82-94b1-7ced38737c39",
    "deepnote_to_be_reexecuted": false,
    "source_hash": "ea02bdb0",
    "execution_start": 1637089401376,
    "execution_millis": 1474,
    "deepnote_cell_type": "code"
   },
   "source": "all_paths_len = []\nfor i in shortest.values():\n    for x in i.values():\n        all_paths_len.append(x)",
   "execution_count": 16,
   "outputs": []
  },
  {
   "cell_type": "code",
   "metadata": {
    "tags": [],
    "cell_id": "00021-18cdaeec-9518-4726-889f-75406bf4e4b7",
    "deepnote_to_be_reexecuted": false,
    "source_hash": "164e6a82",
    "execution_start": 1637089402857,
    "execution_millis": 10364,
    "deepnote_cell_type": "code"
   },
   "source": "import statistics\nprint(\"Diameter: \",max(all_paths_len))\nprint(\"Av path length:\",statistics.mean(all_paths_len))",
   "execution_count": 17,
   "outputs": [
    {
     "name": "stdout",
     "text": "Diameter:  13\nAv path length: 3.984675772976349\n",
     "output_type": "stream"
    }
   ]
  },
  {
   "cell_type": "markdown",
   "source": "### Log frequencies of path length",
   "metadata": {
    "tags": [],
    "is_collapsed": false,
    "cell_id": "00030-98b015ee-a74b-47ba-8e39-cbbf50658cc1",
    "deepnote_cell_type": "text-cell-h3"
   }
  },
  {
   "cell_type": "code",
   "metadata": {
    "tags": [],
    "cell_id": "00021-8b491fe1-bf78-4542-b9c5-fc9c64eadd4e",
    "deepnote_to_be_reexecuted": false,
    "source_hash": "1eb55b4a",
    "execution_start": 1637089414086,
    "execution_millis": 422,
    "deepnote_cell_type": "code"
   },
   "source": "import math\ncount = Counter(all_paths_len)\nplt.bar(count.keys(),[math.log(i+0.1) for i in count.values()])\nplt.title(\"Log Frequencies of Path Lenghts\")\nplt.xlabel(\"Path Length\")\nplt.ylabel(\"Log Frequency\")\nplt.show()\nprint(count)\n",
   "execution_count": 18,
   "outputs": [
    {
     "data": {
      "text/plain": "<Figure size 432x288 with 1 Axes>",
      "image/png": "[encoded data removed]"
     },
     "metadata": {
      "needs_background": "light",
      "image/png": {
       "width": 387,
       "height": 278
      }
     },
     "output_type": "display_data"
    },
    {
     "name": "stdout",
     "text": "Counter({4: 3743759, 3: 2858173, 5: 1845025, 6: 680539, 2: 609545, 7: 197321, 8: 47043, 1: 36906, 9: 9886, 0: 3214, 10: 1576, 11: 248, 12: 27, 13: 1})\n",
     "output_type": "stream"
    }
   ]
  },
  {
   "cell_type": "markdown",
   "source": "### Centrality",
   "metadata": {
    "tags": [],
    "is_collapsed": false,
    "cell_id": "00032-c7ac4027-8fac-409a-af23-f12914733c2e",
    "deepnote_cell_type": "text-cell-h3"
   }
  },
  {
   "cell_type": "code",
   "metadata": {
    "tags": [],
    "cell_id": "00023-732464ae-67f5-4e4b-9e1e-b4c2e0c96068",
    "deepnote_to_be_reexecuted": false,
    "source_hash": "d7f472f9",
    "execution_start": 1637089414498,
    "execution_millis": 39307,
    "deepnote_cell_type": "code"
   },
   "source": "# Closeness\nnx.closeness_centrality(G)",
   "execution_count": 19,
   "outputs": [
    {
     "output_type": "execute_result",
     "execution_count": 19,
     "data": {
      "text/plain": "{0: 0.224592339092669,\n 2: 0.22467311027122494,\n 3: 0.22467311027122494,\n 1: 0.22464079482925858,\n 4: 0.2907325253258415,\n 5: 0.224592339092669,\n 2250: 0.2246084886820192,\n 2256: 0.2245761918254972,\n 2251: 0.2245761918254972,\n 2254: 0.2245761918254972,\n 2253: 0.22456004688000292,\n 2243: 0.2245761918254972,\n 2246: 0.2245761918254972,\n 2245: 0.224592339092669,\n 2255: 0.22612062053719706,\n 1610: 0.32970553642609673,\n 2244: 0.224592339092669,\n 2247: 0.2245761918254972,\n 2241: 0.224592339092669,\n 2135: 0.28752119404462817,\n 2242: 0.22454390425568546,\n 1612: 0.28818435760686784,\n 1951: 0.30095676385979775,\n 2048: 0.24955103076622517,\n 1485: 0.3741322616002923,\n 2248: 0.2245761918254972,\n 2249: 0.22454390425568546,\n 1115: 0.3341853270675982,\n 903: 0.3035597912634442,\n 1058: 0.3774323649227695,\n 1607: 0.354796711960568,\n 1639: 0.3389355742296919,\n 2257: 0.22454390425568546,\n 6: 0.21171412851435817,\n 7: 0.24445376835974647,\n 2260: 0.1959617473087102,\n 2261: 0.1743486409969212,\n 2264: 0.17432918027128255,\n 8: 0.26554707575455583,\n 1988: 0.21174283162288776,\n 2266: 0.21159939385590304,\n 2262: 0.21158506076683875,\n 13: 0.3236587143405699,\n 14: 0.1959740417906293,\n 295: 0.3616987322951413,\n 1989: 0.2093165082155626,\n 9: 0.12882543209885103,\n 2265: 0.14817980323059016,\n 10: 0.16348949293943474,\n 11: 0.16348949293943474,\n 12: 0.16348949293943474,\n 218: 0.3460319322145608,\n 308: 0.3093928538134747,\n 315: 0.3348660218804503,\n 282: 0.3956466437113161,\n 368: 0.3521170389021351,\n 294: 0.3079592085281318,\n 1699: 0.3517205553542214,\n 184: 0.3598237820643751,\n 628: 0.4031531042979918,\n 1853: 0.34515251404429176,\n 1721: 0.3766586581575836,\n 191: 0.405613589417068,\n 270: 0.3240952741337249,\n 1829: 0.36878751500600243,\n 1870: 0.38889818875757476,\n 253: 0.35727213223159565,\n 255: 0.4009794932093505,\n 242: 0.3513644828009944,\n 196: 0.38279782501235793,\n 1754: 0.3578041525888706,\n 2115: 0.2887170951197745,\n 31: 0.31974923248038084,\n 125: 0.38378550830579194,\n 758: 0.37606913702153144,\n 245: 0.307716505969938,\n 640: 0.3130831163777529,\n 271: 0.3189981875102983,\n 247: 0.30963820897113803,\n 566: 0.31352306053406004,\n 188: 0.3139011408000041,\n 15: 0.27696668310878175,\n 73: 0.27805147339334524,\n 80: 0.2766477948898097,\n 87: 0.28554989049280927,\n 16: 0.2295099377002822,\n 2288: 0.19109447278238348,\n 121: 0.23681806308573466,\n 122: 0.29856913134207996,\n 17: 0.2582793329006814,\n 89: 0.349165018119924,\n 124: 0.258450293902105,\n 65: 0.30632835658535257,\n 99: 0.25877145655710715,\n 18: 0.2583434167646051,\n 46: 0.23438360111809414,\n 130: 0.2586428957606062,\n 19: 0.18666369380308595,\n 2289: 0.18667484922613042,\n 2326: 0.18666369380308595,\n 79: 0.23020342339898595,\n 90: 0.18667484922613042,\n 20: 0.25877145655710715,\n 71: 0.2609549082791011,\n 97: 0.3506938646121972,\n 3044: 0.20501642505256237,\n 21: 0.2500504524576401,\n 113: 0.3349737535764976,\n 22: 0.20166765137199563,\n 26: 0.2017197450501027,\n 118: 0.20162859876715986,\n 126: 0.25339744074801984,\n 44: 0.20162859876715986,\n 23: 0.26028083093915844,\n 24: 0.26028083093915844,\n 25: 0.23637005312908366,\n 48: 0.31028412159539487,\n 43: 0.16759471252821334,\n 27: 0.19291194738765072,\n 34: 0.23978124296467648,\n 49: 0.16137788035238895,\n 28: 0.18668600598259863,\n 84: 0.19293577838794568,\n 29: 0.277089528262294,\n 30: 0.2587500208831048,\n 115: 0.20646640571755176,\n 111: 0.2604544527725207,\n 59: 0.24148668357950062,\n 3043: 0.24148668357950062,\n 104: 0.2609767108447523,\n 1800: 0.3669247330084389,\n 1914: 0.34672330470649804,\n 1715: 0.38914043255273956,\n 1708: 0.32838837805938187,\n 1744: 0.3730598652933047,\n 1885: 0.3806056113197076,\n 1712: 0.3649953554686656,\n 56: 0.2879187254217753,\n 60: 0.314786884218567,\n 72: 0.2929135645255852,\n 74: 0.2506322917516521,\n 98: 0.2976019676163148,\n 102: 0.2929135645255852,\n 1901: 0.34473350094921534,\n 47: 0.24202930823654428,\n 82: 0.2420480629291624,\n 853: 0.3414176688272861,\n 1888: 0.29834099829043365,\n 841: 0.3068097684020077,\n 45: 0.25186504209811644,\n 55: 0.2922284827486987,\n 110: 0.2506322917516521,\n 119: 0.2892250233426704,\n 32: 0.18667484922613042,\n 120: 0.2293077559903715,\n 33: 0.16763068863909203,\n 96: 0.20179793604889468,\n 2148: 0.14327921893953674,\n 83: 0.1432989380723388,\n 88: 0.14327921893953674,\n 131: 0.14327921893953674,\n 2146: 0.1675767302629206,\n 2295: 0.19292386215186463,\n 91: 0.19291194738765072,\n 106: 0.19291194738765072,\n 3120: 0.19293577838794568,\n 2308: 0.19288812227373353,\n 95: 0.2590719293440193,\n 35: 0.2803725206086384,\n 36: 0.2286531185199356,\n 2319: 0.2286531185199356,\n 85: 0.22934142820123646,\n 37: 0.20160257209893123,\n 38: 0.27628075819041575,\n 39: 0.258172597082473,\n 2296: 0.25877145655710715,\n 2865: 0.20536688048000265,\n 40: 0.2337696641296842,\n 41: 0.23396226890126884,\n 2901: 0.234207861745583,\n 42: 0.18634076550145204,\n 68: 0.22890445933613077,\n 2321: 0.22929092359251563,\n 105: 0.2175078512708614,\n 70: 0.28562822349129846,\n 94: 0.2583434167646051,\n 1731: 0.3170876309106528,\n 1854: 0.34776555912946344,\n 75: 0.23631640581788776,\n 76: 0.27667229868032245,\n 81: 0.2795445008144658,\n 117: 0.2795445008144658,\n 1818: 0.30674950919187277,\n 645: 0.2583006906558208,\n 1915: 0.3397096522132507,\n 803: 0.3167339537721396,\n 792: 0.33414957767445874,\n 50: 0.2292067986572381,\n 51: 0.26032421469296113,\n 107: 0.26043273737709194,\n 52: 0.27615862895418974,\n 53: 0.23505382286860113,\n 54: 0.2500504524576401,\n 101: 0.2603025210084034,\n 66: 0.25011051742339985,\n 64: 0.22333978636499646,\n 57: 0.21690370474972853,\n 2292: 0.1778630140132582,\n 2306: 0.20535337927163502,\n 86: 0.27740943624341385,\n 58: 0.2050568011620062,\n 2303: 0.1699379931505816,\n 3118: 0.16976251370113263,\n 1913: 0.3426536037846468,\n 109: 0.28581116772813986,\n 1789: 0.35343180041874184,\n 61: 0.17784276088025738,\n 62: 0.20492227593655057,\n 3042: 0.20492227593655057,\n 63: 0.2587071601872487,\n 67: 0.27765602240896364,\n 2284: 0.2172355693790139,\n 69: 0.2500504524576401,\n 2293: 0.21697903946240904,\n 2325: 0.21694889929857206,\n 77: 0.2587285887601127,\n 100: 0.2587285887601127,\n 78: 0.1613862181400589,\n 2298: 0.1386924008569772,\n 112: 0.2763296401363093,\n 2297: 0.22863638208906753,\n 123: 0.21651280599576075,\n 1850: 0.3078378094117316,\n 1729: 0.29549051670616217,\n 92: 0.258172597082473,\n 1011: 0.3382748811025385,\n 1753: 0.35219644290233854,\n 2482: 0.28628267364135646,\n 1882: 0.3075650110378929,\n 874: 0.28818435760686784,\n 815: 0.2942656855488309,\n 1354: 0.30017588430721126,\n 1736: 0.3274245547275514,\n 755: 0.3435581007590014,\n 880: 0.299801348699572,\n 873: 0.29398872960949085,\n 1356: 0.3002047335032043,\n 881: 0.2817380943538234,\n 882: 0.3051314107747231,\n 2328: 0.2579380885302098,\n 899: 0.26532151975714263,\n 1809: 0.3683960670009247,\n 133: 0.3302283806005752,\n 832: 0.34618533216234515,\n 492: 0.3351534605258412,\n 876: 0.2803725206086384,\n 875: 0.26251199698301037,\n 176: 0.32588735024526244,\n 3204: 0.3782092568229617,\n 629: 0.32315645066220156,\n 579: 0.32433083294578346,\n 1952: 0.3359464672080921,\n 570: 0.3563347310176638,\n 593: 0.3093009458462066,\n 706: 0.3791273518753296,\n 739: 0.34519065665828713,\n 614: 0.32470168940757177,\n 618: 0.3188679310025358,\n 619: 0.3340423753717079,\n 793: 0.307716505969938,\n 597: 0.31488208186500405,\n 704: 0.33963577819950425,\n 2312: 0.2582579786772088,\n 93: 0.1613528721576962,\n 2280: 0.20532638217976995,\n 2311: 0.20517802496721232,\n 2286: 0.20527240928572257,\n 2315: 0.2054884712914177,\n 2307: 0.20524543347794472,\n 2866: 0.20519150312690276,\n 2145: 0.1675407773064171,\n 2099: 0.31273831118350426,\n 2875: 0.2587071601872487,\n 2318: 0.2587071601872487,\n 129: 0.2587500208831048,\n 3119: 0.2587071601872487,\n 2332: 0.2587071601872487,\n 1834: 0.3288031844316674,\n 939: 0.3208659735080473,\n 1102: 0.33956193630838577,\n 1838: 0.33652556045042453,\n 1943: 0.37706787205466447,\n 1702: 0.2946543016791662,\n 1642: 0.38028125786472367,\n 1679: 0.3665802431757822,\n 108: 0.25877145655710715,\n 114: 0.25877145655710715,\n 116: 0.2587071601872487,\n 127: 0.2587071601872487,\n 1056: 0.3535918329296854,\n 1646: 0.3557260280265164,\n 1738: 0.3268421316418165,\n 1909: 0.29968629493436055,\n 1728: 0.2862302072849666,\n 1766: 0.28628267364135646,\n 845: 0.30347131566121055,\n 2322: 0.22905552922936426,\n 2336: 0.20524543347794472,\n 103: 0.2500504524576401,\n 2277: 0.17821819205231018,\n 2331: 0.1782588741711374,\n 2274: 0.17821819205231018,\n 2276: 0.1782588741711374,\n 2285: 0.17822836084108412,\n 2283: 0.17822836084108412,\n 2273: 0.17823853079034752,\n 2291: 0.17822836084108412,\n 2323: 0.1782588741711374,\n 2333: 0.17822836084108412,\n 2334: 0.17823853079034752,\n 2335: 0.1863296499702243,\n 1841: 0.32866479925303455,\n 2290: 0.19096596271326285,\n 3040: 0.1910126736440311,\n 2270: 0.19100099376915985,\n 1351: 0.2963033819105331,\n 1367: 0.30462553658092845,\n 1015: 0.36800544911649863,\n 2046: 0.29729040183695066,\n 1352: 0.29777218799817357,\n 1813: 0.3105000250597257,\n 1264: 0.32483675666606077,\n 1894: 0.32185783123141065,\n 1716: 0.3109327346307824,\n 1857: 0.30960751829723865,\n 1717: 0.3222230505571323,\n 288: 0.34397425967413725,\n 884: 0.2979426032145021,\n 889: 0.28699285667960683,\n 1357: 0.2874153710067023,\n 1190: 0.35215673642625034,\n 879: 0.314786884218567,\n 1759: 0.3100993003177644,\n 770: 0.38354988360766706,\n 802: 0.29808476496811154,\n 1317: 0.3315603706719924,\n 866: 0.3069605200570794,\n 1704: 0.3088116907662719,\n 1739: 0.2921738146198523,\n 1831: 0.30744392245087016,\n 1904: 0.3105000250597257,\n 898: 0.3119574804854529,\n 1751: 0.32149343887410875,\n 789: 0.29560237078649004,\n 1780: 0.31873778082661636,\n 1778: 0.2942934098455663,\n 1867: 0.30522085715271063,\n 1241: 0.3299493241893779,\n 868: 0.31718422543672226,\n 1806: 0.3124880204182513,\n 1849: 0.29423796647521105,\n 718: 0.3535518112168467,\n 1790: 0.32119591281242577,\n 1366: 0.29802788399015745,\n 728: 0.3576812380740685,\n 340: 0.343482543666246,\n 128: 0.27628075819041575,\n 871: 0.3110875661887103,\n 2175: 0.2872567824260475,\n 1374: 0.29805632176534735,\n 864: 0.33648930863953896,\n 1017: 0.3958471996072539,\n 508: 0.33750732059436417,\n 523: 0.3450000278441397,\n 1034: 0.3270132173472404,\n 1026: 0.3206683350888862,\n 1027: 0.3260234059180504,\n 737: 0.31795910546629075,\n 735: 0.3051016069643329,\n 1435: 0.3604050135111158,\n 977: 0.3485416483040438,\n 1437: 0.3393406031614167,\n 1363: 0.31570954640194465,\n 1371: 0.31402737027252847,\n 3045: 0.20160257209893123,\n 2271: 0.20160257209893123,\n 2320: 0.20160257209893123,\n 2310: 0.20160257209893123,\n 2144: 0.20162859876715986,\n 132: 0.2563925348519117,\n 194: 0.31462834932522565,\n 136: 0.2947377101435026,\n 160: 0.2940440790832006,\n 144: 0.24757313561867642,\n 1014: 0.31831552553763787,\n 474: 0.2950160797224065,\n 2337: 0.2563925348519117,\n 145: 0.25611924008698267,\n 137: 0.29551847228957806,\n 134: 0.24741625759214578,\n 500: 0.31692677070828335,\n 2340: 0.24739666181695233,\n 608: 0.25605625478324784,\n 147: 0.24751428305077974,\n 148: 0.26408777917660137,\n 139: 0.2474358564718663,\n 149: 0.24749467174557013,\n 630: 0.27233044918054405,\n 578: 0.3741770785937758,\n 143: 0.24739666181695233,\n 691: 0.35540223598826265,\n 174: 0.29504394560317754,\n 151: 0.24759275936119535,\n 142: 0.30341236057317533,\n 154: 0.2921738146198523,\n 1990: 0.31545447910531615,\n 2849: 0.2563925348519117,\n 138: 0.24739666181695233,\n 150: 0.24739666181695233,\n 140: 0.24741625759214578,\n 538: 0.3101916834261013,\n 141: 0.2563925348519117,\n 723: 0.32643225541862686,\n 978: 0.30153781755969117,\n 135: 0.19798632516326556,\n 146: 0.1979612302491185,\n 2338: 0.23203314901952463,\n 2339: 0.19789852078692602,\n 152: 0.20842264976985658,\n 153: 0.291492184779847,\n 182: 0.2936846795882701,\n 170: 0.3245667344244431,\n 400: 0.22644847412649272,\n 401: 0.28219624646317104,\n 441: 0.2936018659743247,\n 404: 0.2968948058265222,\n 161: 0.3006960196477513,\n 156: 0.3185102734884103,\n 2040: 0.32800905724045365,\n 396: 0.29349152044544213,\n 397: 0.29263914672108304,\n 155: 0.2267937451608829,\n 486: 0.28802491951137305,\n 2341: 0.24076077170501314,\n 157: 0.24076077170501314,\n 484: 0.2919826371378613,\n 485: 0.24161743905482985,\n 158: 0.24076077170501314,\n 159: 0.24076077170501314,\n 381: 0.34803679689145856,\n 2071: 0.29390574445811446,\n 2113: 0.2876270950369098,\n 171: 0.24437726897988113,\n 454: 0.29228317133908865,\n 162: 0.24437726897988113,\n 163: 0.24437726897988113,\n 164: 0.25666641348404606,\n 165: 0.23044118421990706,\n 166: 0.23044118421990706,\n 169: 0.2812561004953035,\n 2868: 0.24437726897988113,\n 2946: 0.24437726897988113,\n 172: 0.23044118421990706,\n 173: 0.23044118421990706,\n 167: 0.24420532031122197,\n 168: 0.24420532031122197,\n 544: 0.29563034753935646,\n 3185: 0.24420532031122197,\n 540: 0.30394378243659054,\n 175: 0.29154659810536127,\n 639: 0.3067796358378354,\n 537: 0.2843800302349636,\n 2404: 0.24516366471241194,\n 2402: 0.24516366471241194,\n 2403: 0.24585834333733494,\n 783: 0.3192263926521043,\n 699: 0.3156457409156064,\n 2016: 0.3455725469743158,\n 195: 0.3585022669689935,\n 1013: 0.3260234059180504,\n 501: 0.2896004313091823,\n 685: 0.30759529808969377,\n 642: 0.29848354057341997,\n 179: 0.3005224410333693,\n 178: 0.24499060800790906,\n 177: 0.24497139456519806,\n 708: 0.3075347299498711,\n 180: 0.2879187254217753,\n 181: 0.25339744074801984,\n 197: 0.30519103586720475,\n 198: 0.3073834139048259,\n 302: 0.3119886388434719,\n 3071: 0.2997150500960315,\n 193: 0.3291843452524861,\n 1188: 0.3326195561815398,\n 183: 0.23312413255473097,\n 254: 0.30528051721079363,\n 2390: 0.2979426032145021,\n 497: 0.30229655009201983,\n 200: 0.3203723335488042,\n 1445: 0.33677954200548144,\n 1493: 0.3527134431008176,\n 650: 0.30838486050951136,\n 519: 0.2699533533921736,\n 433: 0.32531037826503234,\n 487: 0.30011820254619914,\n 490: 0.2726156617298692,\n 493: 0.30495267520265945,\n 695: 0.3070510421803637,\n 264: 0.2997150500960315,\n 262: 0.31399580338770006,\n 1962: 0.31903076826686144,\n 1965: 0.3117084374913522,\n 287: 0.30468496411440116,\n 555: 0.31145979181382394,\n 700: 0.28135743578642053,\n 586: 0.3129576447350807,\n 480: 0.30238434192650926,\n 762: 0.30988395358143256,\n 553: 0.2840180261957484,\n 657: 0.303088516602061,\n 668: 0.30314734589487974,\n 559: 0.3065087088706545,\n 2061: 0.30288279376523225,\n 575: 0.3058784030651039,\n 663: 0.2955464331631035,\n 655: 0.3027360197810468,\n 599: 0.282400348259727,\n 567: 0.2890109411640304,\n 479: 0.30994545069466567,\n 580: 0.29951387976803534,\n 558: 0.2964721195995482,\n 582: 0.2734030855230495,\n 666: 0.30714161770903053,\n 481: 0.31139769236375636,\n 786: 0.2963877267388595,\n 556: 0.2799202663411453,\n 675: 0.2921738146198523,\n 569: 0.31105658754240595,\n 201: 0.3435958917721747,\n 585: 0.29817012715739216,\n 712: 0.3068097684020077,\n 334: 0.30261870297431126,\n 341: 0.30089878162998174,\n 682: 0.3082935503455232,\n 202: 0.31003774214400404,\n 2112: 0.2955464331631035,\n 716: 0.3337925039646122,\n 564: 0.30792884977334783,\n 216: 0.3076255911070357,\n 771: 0.3086286189211383,\n 2182: 0.2971772668728799,\n 1401: 0.33036808589115185,\n 750: 0.32242261066276223,\n 240: 0.3239944250701006,\n 609: 0.2988261984215862,\n 1919: 0.3590379600115909,\n 369: 0.2710308244772963,\n 676: 0.3229225940350295,\n 731: 0.3093009458462066,\n 461: 0.30055135688452234,\n 710: 0.303884643652188,\n 343: 0.3098532141752644,\n 591: 0.2988261984215862,\n 693: 0.3062082395942398,\n 2906: 0.2636419861665126,\n 2183: 0.3265346280682459,\n 185: 0.291492184779847,\n 688: 0.2865978761446776,\n 2179: 0.28337387753795157,\n 680: 0.2848987825703065,\n 692: 0.2922284827486987,\n 603: 0.29349152044544213,\n 678: 0.30008936997798447,\n 787: 0.2695340626543136,\n 689: 0.2910033773151519,\n 617: 0.2611949370433013,\n 705: 0.28810461650072317,\n 3176: 0.2584930695217511,\n 594: 0.24154270430721006,\n 489: 0.26863005264025114,\n 644: 0.23809972193771176,\n 611: 0.2550735139719778,\n 476: 0.3016542976437316,\n 694: 0.30347131566121055,\n 573: 0.29103049027306815,\n 335: 0.3090561246760503,\n 2850: 0.26464714497168856,\n 621: 0.29977257697704807,\n 348: 0.2736425976435252,\n 711: 0.24667379389566774,\n 620: 0.2615886652793602,\n 709: 0.3107162291953487,\n 679: 0.24081645610213864,\n 561: 0.2985976725074888,\n 491: 0.2942934098455663,\n 605: 0.26150106756809044,\n 325: 0.2871247589025499,\n 589: 0.28314269870384706,\n 674: 0.3116773350729236,\n 681: 0.29236524261520414,\n 784: 0.3047146865770013,\n 687: 0.26419946308896564,\n 701: 0.2827582377207242,\n 647: 0.26455748726186507,\n 3141: 0.2765253410145928,\n 565: 0.29490466881616695,\n 590: 0.25119664271016007,\n 746: 0.28847711969900636,\n 781: 0.29891198584697043,\n 186: 0.24180447841003563,\n 612: 0.2985120653766094,\n 187: 0.23902894491129786,\n 1411: 0.3151998236226882,\n 772: 0.3054297694437118,\n 557: 0.3210968597965502,\n 576: 0.29650026123406176,\n 333: 0.3052506842666706,\n 332: 0.29228317133908865,\n 291: 0.30326507301949907,\n 279: 0.30557916768742327,\n 1408: 0.33407810182896686,\n 246: 0.301043779115347,\n 690: 0.3004935307456316,\n 256: 0.2902192931432538,\n 727: 0.30003172145815393,\n 189: 0.29593844169595834,\n 524: 0.30376643509684337,\n 190: 0.26572779686098175,\n 2342: 0.289385793227797,\n 780: 0.30554927634753404,\n 1602: 0.34587866815422885,\n 251: 0.2959945278215522,\n 1513: 0.31916115787277416,\n 1520: 0.3152316330710304,\n 1457: 0.296556560533641,\n 1542: 0.3249043324423591,\n 1545: 0.33201852169439205,\n 1671: 0.32575140808226516,\n 1664: 0.315358935093472,\n 532: 0.30185835447437576,\n 1525: 0.3205696071532061,\n 402: 0.32578538298924076,\n 1216: 0.3004068332468591,\n 794: 0.30936221175605033,\n 452: 0.30361880366454513,\n 478: 0.2959664821016525,\n 563: 0.30599826137351493,\n 1223: 0.3049229062964507,\n 1373: 0.2937399146229867,\n 703: 0.30367783901427575,\n 967: 0.32030662962477857,\n 1434: 0.33019347273793237,\n 2192: 0.3279746169782487,\n 1387: 0.32096488410407326,\n 785: 0.29891198584697043,\n 552: 0.29911234818546784,\n 1378: 0.3120509742358482,\n 268: 0.30367783901427575,\n 1377: 0.32622770256927835,\n 203: 0.30687005129195805,\n 1340: 0.31994573922983105,\n 972: 0.3160609381868704,\n 1984: 0.3093009458462066,\n 1983: 0.3235581367413342,\n 211: 0.2971489965849353,\n 192: 0.2924747427060712,\n 2160: 0.29593844169595834,\n 724: 0.29263914672108304,\n 214: 0.2905162064825931,\n 725: 0.294932513653181,\n 1986: 0.3418286552966558,\n 336: 0.2958263331850403,\n 1442: 0.3051314107747231,\n 726: 0.29294103461510274,\n 1953: 0.3237593544880639,\n 337: 0.29540668168156237,\n 982: 0.336235764488788,\n 338: 0.29321601915900125,\n 2052: 0.3198474556728282,\n 1431: 0.3100993003177644,\n 1430: 0.309454156142346,\n 760: 0.3035302936644486,\n 1463: 0.3297403411908414,\n 1021: 0.3213942022945612,\n 504: 0.2986262191300995,\n 667: 0.28890401887725126,\n 2114: 0.2793944769320967,\n 1981: 0.2711955419431186,\n 2187: 0.2659540444530302,\n 562: 0.288237542871721,\n 199: 0.26034591199373563,\n 757: 0.29043516988385315,\n 610: 0.29157381238689817,\n 671: 0.2942656855488309,\n 659: 0.279169742792103,\n 374: 0.27921965246275504,\n 742: 0.2887170951197745,\n 1405: 0.28181434970234936,\n 244: 0.29261173321787737,\n 243: 0.27252052452458914,\n 654: 0.2838373695684544,\n 1369: 0.29922696159601886,\n 252: 0.29854059563230817,\n 664: 0.27921965246275504,\n 665: 0.2897885009834716,\n 2127: 0.2804732200862746,\n 670: 0.2878656577366916,\n 280: 0.2976870534738245,\n 259: 0.3057586386159789,\n 768: 0.2913834190392575,\n 2557: 0.29891198584697043,\n 3101: 0.263419653575716,\n 707: 0.27775477966395523,\n 209: 0.28688742212535273,\n 656: 0.2775573353563925,\n 1402: 0.29160103174951835,\n 1406: 0.2896004313091823,\n 1407: 0.29228317133908865,\n 208: 0.2793694886057455,\n 286: 0.303088516602061,\n 751: 0.277089528262294,\n 1972: 0.3130517390359632,\n 754: 0.28646645745605653,\n 1416: 0.3009857633552554,\n 1429: 0.3190633556793504,\n 1436: 0.28166188026157263,\n 212: 0.2447218937716108,\n 1410: 0.2745807183632947,\n 284: 0.2921738146198523,\n 362: 0.2645350823256132,\n 205: 0.254823809112485,\n 622: 0.2617201719397437,\n 316: 0.27202214160940874,\n 234: 0.27254430260019546,\n 204: 0.2710073097432622,\n 290: 0.2609113140745774,\n 1963: 0.27306847207805235,\n 554: 0.23340284331621017,\n 206: 0.23868191733023922,\n 207: 0.24331128307375297,\n 210: 0.24096507383328247,\n 213: 0.24174833620469316,\n 215: 0.2344891713910998,\n 2874: 0.23457721929264347,\n 2369: 0.2345243826188783,\n 217: 0.25616124750703956,\n 1669: 0.3076861950453941,\n 3135: 0.2823492951370189,\n 219: 0.2561822563848799,\n 220: 0.25616124750703956,\n 221: 0.25616124750703956,\n 223: 0.25616124750703956,\n 225: 0.25616124750703956,\n 222: 0.2561822563848799,\n 224: 0.2561822563848799,\n 227: 0.25616124750703956,\n 229: 0.265886129732792,\n 372: 0.25616124750703956,\n 230: 0.26798475052340776,\n 232: 0.25616124750703956,\n 233: 0.25616124750703956,\n 235: 0.27136045974292766,\n 236: 0.26586349920000346,\n 1655: 0.294932513653181,\n 2633: 0.27046759477884147,\n 231: 0.265886129732792,\n 226: 0.20337458507069733,\n 228: 0.23061131429315912,\n 2128: 0.2564978035885072,\n 237: 0.3050122304560922,\n 577: 0.2851068138098613,\n 238: 0.29274885211816687,\n 269: 0.287892189133718,\n 249: 0.2913018979857167,\n 261: 0.2700700546516376,\n 239: 0.2494513857291839,\n 273: 0.2714076159614945,\n 289: 0.2710308244772963,\n 292: 0.2603025210084034,\n 2365: 0.2580020031470092,\n 2038: 0.29661288121743806,\n 782: 0.29032719138403573,\n 241: 0.21201589982358246,\n 278: 0.286387664078192,\n 624: 0.28911794262318036,\n 503: 0.294376614089232,\n 2201: 0.22897157690227535,\n 2352: 0.22566321717243465,\n 596: 0.25664532512536686,\n 260: 0.24096507383328247,\n 339: 0.2649614260837086,\n 331: 0.2946543016791662,\n 748: 0.2786219117028669,\n 747: 0.2375926258538709,\n 677: 0.23714168327519286,\n 788: 0.2655245028987454,\n 3153: 0.2786964893023591,\n 753: 0.2364237248032728,\n 248: 0.26302039845914793,\n 631: 0.2913018979857167,\n 636: 0.29032719138403573,\n 250: 0.2296618081097596,\n 632: 0.23773728990797174,\n 2343: 0.25969656236288996,\n 258: 0.2828094388502346,\n 301: 0.2976870534738245,\n 303: 0.2894394229152002,\n 330: 0.27159640484313025,\n 653: 0.2668857016490807,\n 601: 0.25178383460429155,\n 633: 0.23312413255473097,\n 574: 0.279169742792103,\n 1802: 0.3170876309106528,\n 376: 0.303088516602061,\n 551: 0.2999740950831499,\n 1484: 0.31638106473218275,\n 1483: 0.29526706230275457,\n 572: 0.29454316380017354,\n 525: 0.30029131437231693,\n 257: 0.2616324861463138,\n 263: 0.28273264410760685,\n 265: 0.24979050396648067,\n 266: 0.2496707099433171,\n 2345: 0.19932552179827964,\n 2349: 0.199338241997501,\n 2346: 0.19932552179827964,\n 2347: 0.199338241997501,\n 2348: 0.19932552179827964,\n 2350: 0.19932552179827964,\n 267: 0.24124422706988263,\n 296: 0.2364774208570551,\n 318: 0.2509141498996579,\n 276: 0.24955103076622517,\n 274: 0.24407174965626197,\n 2353: 0.2439383250371605,\n 2344: 0.2439383250371605,\n 2354: 0.25666641348404606,\n 272: 0.2439383250371605,\n 277: 0.2439383250371605,\n 345: 0.2658408725192205,\n 275: 0.23329824871916055,\n 293: 0.27247298081828686,\n 717: 0.23329824871916055,\n 351: 0.2675944703247529,\n 560: 0.24308406631134946,\n 714: 0.29011147507205726,\n 595: 0.25129768721647955,\n 696: 0.23457721929264347,\n 361: 0.26304254754533396,\n 643: 0.24834077373993008,\n 627: 0.2637310243246235,\n 366: 0.24747506354784032,\n 568: 0.2937399146229867,\n 281: 0.17273849760000223,\n 1239: 0.24735747957719673,\n 613: 0.29432113936689347,\n 457: 0.29081372796767907,\n 547: 0.2929135645255852,\n 1257: 0.30933157576756193,\n 310: 0.28738892741750305,\n 1662: 0.3147551644599799,\n 1659: 0.31450163633717687,\n 648: 0.2848208491019277,\n 652: 0.28430238027676713,\n 2210: 0.29236524261520414,\n 1074: 0.3150408726274171,\n 371: 0.2839147656881331,\n 1310: 0.2868347338935574,\n 1368: 0.29678197169604187,\n 353: 0.28728320170153965,\n 764: 0.2905702560093805,\n 507: 0.294099449402207,\n 283: 0.2499304090335126,\n 285: 0.24506749192694496,\n 300: 0.2657051932715924,\n 299: 0.26464714497168856,\n 298: 0.26464714497168856,\n 297: 0.26464714497168856,\n 1964: 0.26725104826324786,\n 320: 0.268307013580213,\n 304: 0.2131007130645955,\n 307: 0.25071275801435433,\n 312: 0.25354141656662665,\n 305: 0.2504112756213597,\n 2188: 0.21314433654731085,\n 319: 0.25037113274293366,\n 322: 0.21301351964681126,\n 2363: 0.21304257619020872,\n 2191: 0.21311525224130726,\n 306: 0.25035106612974595,\n 2357: 0.22563061630315231,\n 329: 0.25029088558500323,\n 2355: 0.19992513134285975,\n 321: 0.2256143194005663,\n 2203: 0.19989954256372972,\n 2359: 0.19991233613445378,\n 2152: 0.2130861758715356,\n 2362: 0.19992513134285975,\n 314: 0.25015057676790586,\n 2200: 0.25013054549173935,\n 327: 0.23551460846722766,\n 2361: 0.25013054549173935,\n 309: 0.17528789293495178,\n 2204: 0.17530756830737684,\n 2190: 0.17532724809726316,\n 2364: 0.1997589212829085,\n 311: 0.2499904163346011,\n 313: 0.2499904163346011,\n 328: 0.25011051742339985,\n 326: 0.25023073396626133,\n 323: 0.2499904163346011,\n 324: 0.2499904163346011,\n 2360: 0.2500104251721499,\n 317: 0.2130280469276983,\n 2356: 0.2255003069665637,\n 1409: 0.26631684304721975,\n 2358: 0.2255003069665637,\n 1971: 0.26319769566067075,\n 1966: 0.3076558900916813,\n 2629: 0.29250213054600993,\n 342: 0.25958865221481264,\n 370: 0.2358346736202975,\n 358: 0.25971815515929497,\n 344: 0.25954551326139097,\n 352: 0.2596102270695512,\n 373: 0.2601724347910079,\n 346: 0.2126075586782494,\n 347: 0.2595023886434195,\n 354: 0.2595023886434195,\n 349: 0.2594808317079947,\n 350: 0.25958865221481264,\n 365: 0.21052977368071984,\n 355: 0.25956708094572384,\n 356: 0.2595023886434195,\n 360: 0.2595023886434195,\n 367: 0.2596318055108337,\n 357: 0.25952394916092064,\n 364: 0.20546143867005462,\n 359: 0.2594808317079947,\n 2366: 0.2596102270695512,\n 363: 0.25952394916092064,\n 2371: 0.20546143867005462,\n 2368: 0.2622695425777364,\n 1700: 0.3069303578756844,\n 2370: 0.25958865221481264,\n 2090: 0.2959104066029595,\n 2367: 0.25952394916092064,\n 375: 0.25732187594536954,\n 377: 0.28531514907753386,\n 385: 0.25734307563855996,\n 395: 0.2596318055108337,\n 394: 0.25744912652277596,\n 383: 0.23194700023025475,\n 378: 0.25734307563855996,\n 379: 0.25732187594536954,\n 380: 0.25730067974471504,\n 382: 0.25730067974471504,\n 446: 0.27711411037090494,\n 2372: 0.25734307563855996,\n 390: 0.25730067974471504,\n 2904: 0.25738548550600204,\n 409: 0.28670309794408816,\n 384: 0.2572582978175622,\n 408: 0.25952394916092064,\n 456: 0.25740669568198105,\n 393: 0.25730067974471504,\n 392: 0.2572794870357335,\n 470: 0.26433360853861726,\n 411: 0.2596318055108337,\n 458: 0.25952394916092064,\n 550: 0.2623135918794794,\n 416: 0.30261870297431126,\n 1633: 0.30927032199018223,\n 447: 0.2600208317739816,\n 443: 0.25785291828469875,\n 455: 0.25730067974471504,\n 546: 0.29563034753935646,\n 459: 0.26359748962876295,\n 460: 0.2572582978175622,\n 398: 0.2572582978175622,\n 386: 0.2572582978175622,\n 448: 0.26006412889025393,\n 388: 0.2572582978175622,\n 387: 0.2572582978175622,\n 389: 0.2572582978175622,\n 450: 0.25785291828469875,\n 391: 0.2572582978175622,\n 451: 0.25776780426644996,\n 444: 0.25776780426644996,\n 414: 0.2953508180882035,\n 440: 0.22567952114015177,\n 399: 0.2862564380590946,\n 415: 0.24489457092127326,\n 403: 0.24489457092127326,\n 407: 0.22826879948120726,\n 405: 0.22821876613581066,\n 406: 0.2255003069665637,\n 2373: 0.2221327159792946,\n 3186: 0.22214851376863953,\n ...}"
     },
     "metadata": {}
    }
   ]
  },
  {
   "cell_type": "code",
   "metadata": {
    "tags": [],
    "cell_id": "00025-38932945-f0ca-42d9-b6e9-882545d9adbe",
    "deepnote_to_be_reexecuted": false,
    "source_hash": "a31f9d05",
    "execution_start": 1637089474058,
    "execution_millis": 4,
    "deepnote_cell_type": "code"
   },
   "source": "#betweenness centrality\n#nx.betweenness_centrality(G)",
   "execution_count": 21,
   "outputs": []
  },
  {
   "cell_type": "code",
   "metadata": {
    "tags": [],
    "cell_id": "00026-1136adb1-6e9d-476e-b8fa-09ba3df198b4",
    "deepnote_to_be_reexecuted": false,
    "source_hash": "49aa4d6d",
    "execution_start": 1637089477094,
    "execution_millis": 60886,
    "deepnote_cell_type": "code"
   },
   "source": "#global reaching centality\nnx.global_reaching_centrality(G)",
   "execution_count": 22,
   "outputs": [
    {
     "output_type": "execute_result",
     "execution_count": 22,
     "data": {
      "text/plain": "0.015025811825577145"
     },
     "metadata": {}
    }
   ]
  },
  {
   "cell_type": "markdown",
   "source": "### Community discovery",
   "metadata": {
    "tags": [],
    "is_collapsed": false,
    "cell_id": "00037-e38e7032-b4aa-48c4-814f-b8f77d5446c7",
    "deepnote_cell_type": "text-cell-h3"
   }
  },
  {
   "cell_type": "code",
   "metadata": {
    "tags": [],
    "cell_id": "00038-966be488-177b-4772-9953-ceb50dbcba41",
    "deepnote_to_be_reexecuted": false,
    "source_hash": "34579668",
    "execution_start": 1637089537981,
    "execution_millis": 62149,
    "deepnote_cell_type": "code"
   },
   "source": "from community import community_louvain\nimport matplotlib.cm as cm\n\n#make the graph undirected\nundirected_G = G.to_undirected()\n#Find the best partitioning\npartition = community_louvain.best_partition(undirected_G)\nprint(partition)\n\n#Draw the graph\npos = nx.spring_layout(undirected_G)\n# color the nodes according to their partition\ncmap = cm.get_cmap('viridis', max(partition.values()) + 1)\nnx.draw_networkx_nodes(G, pos, partition.keys(), node_size=40,\n                    cmap=cmap, node_color=list(partition.values()))\nnx.draw_networkx_edges(undirected_G, pos, alpha=0.5)\nplt.show()",
   "execution_count": 23,
   "outputs": [
    {
     "name": "stdout",
     "text": "{0: 0, 2: 0, 3: 0, 1: 0, 4: 0, 5: 0, 2250: 0, 2256: 0, 2251: 0, 2254: 0, 2253: 0, 2243: 0, 2246: 0, 2245: 0, 2255: 0, 1610: 0, 2244: 0, 2247: 0, 2241: 0, 2135: 0, 2242: 0, 1612: 0, 1951: 0, 2048: 0, 1485: 1, 2248: 0, 2249: 0, 1115: 0, 903: 0, 1058: 1, 1607: 0, 1639: 0, 2257: 0, 6: 2, 7: 2, 2260: 2, 2261: 2, 2264: 2, 8: 2, 1988: 2, 2266: 2, 2262: 2, 13: 3, 14: 2, 295: 3, 1989: 2, 9: 2, 2265: 2, 10: 2, 11: 2, 12: 2, 218: 3, 308: 3, 315: 3, 282: 3, 368: 3, 294: 3, 1699: 4, 184: 3, 628: 17, 1853: 4, 1721: 4, 191: 3, 270: 3, 1829: 4, 1870: 4, 253: 3, 255: 4, 242: 3, 196: 3, 1754: 4, 2115: 4, 31: 4, 125: 4, 758: 3, 245: 3, 640: 3, 271: 3, 247: 3, 566: 3, 188: 3, 15: 4, 73: 4, 80: 4, 87: 4, 16: 4, 2288: 4, 121: 4, 122: 4, 17: 4, 89: 4, 124: 4, 65: 4, 99: 4, 18: 4, 46: 4, 130: 4, 19: 7, 2289: 7, 2326: 7, 79: 7, 90: 7, 20: 4, 71: 4, 97: 4, 3044: 4, 21: 4, 113: 4, 22: 7, 26: 7, 118: 7, 126: 7, 44: 7, 23: 4, 24: 4, 25: 4, 48: 4, 43: 7, 27: 7, 34: 7, 49: 7, 28: 7, 84: 7, 29: 4, 30: 4, 115: 4, 111: 4, 59: 4, 3043: 4, 104: 4, 1800: 4, 1914: 4, 1715: 4, 1708: 4, 1744: 4, 1885: 4, 1712: 4, 56: 4, 60: 4, 72: 4, 74: 4, 98: 4, 102: 4, 1901: 4, 47: 7, 82: 7, 853: 4, 1888: 4, 841: 4, 45: 4, 55: 4, 110: 4, 119: 4, 32: 7, 120: 4, 33: 7, 96: 7, 2148: 7, 83: 7, 88: 7, 131: 7, 2146: 7, 2295: 7, 91: 7, 106: 7, 3120: 7, 2308: 7, 95: 7, 35: 4, 36: 4, 2319: 4, 85: 4, 37: 7, 38: 4, 39: 7, 2296: 7, 2865: 7, 40: 4, 41: 4, 2901: 4, 42: 8, 68: 8, 2321: 8, 105: 8, 70: 4, 94: 4, 1731: 4, 1854: 4, 75: 4, 76: 4, 81: 4, 117: 4, 1818: 4, 645: 4, 1915: 4, 803: 4, 792: 4, 50: 4, 51: 4, 107: 4, 52: 4, 53: 4, 54: 4, 101: 4, 66: 4, 64: 4, 57: 7, 2292: 7, 2306: 7, 86: 4, 58: 10, 2303: 10, 3118: 10, 1913: 4, 109: 4, 1789: 4, 61: 4, 62: 4, 3042: 4, 63: 4, 67: 4, 2284: 8, 69: 4, 2293: 4, 2325: 4, 77: 4, 100: 4, 78: 7, 2298: 7, 112: 4, 2297: 4, 123: 4, 1850: 4, 1729: 4, 92: 4, 1011: 11, 1753: 12, 2482: 4, 1882: 4, 874: 4, 815: 4, 1354: 4, 1736: 4, 755: 3, 880: 3, 873: 12, 1356: 4, 881: 4, 882: 4, 2328: 4, 899: 4, 1809: 4, 133: 3, 832: 4, 492: 17, 876: 4, 875: 3, 176: 3, 3204: 11, 629: 3, 579: 3, 1952: 3, 570: 3, 593: 3, 706: 3, 739: 3, 614: 3, 618: 3, 619: 3, 793: 4, 597: 3, 704: 3, 2312: 7, 93: 7, 2280: 7, 2311: 7, 2286: 7, 2315: 7, 2307: 7, 2866: 7, 2145: 7, 2099: 1, 2875: 4, 2318: 4, 129: 4, 3119: 4, 2332: 4, 1834: 4, 939: 0, 1102: 1, 1838: 1, 1943: 1, 1702: 4, 1642: 1, 1679: 1, 108: 4, 114: 4, 116: 4, 127: 4, 1056: 1, 1646: 1, 1738: 4, 1909: 4, 1728: 4, 1766: 4, 845: 4, 2322: 7, 2336: 4, 103: 4, 2277: 8, 2331: 8, 2274: 8, 2276: 8, 2285: 8, 2283: 8, 2273: 8, 2291: 8, 2323: 8, 2333: 8, 2334: 8, 2335: 8, 1841: 4, 2290: 4, 3040: 13, 2270: 13, 1351: 4, 1367: 12, 1015: 11, 2046: 4, 1352: 4, 1813: 4, 1264: 12, 1894: 4, 1716: 4, 1857: 4, 1717: 4, 288: 3, 884: 4, 889: 4, 1357: 4, 1190: 12, 879: 3, 1759: 4, 770: 11, 802: 4, 1317: 12, 866: 4, 1704: 4, 1739: 4, 1831: 4, 1904: 4, 898: 4, 1751: 4, 789: 12, 1780: 4, 1778: 4, 1867: 4, 1241: 12, 868: 12, 1806: 4, 1849: 4, 718: 14, 1790: 4, 1366: 4, 728: 3, 340: 3, 128: 4, 871: 12, 2175: 4, 1374: 4, 864: 12, 1017: 11, 508: 17, 523: 11, 1034: 11, 1026: 11, 1027: 11, 737: 3, 735: 3, 1435: 14, 977: 11, 1437: 14, 1363: 4, 1371: 4, 3045: 7, 2271: 7, 2320: 7, 2310: 7, 2144: 7, 132: 3, 194: 3, 136: 3, 160: 17, 144: 3, 1014: 11, 474: 17, 2337: 3, 145: 3, 137: 3, 134: 3, 500: 17, 2340: 3, 608: 3, 147: 3, 148: 3, 139: 3, 149: 3, 630: 3, 578: 3, 143: 3, 691: 3, 174: 17, 151: 3, 142: 3, 154: 17, 1990: 3, 2849: 3, 138: 3, 150: 3, 140: 3, 538: 11, 141: 3, 723: 3, 978: 11, 135: 3, 146: 3, 2338: 3, 2339: 3, 152: 3, 153: 17, 182: 17, 170: 17, 400: 17, 401: 17, 441: 17, 404: 17, 161: 17, 156: 17, 2040: 17, 396: 17, 397: 17, 155: 17, 486: 17, 2341: 17, 157: 17, 484: 17, 485: 17, 158: 17, 159: 17, 381: 17, 2071: 17, 2113: 17, 171: 17, 454: 17, 162: 17, 163: 17, 164: 17, 165: 17, 166: 17, 169: 11, 2868: 17, 2946: 17, 172: 17, 173: 17, 167: 17, 168: 17, 544: 11, 3185: 17, 540: 17, 175: 3, 639: 3, 537: 11, 2404: 11, 2402: 11, 2403: 11, 783: 3, 699: 3, 2016: 14, 195: 3, 1013: 11, 501: 17, 685: 3, 642: 3, 179: 3, 178: 3, 177: 3, 708: 3, 180: 11, 181: 3, 197: 3, 198: 3, 302: 3, 3071: 3, 193: 3, 1188: 12, 183: 3, 254: 3, 2390: 3, 497: 3, 200: 3, 1445: 11, 1493: 11, 650: 3, 519: 17, 433: 17, 487: 3, 490: 3, 493: 3, 695: 3, 264: 3, 262: 3, 1962: 3, 1965: 3, 287: 3, 555: 3, 700: 3, 586: 3, 480: 3, 762: 3, 553: 3, 657: 3, 668: 3, 559: 3, 2061: 3, 575: 3, 663: 3, 655: 3, 599: 3, 567: 3, 479: 3, 580: 3, 558: 3, 582: 3, 666: 3, 481: 3, 786: 14, 556: 3, 675: 3, 569: 3, 201: 3, 585: 3, 712: 3, 334: 3, 341: 3, 682: 3, 202: 3, 2112: 17, 716: 3, 564: 3, 216: 3, 771: 11, 2182: 3, 1401: 14, 750: 3, 240: 3, 609: 3, 1919: 1, 369: 3, 676: 3, 731: 3, 461: 17, 710: 3, 343: 3, 591: 3, 693: 3, 2906: 3, 2183: 11, 185: 3, 688: 3, 2179: 3, 680: 3, 692: 3, 603: 3, 678: 3, 787: 3, 689: 3, 617: 3, 705: 3, 3176: 3, 594: 3, 489: 3, 644: 3, 611: 3, 476: 3, 694: 3, 573: 3, 335: 3, 2850: 3, 621: 3, 348: 3, 711: 3, 620: 3, 709: 3, 679: 3, 561: 3, 491: 3, 605: 3, 325: 3, 589: 3, 674: 3, 681: 3, 784: 3, 687: 3, 701: 3, 647: 3, 3141: 3, 565: 3, 590: 3, 746: 3, 781: 3, 186: 3, 612: 3, 187: 3, 1411: 14, 772: 3, 557: 3, 576: 3, 333: 3, 332: 3, 291: 3, 279: 3, 1408: 14, 246: 3, 690: 3, 256: 3, 727: 3, 189: 3, 524: 3, 190: 3, 2342: 3, 780: 3, 1602: 0, 251: 3, 1513: 11, 1520: 11, 1457: 11, 1542: 1, 1545: 1, 1671: 1, 1664: 1, 532: 17, 1525: 11, 402: 11, 1216: 12, 794: 4, 452: 11, 478: 3, 563: 3, 1223: 12, 1373: 4, 703: 3, 967: 11, 1434: 14, 2192: 11, 1387: 14, 785: 3, 552: 3, 1378: 14, 268: 3, 1377: 14, 203: 3, 1340: 12, 972: 11, 1984: 11, 1983: 12, 211: 3, 192: 3, 2160: 14, 724: 3, 214: 3, 725: 3, 1986: 1, 336: 3, 1442: 14, 726: 3, 1953: 1, 337: 3, 982: 11, 338: 3, 2052: 14, 1431: 14, 1430: 14, 760: 11, 1463: 11, 1021: 11, 504: 3, 667: 3, 2114: 3, 1981: 3, 2187: 3, 562: 3, 199: 3, 757: 3, 610: 3, 671: 3, 659: 3, 374: 3, 742: 3, 1405: 3, 244: 3, 243: 3, 654: 3, 1369: 12, 252: 3, 664: 3, 665: 3, 2127: 3, 670: 3, 280: 3, 259: 3, 768: 11, 2557: 11, 3101: 3, 707: 3, 209: 3, 656: 3, 1402: 14, 1406: 3, 1407: 14, 208: 3, 286: 3, 751: 3, 1972: 14, 754: 3, 1416: 14, 1429: 14, 1436: 14, 212: 3, 1410: 14, 284: 3, 362: 3, 205: 3, 622: 3, 316: 3, 234: 3, 204: 3, 290: 3, 1963: 3, 554: 3, 206: 3, 207: 3, 210: 3, 213: 3, 215: 3, 2874: 3, 2369: 3, 217: 3, 1669: 1, 3135: 11, 219: 3, 220: 3, 221: 3, 223: 3, 225: 3, 222: 3, 224: 3, 227: 3, 229: 3, 372: 3, 230: 3, 232: 3, 233: 3, 235: 3, 236: 3, 1655: 1, 2633: 14, 231: 3, 226: 3, 228: 3, 2128: 3, 237: 3, 577: 3, 238: 3, 269: 3, 249: 3, 261: 3, 239: 3, 273: 3, 289: 3, 292: 3, 2365: 3, 2038: 11, 782: 3, 241: 3, 278: 3, 624: 3, 503: 3, 2201: 3, 2352: 3, 596: 3, 260: 3, 339: 3, 331: 3, 748: 3, 747: 3, 677: 3, 788: 3, 3153: 3, 753: 3, 248: 3, 631: 3, 636: 3, 250: 3, 632: 3, 2343: 3, 258: 3, 301: 3, 303: 3, 330: 15, 653: 3, 601: 3, 633: 3, 574: 3, 1802: 4, 376: 17, 551: 17, 1484: 11, 1483: 11, 572: 3, 525: 11, 257: 3, 263: 3, 265: 16, 266: 3, 2345: 16, 2349: 16, 2346: 16, 2347: 16, 2348: 16, 2350: 16, 267: 3, 296: 3, 318: 3, 276: 3, 274: 3, 2353: 3, 2344: 3, 2354: 3, 272: 3, 277: 3, 345: 3, 275: 3, 293: 3, 717: 3, 351: 3, 560: 3, 714: 3, 595: 3, 696: 3, 361: 3, 643: 3, 627: 3, 366: 3, 568: 3, 281: 12, 1239: 12, 613: 3, 457: 17, 547: 17, 1257: 12, 310: 3, 1662: 1, 1659: 1, 648: 3, 652: 3, 2210: 14, 1074: 1, 371: 3, 1310: 12, 1368: 12, 353: 3, 764: 11, 507: 17, 283: 3, 285: 3, 300: 3, 299: 3, 298: 3, 297: 3, 1964: 3, 320: 3, 304: 15, 307: 15, 312: 15, 305: 15, 2188: 15, 319: 15, 322: 15, 2363: 15, 2191: 15, 306: 3, 2357: 15, 329: 3, 2355: 15, 321: 15, 2203: 15, 2359: 15, 2152: 15, 2362: 15, 314: 3, 2200: 3, 327: 3, 2361: 3, 309: 15, 2204: 15, 2190: 15, 2364: 15, 311: 3, 313: 3, 328: 3, 326: 15, 323: 3, 324: 3, 2360: 3, 317: 15, 2356: 15, 1409: 14, 2358: 15, 1971: 14, 1966: 14, 2629: 14, 342: 3, 370: 3, 358: 3, 344: 3, 352: 3, 373: 3, 346: 3, 347: 3, 354: 3, 349: 3, 350: 3, 365: 3, 355: 3, 356: 3, 360: 3, 367: 3, 357: 3, 364: 3, 359: 3, 2366: 3, 363: 3, 2371: 3, 2368: 3, 1700: 4, 2370: 3, 2090: 11, 2367: 3, 375: 17, 377: 17, 385: 17, 395: 17, 394: 17, 383: 17, 378: 17, 379: 17, 380: 17, 382: 17, 446: 17, 2372: 17, 390: 17, 2904: 17, 409: 17, 384: 17, 408: 17, 456: 17, 393: 17, 392: 17, 470: 17, 411: 17, 458: 17, 550: 17, 416: 17, 1633: 0, 447: 17, 443: 17, 455: 17, 546: 17, 459: 17, 460: 17, 398: 17, 386: 17, 448: 17, 388: 17, 387: 17, 389: 17, 450: 17, 391: 17, 451: 17, 444: 17, 414: 17, 440: 17, 399: 17, 415: 11, 403: 11, 407: 17, 405: 17, 406: 17, 2373: 17, 3186: 17, 410: 17, 2374: 17, 412: 17, 2083: 17, 413: 17, 420: 17, 423: 17, 424: 17, 417: 17, 418: 17, 422: 17, 427: 17, 419: 17, 426: 17, 428: 17, 425: 17, 421: 17, 429: 17, 430: 17, 437: 17, 431: 17, 435: 17, 2376: 17, 432: 17, 2375: 17, 439: 17, 434: 17, 2377: 17, 438: 17, 442: 17, 436: 17, 2391: 17, 449: 17, 445: 17, 2378: 17, 453: 11, 3206: 17, 464: 17, 472: 17, 469: 17, 462: 17, 473: 17, 2383: 17, 463: 17, 468: 17, 465: 17, 466: 17, 3205: 17, 467: 17, 3209: 17, 475: 17, 2386: 17, 482: 3, 477: 3, 502: 17, 2389: 3, 2387: 3, 588: 3, 2385: 3, 483: 3, 488: 17, 616: 3, 697: 3, 494: 17, 496: 17, 3184: 17, 606: 3, 626: 3, 495: 17, 498: 17, 499: 17, 506: 17, 505: 17, 509: 17, 518: 17, 510: 17, 511: 17, 512: 17, 514: 17, 513: 17, 520: 17, 3069: 17, 515: 17, 543: 11, 517: 17, 1979: 11, 516: 17, 534: 17, 2395: 17, 521: 17, 2394: 17, 1976: 11, 1019: 11, 522: 11, 526: 11, 974: 11, 986: 11, 985: 11, 989: 11, 1973: 11, 1974: 11, 2397: 11, 1682: 11, 3122: 11, 968: 11, 1968: 11, 1589: 0, 2406: 11, 527: 17, 530: 17, 528: 17, 529: 17, 533: 17, 531: 17, 2400: 17, 2398: 17, 2399: 17, 3070: 17, 3108: 17, 2401: 17, 2900: 17, 535: 11, 536: 11, 539: 11, 541: 17, 542: 11, 3111: 14, 2896: 11, 2405: 11, 545: 17, 3187: 17, 549: 17, 548: 17, 2407: 17, 3072: 17, 2408: 17, 2111: 3, 587: 3, 584: 3, 2888: 3, 2889: 3, 583: 3, 571: 3, 1270: 12, 1290: 12, 877: 3, 796: 12, 1253: 12, 581: 3, 2470: 3, 1308: 12, 791: 4, 1328: 12, 592: 3, 604: 3, 602: 3, 623: 3, 641: 3, 598: 3, 600: 3, 607: 3, 635: 3, 634: 3, 625: 3, 615: 3, 2388: 3, 1169: 12, 1652: 1, 2657: 14, 637: 3, 638: 3, 1311: 12, 646: 3, 672: 3, 649: 3, 2121: 3, 651: 3, 2122: 3, 658: 3, 661: 3, 2120: 3, 662: 3, 2126: 3, 669: 3, 673: 3, 1420: 14, 683: 3, 684: 3, 686: 3, 1187: 12, 741: 3, 743: 3, 698: 3, 702: 14, 759: 3, 713: 14, 715: 14, 2214: 14, 1424: 14, 1427: 14, 1441: 14, 719: 14, 1403: 14, 1418: 14, 3117: 14, 722: 14, 720: 14, 721: 17, 729: 3, 730: 3, 2472: 3, 733: 3, 734: 3, 732: 3, 736: 3, 740: 3, 738: 3, 1172: 12, 1209: 12, 1210: 12, 1199: 12, 2473: 3, 744: 3, 745: 11, 749: 3, 752: 3, 756: 3, 2469: 11, 761: 11, 2477: 11, 2476: 11, 779: 11, 3172: 11, 2907: 11, 774: 11, 775: 11, 776: 11, 773: 11, 3167: 11, 763: 11, 3073: 11, 3166: 11, 2475: 11, 2474: 11, 765: 11, 2886: 11, 2908: 11, 2910: 11, 777: 11, 778: 11, 1439: 14, 766: 11, 767: 11, 769: 11, 1675: 1, 2217: 14, 2945: 14, 1380: 14, 1381: 14, 1421: 14, 1012: 11, 1037: 11, 1970: 14, 998: 11, 2478: 11, 964: 11, 3173: 11, 996: 11, 1509: 11, 2621: 14, 3168: 11, 2193: 11, 966: 11, 2622: 11, 1982: 11, 3078: 11, 1005: 11, 1006: 11, 1428: 14, 2480: 12, 872: 12, 795: 12, 790: 12, 2011: 12, 798: 12, 801: 12, 852: 12, 859: 12, 797: 12, 799: 12, 2484: 12, 800: 12, 2086: 12, 900: 12, 804: 4, 851: 4, 833: 4, 849: 4, 805: 4, 806: 4, 807: 4, 808: 4, 818: 4, 819: 4, 825: 4, 809: 4, 810: 4, 811: 4, 812: 4, 813: 4, 847: 4, 814: 4, 816: 4, 817: 4, 1777: 4, 1851: 4, 1811: 4, 834: 4, 1843: 4, 1878: 4, 828: 4, 844: 4, 848: 4, 855: 4, 854: 4, 823: 4, 829: 4, 838: 4, 820: 4, 821: 4, 822: 4, 824: 4, 826: 4, 827: 4, 830: 4, 831: 4, 836: 4, 850: 4, 856: 4, 857: 4, 858: 4, 2485: 4, 835: 4, 837: 4, 839: 4, 842: 4, 846: 4, 1883: 4, 843: 4, 840: 4, 860: 12, 863: 12, 861: 12, 862: 12, 3107: 12, 1329: 12, 1294: 12, 1260: 12, 1265: 12, 1263: 12, 1133: 12, 1269: 12, 1268: 12, 1320: 12, 1183: 12, 1337: 12, 1286: 12, 1349: 12, 865: 12, 2489: 12, 2490: 4, 2488: 12, 867: 12, 2870: 12, 2934: 12, 2869: 12, 2487: 12, 870: 12, 869: 12, 2483: 12, 878: 3, 1339: 12, 883: 4, 2181: 4, 885: 4, 1827: 4, 1835: 4, 886: 4, 2492: 4, 887: 4, 888: 4, 891: 4, 890: 4, 892: 4, 893: 4, 1876: 4, 1768: 4, 894: 4, 897: 4, 895: 4, 896: 4, 2491: 4, 3121: 12, 2163: 12, 901: 0, 2493: 0, 902: 0, 2494: 0, 2496: 0, 2495: 0, 2049: 18, 908: 0, 941: 0, 1043: 0, 2498: 0, 2500: 0, 1626: 0, 2502: 0, 904: 0, 2503: 0, 905: 0, 906: 0, 2501: 0, 930: 0, 938: 0, 907: 0, 2051: 0, 2497: 0, 2499: 0, 2504: 0, 2050: 0, 1041: 0, 2506: 0, 909: 1, 910: 18, 2929: 18, 911: 18, 3074: 18, 912: 18, 924: 18, 913: 18, 914: 18, 2507: 18, 915: 18, 916: 18, 917: 18, 918: 18, 921: 18, 919: 18, 920: 18, 922: 18, 2508: 18, 2510: 18, 2509: 18, 923: 18, 925: 18, 928: 18, 926: 18, 929: 18, 927: 18, 2515: 0, 2532: 0, 2514: 0, 2534: 0, 2520: 0, 2522: 0, 2519: 0, 2523: 0, 2518: 0, 2525: 0, 2529: 0, 2147: 0, 2526: 0, 2528: 0, 931: 19, 934: 19, 932: 19, 2536: 19, 933: 19, 2535: 19, 937: 19, 2537: 19, 935: 19, 936: 19, 1627: 0, 942: 0, 1611: 0, 959: 0, 953: 0, 957: 0, 943: 0, 945: 0, 947: 0, 946: 0, 2064: 0, 948: 0, 949: 0, 951: 0, 952: 0, 954: 0, 955: 0, 940: 0, 962: 0, 958: 0, 960: 0, 944: 0, 950: 0, 956: 0, 961: 0, 963: 11, 965: 11, 1031: 11, 1516: 11, 2902: 11, 1523: 11, 1519: 11, 969: 11, 970: 11, 971: 11, 1517: 11, 979: 11, 973: 11, 976: 11, 975: 11, 1479: 11, 1587: 0, 1941: 0, 2558: 11, 1975: 11, 1029: 11, 2539: 11, 980: 11, 992: 11, 1007: 11, 2538: 11, 988: 11, 2882: 11, 1501: 11, 2548: 11, 983: 11, 999: 11, 984: 11, 1000: 11, 1022: 11, 3138: 11, 981: 11, 987: 11, 990: 11, 991: 11, 994: 11, 2545: 11, 3087: 11, 1001: 11, 993: 11, 995: 11, 997: 11, 1002: 11, 2547: 11, 2543: 11, 2542: 11, 2541: 11, 2883: 11, 2544: 11, 2884: 11, 1004: 11, 3088: 11, 1010: 11, 1009: 11, 2540: 11, 2546: 11, 1003: 11, 1008: 11, 1443: 11, 1451: 11, 1534: 1, 1496: 11, 1033: 11, 1016: 11, 1018: 11, 3162: 11, 1471: 11, 1423: 14, 1658: 1, 2222: 14, 1382: 14, 1515: 11, 1456: 11, 2553: 11, 2556: 11, 1032: 11, 1020: 11, 1024: 11, 1023: 11, 1025: 11, 2550: 11, 1028: 11, 1030: 11, 1035: 11, 2549: 11, 2551: 11, 2554: 11, 1036: 11, 2555: 11, 1038: 1, 1040: 1, 1039: 1, 1106: 1, 1063: 1, 1085: 1, 1099: 1, 1046: 1, 1044: 0, 1048: 1, 1042: 0, 1047: 0, 1045: 0, 1049: 1, 1052: 1, 1055: 1, 1051: 1, 1054: 1, 1050: 1, 1647: 1, 1057: 1, 1661: 1, 1666: 1, 1651: 1, 1507: 1, 1663: 1, 2073: 1, 1644: 1, 1660: 1, 1111: 1, 1650: 1, 1649: 1, 1665: 1, 2103: 1, 2780: 1, 1053: 1, 2814: 1, 1108: 1, 1667: 1, 1645: 1, 2773: 1, 2018: 1, 2815: 1, 1584: 0, 1678: 1, 1072: 1, 2771: 1, 1064: 1, 1676: 1, 1082: 1, 1648: 1, 1465: 1, 2810: 1, 2084: 1, 1084: 1, 1112: 1, 1076: 1, 1075: 1, 1605: 0, 1557: 1, 2017: 1, 1093: 1, 1083: 1, 2812: 1, 2225: 1, 2779: 1, 1670: 1, 2055: 1, 1105: 1, 1944: 1, 2570: 1, 1466: 1, 1654: 1, 2809: 1, 1127: 0, 1668: 1, 1090: 1, 1087: 1, 1089: 1, 1077: 1, 1395: 14, 1391: 14, 1396: 14, 2226: 1, 1656: 1, 1059: 1, 1060: 1, 1954: 1, 1061: 1, 1062: 1, 2574: 1, 1094: 1, 1097: 1, 1096: 1, 1065: 1, 1066: 1, 1067: 1, 1068: 1, 1080: 1, 1069: 1, 1070: 1, 1071: 1, 1073: 1, 1078: 1, 1079: 1, 2572: 1, 1081: 1, 1086: 1, 1088: 1, 1095: 1, 1098: 1, 1091: 1, 1092: 1, 1100: 1, 1101: 1, 2571: 1, 2573: 1, 3213: 1, 1681: 1, 2575: 1, 2576: 1, 1114: 1, 1103: 1, 1104: 1, 2581: 1, 2580: 1, 2577: 1, 1110: 1, 1107: 1, 2578: 1, 1109: 1, 2119: 1, 1113: 1, 2586: 0, 2130: 0, 1116: 0, 1117: 0, 2590: 0, 1124: 0, 1119: 0, 2133: 0, 1125: 0, 2134: 0, 1128: 0, 2592: 0, 2584: 0, 2587: 0, 1120: 0, 1123: 0, 2871: 0, 2131: 0, 2060: 0, 1126: 0, 2132: 0, 1118: 0, 1121: 0, 1122: 0, 1987: 0, 2129: 0, 2588: 0, 2585: 0, 2589: 0, 1991: 0, 2591: 0, 1581: 0, 2583: 0, 2095: 0, 1129: 12, 1132: 12, 1130: 12, 2903: 12, 1131: 12, 1157: 12, 1135: 12, 1156: 12, 1160: 12, 1161: 12, 1148: 12, 1136: 12, 1178: 12, 1149: 12, 1185: 12, 1143: 12, 2041: 12, 1144: 12, 1138: 12, 1147: 12, 1141: 12, 1134: 12, 1158: 12, 1145: 12, 1150: 12, 1142: 12, 1153: 12, 1154: 12, 3157: 12, 1159: 12, 1137: 12, 1146: 12, 1139: 12, 1140: 12, 1155: 12, 1151: 12, 1152: 12, 1162: 12, 3053: 12, 1163: 12, 1164: 12, 1205: 12, 1217: 12, 1165: 12, 1180: 12, 1166: 12, 1167: 12, 1191: 12, 3086: 12, 1195: 12, 1202: 12, 1206: 12, 2062: 12, 1220: 12, 3054: 12, 1168: 12, 1218: 12, 3065: 12, 3050: 12, 2873: 12, 1194: 12, 1204: 12, 3123: 12, 1219: 12, 1232: 12, 2597: 12, 3056: 12, 3051: 12, 3059: 12, 2137: 12, 1221: 12, 1173: 12, 1189: 12, 1196: 12, 1214: 12, 1215: 12, 1225: 12, 1235: 12, 1193: 12, 2593: 12, 1213: 12, 1222: 12, 1170: 12, 1171: 12, 2136: 12, 1198: 12, 3113: 12, 1233: 12, 3060: 12, 1177: 12, 1203: 12, 1174: 12, 1175: 12, 1176: 12, 2595: 12, 1179: 12, 1184: 12, 1200: 12, 3130: 12, 3062: 12, 1234: 12, 2613: 12, 3182: 12, 3061: 12, 1181: 12, 1182: 12, 3067: 12, 3066: 12, 3055: 12, 1227: 12, 1226: 12, 3063: 12, 1186: 12, 1207: 12, 2176: 12, 1197: 12, 1211: 12, 1301: 12, 3134: 12, 1192: 12, 3128: 12, 2138: 12, 3124: 12, 2596: 12, 3064: 12, 1201: 12, 3068: 12, 1228: 12, 3125: 12, 3126: 12, 1208: 12, 2598: 12, 1212: 12, 2847: 12, 2611: 12, 2594: 12, 1230: 12, 1224: 12, 3131: 12, 3133: 12, 3132: 12, 1229: 12, 1231: 12, 1236: 12, 1242: 12, 1240: 12, 1303: 12, 1237: 12, 1248: 12, 1238: 12, 2180: 12, 1246: 12, 1243: 12, 1247: 12, 1244: 18, 1245: 12, 1249: 12, 3183: 12, 1250: 12, 1254: 12, 1251: 12, 1252: 12, 2599: 12, 2601: 12, 2600: 12, 1255: 12, 3201: 12, 1256: 12, 1258: 12, 1259: 12, 1261: 12, 1262: 12, 2602: 12, 1278: 12, 1297: 12, 1267: 12, 1272: 12, 1280: 12, 1274: 12, 1277: 12, 1282: 12, 1285: 12, 2605: 12, 1288: 12, 3048: 12, 1292: 12, 1295: 12, 1296: 12, 1298: 12, 3049: 12, 1300: 12, 1273: 12, 2606: 12, 1276: 12, 1279: 12, 1281: 12, 1283: 12, 1284: 12, 1287: 12, 1291: 12, 1293: 12, 1299: 12, 1266: 12, 1275: 12, 1271: 12, 2603: 12, 2604: 12, 1289: 12, 2877: 12, 1307: 12, 1302: 12, 1305: 12, 1306: 12, 1304: 12, 2149: 12, 1321: 12, 1327: 12, 3047: 12, 3046: 12, 1309: 12, 2607: 12, 2608: 12, 1312: 12, 1323: 12, 1313: 12, 1314: 12, 1315: 12, 1316: 12, 2610: 12, 2609: 12, 1318: 12, 1325: 12, 1326: 12, 1319: 12, 1324: 12, 1322: 12, 3181: 12, 1344: 12, 1330: 12, 1331: 12, 1332: 12, 1333: 12, 1334: 12, 1335: 12, 1336: 12, 1343: 12, 1338: 12, 1341: 12, 1347: 12, 2612: 12, 1350: 12, 1342: 12, 1348: 12, 1345: 12, 1346: 12, 2614: 4, 1364: 4, 1372: 4, 1353: 4, 1365: 4, 2845: 4, 2177: 4, 1376: 4, 1375: 4, 1358: 4, 1355: 4, 1359: 4, 2615: 4, 2911: 4, 1360: 4, 1361: 4, 1362: 4, 2920: 4, 1370: 4, 2150: 4, 1386: 14, 1379: 14, 2618: 14, 2223: 14, 2616: 14, 2620: 14, 1385: 14, 2617: 14, 2619: 14, 2211: 14, 1384: 14, 1415: 14, 1383: 14, 2660: 14, 1399: 14, 1388: 14, 1389: 14, 2623: 14, 3165: 14, 1392: 14, 2624: 14, 2625: 14, 2626: 14, 1390: 14, 1400: 14, 1397: 14, 2832: 1, 2627: 14, 1394: 14, 1393: 14, 3150: 14, 1653: 1, 1643: 1, 2937: 14, 1398: 14, 3160: 14, 2928: 14, 1412: 14, 2635: 14, 2630: 14, 1404: 14, 3103: 14, 2628: 14, 2631: 3, 2663: 14, 1422: 14, 2213: 14, 1438: 14, 2652: 14, 2664: 14, 2931: 14, 2649: 14, 1417: 14, 2667: 14, 2218: 14, 3090: 14, 2653: 14, 1432: 14, 2654: 14, 2658: 14, 2655: 14, 2848: 14, 1433: 14, 2648: 14, 1440: 14, 2206: 14, 2076: 14, 3147: 14, 2205: 14, 1413: 14, 1414: 14, 1426: 14, 2215: 14, 2645: 14, 1419: 14, 1425: 14, 2171: 14, 2647: 14, 2651: 14, 2951: 14, 2224: 14, 3143: 14, 2221: 14, 2216: 14, 2646: 14, 2650: 14, 2644: 14, 1488: 11, 2656: 14, 2659: 14, 2930: 14, 2636: 14, 2846: 14, 2661: 14, 2220: 14, 2662: 14, 1444: 11, 1470: 11, 1448: 11, 2671: 11, 1452: 11, 1491: 11, 1497: 11, 1475: 11, 1502: 11, 1446: 11, 1449: 11, 1450: 11, 2409: 11, 1495: 11, 1459: 11, 1460: 11, 1462: 11, 1477: 11, 1486: 11, 1494: 11, 1487: 11, 1454: 11, 1489: 11, 2668: 11, 1453: 11, 1461: 11, 1447: 11, 1455: 11, 1458: 11, 3161: 11, 1518: 11, 1522: 0, 2677: 11, 3171: 11, 2669: 11, 1464: 11, 1526: 1, 1506: 1, 2063: 1, 1541: 1, 1503: 1, 1504: 1, 1467: 11, 1472: 11, 1468: 11, 1469: 11, 1524: 11, 1521: 11, 1474: 11, 1476: 11, 1473: 11, 2672: 11, 2670: 11, 1478: 11, 1480: 11, 1481: 11, 1482: 11, 2673: 11, 2787: 1, 2783: 1, 1533: 1, 2174: 1, 2813: 1, 3105: 1, 2806: 1, 1490: 11, 1492: 11, 2878: 11, 1500: 11, 2891: 11, 1498: 11, 1499: 11, 1657: 1, 1505: 1, 2097: 1, 2098: 1, 2053: 1, 2689: 1, 1508: 11, 2065: 1, 2675: 11, 2674: 11, 1511: 11, 2118: 11, 2676: 11, 1510: 11, 2117: 11, 1512: 11, 3100: 11, 1514: 11, 2678: 11, 3207: 11, 3156: 11, 2143: 11, 2679: 11, 2093: 1, 1945: 1, 2172: 1, 1536: 1, 1532: 1, 1947: 1, 1540: 1, 2680: 1, 2091: 1, 1946: 1, 1530: 1, 1529: 1, 2092: 1, 1539: 1, 1537: 1, 1948: 1, 1535: 1, 1992: 1, 1538: 1, 1949: 1, 1550: 1, 1531: 1, 1527: 1, 1528: 1, 1680: 0, 2681: 1, 2683: 1, 2104: 1, 2682: 1, 2688: 1, 1543: 1, 2686: 1, 1544: 1, 2109: 1, 2687: 1, 2685: 1, 2108: 1, 2105: 1, 2107: 1, 2684: 1, 2106: 1, 1546: 1, 1547: 1, 1556: 1, 1548: 1, 1549: 1, 1552: 1, 1551: 1, 2691: 1, 2690: 1, 1553: 1, 1554: 1, 1555: 1, 1558: 0, 1571: 0, 1559: 0, 1937: 0, 1562: 0, 1565: 0, 1924: 0, 1921: 0, 3139: 0, 1567: 0, 1566: 0, 1576: 0, 1569: 0, 3194: 0, 1570: 0, 1568: 0, 1938: 0, 1575: 0, 1561: 0, 1560: 0, 1573: 0, 1564: 0, 3197: 0, 1563: 0, 3195: 0, 3196: 0, 1920: 0, 3208: 0, 1572: 0, 2694: 0, 1574: 0, 1577: 0, 1578: 0, 1582: 0, 1601: 0, 1597: 0, 1603: 0, 2037: 0, 2697: 0, 1591: 0, 1579: 0, 1580: 0, 2700: 0, 2695: 0, 2897: 0, 2696: 0, 1604: 0, 1585: 0, 2699: 0, 1583: 0, 2096: 0, 1586: 0, 2701: 0, 1588: 0, 1923: 0, 1926: 0, 1930: 0, 1593: 0, 1595: 0, 1592: 0, 1922: 0, 3151: 0, 1928: 0, 1932: 0, 1594: 0, 1942: 0, 1925: 0, 1927: 0, 2702: 0, 1929: 0, 1931: 0, 1590: 0, 1596: 0, 1598: 0, 1599: 0, 1600: 0, 1606: 0, 2000: 0, 1608: 0, 1609: 0, 1997: 0, 1635: 0, 1619: 0, 2140: 0, 2735: 0, 1618: 0, 1624: 0, 2709: 0, 1625: 0, 1616: 0, 2186: 0, 1617: 0, 2715: 0, 1638: 0, 2760: 0, 2993: 0, 2706: 0, 2141: 0, 2185: 0, 1613: 0, 1985: 0, 2725: 0, 2035: 0, 1614: 0, 1628: 0, 2732: 0, 2742: 0, 1632: 0, 2757: 0, 2726: 0, 2753: 0, 2705: 0, 2718: 0, 2756: 0, 2733: 0, 2731: 0, 2747: 0, 1620: 0, 2728: 0, 2759: 0, 2712: 0, 2719: 0, 2729: 0, 1615: 0, 2765: 0, 1621: 0, 1622: 0, 1623: 0, 2723: 0, 2766: 0, 2168: 0, 2720: 0, 2740: 0, 1636: 0, 1629: 0, 2730: 0, 2744: 0, 2736: 0, 1641: 0, 2749: 0, 2755: 0, 2750: 0, 2708: 0, 2716: 0, 2714: 0, 2034: 0, 2764: 0, 1630: 0, 1631: 0, 2704: 0, 3169: 0, 3199: 0, 2722: 0, 2724: 0, 2751: 0, 3091: 0, 2748: 0, 1634: 0, 2752: 0, 1637: 0, 2042: 0, 2741: 0, 1640: 0, 2713: 0, 2727: 0, 2734: 0, 2743: 0, 2746: 0, 2915: 0, 2754: 0, 2916: 0, 2825: 1, 3110: 1, 2799: 1, 2772: 1, 2777: 1, 2899: 1, 2768: 1, 2074: 1, 2770: 1, 2819: 1, 2841: 1, 3190: 1, 2842: 1, 3079: 1, 2820: 1, 2775: 1, 2880: 1, 2807: 1, 2803: 1, 2804: 1, 2802: 1, 2782: 1, 1677: 1, 2822: 1, 2834: 1, 3145: 1, 2774: 1, 2938: 1, 2786: 1, 2776: 1, 2790: 1, 2075: 1, 2839: 1, 3170: 1, 2816: 1, 2835: 1, 3155: 1, 2781: 1, 3191: 1, 3189: 1, 2778: 1, 2769: 1, 2817: 1, 2823: 1, 3152: 1, 2944: 1, 2837: 1, 2100: 1, 2791: 1, 2792: 1, 2811: 1, 3200: 1, 3142: 1, 3149: 1, 2933: 1, 2102: 1, 2808: 1, 2821: 1, 3163: 1, 2767: 1, 2917: 1, 2173: 1, 3082: 1, 3193: 1, 3164: 1, 2798: 1, 3140: 1, 3084: 1, 3083: 1, 3188: 1, 2785: 1, 3112: 1, 3154: 1, 2881: 1, 2805: 1, 2828: 1, 2784: 1, 2178: 1, 2840: 1, 2789: 1, 3211: 1, 3109: 1, 3175: 1, 2788: 1, 1673: 1, 2797: 1, 3077: 1, 3089: 1, 2794: 1, 2795: 1, 2796: 1, 2036: 1, 3102: 1, 2800: 1, 3081: 1, 3085: 1, 2801: 1, 2936: 1, 1672: 1, 2833: 1, 2838: 1, 3080: 1, 2843: 1, 3174: 1, 2824: 1, 2826: 1, 2818: 1, 2830: 1, 3158: 1, 3106: 1, 1674: 1, 2935: 1, 2827: 1, 2829: 1, 3177: 1, 2885: 1, 3212: 1, 2831: 1, 3192: 1, 2932: 1, 2579: 1, 1683: 20, 1688: 20, 1776: 20, 1684: 20, 1815: 20, 1685: 20, 1752: 20, 1686: 4, 1687: 20, 2852: 20, 2923: 20, 1886: 20, 2983: 20, 2987: 20, 1689: 20, 2565: 20, 1690: 20, 1861: 20, 1691: 20, 1692: 20, 1693: 20, 1765: 20, 1694: 4, 1695: 4, 2952: 4, 2851: 4, 1696: 4, 1697: 4, 1698: 4, 2948: 4, 1730: 4, 1907: 4, 1821: 4, 2012: 4, 2162: 4, 2442: 4, 2157: 4, 2844: 4, 2013: 4, 2457: 4, 2460: 4, 1880: 4, 1900: 4, 1860: 4, 1734: 4, 1873: 4, 1750: 4, 1757: 4, 1773: 4, 2077: 4, 1732: 4, 1906: 4, 1863: 4, 2067: 4, 3092: 4, 2006: 4, 1722: 4, 1788: 4, 1711: 4, 1701: 4, 1895: 1, 1823: 1, 1742: 4, 1703: 4, 1725: 4, 1714: 4, 1707: 4, 2461: 4, 1705: 4, 1706: 20, 1868: 20, 1745: 4, 1828: 4, 1839: 4, 1746: 4, 2155: 4, 2043: 4, 1959: 4, 1874: 4, 1960: 4, 2458: 4, 1785: 4, 1762: 4, 2968: 4, 1796: 4, 2001: 4, 1898: 4, 2085: 4, 1709: 4, 1775: 4, 1710: 4, 1771: 4, 2227: 4, 2422: 4, 1825: 4, 1879: 4, 2443: 4, 2069: 4, 1877: 4, 2448: 4, 2642: 4, 2066: 4, 2070: 4, 1713: 4, 1817: 4, 2436: 4, 1822: 4, 2969: 4, 1865: 4, 2949: 4, 2209: 4, 1905: 4, 2950: 4, 2058: 4, 2462: 4, 2992: 4, 2991: 4, 2417: 4, 1781: 4, 2429: 4, 2161: 4, 2039: 4, 2059: 4, 1810: 4, 2019: 4, 2956: 4, 2079: 4, 2955: 4, 3098: 4, 1718: 4, 2452: 4, 1719: 20, 1875: 20, 2101: 20, 1899: 20, 2919: 20, 2994: 20, 2560: 20, 2996: 20, 2563: 20, 2561: 20, 1720: 4, 1826: 4, 1995: 4, 1958: 4, 1998: 4, 1786: 4, 1805: 4, 1956: 4, 1723: 4, 1724: 4, 1889: 4, 1884: 4, 1792: 4, 2943: 4, 1747: 4, 1726: 4, 1917: 4, 1727: 4, 1869: 1, 2208: 4, 2024: 4, 2437: 4, 1918: 4, 2165: 4, 1783: 4, 2440: 4, 2432: 4, 1760: 4, 1779: 4, 1794: 4, 1748: 4, 1755: 4, 2433: 4, 3136: 4, 2078: 4, 1891: 4, 1756: 4, 2228: 4, 1749: 4, 2045: 4, 1819: 4, 1911: 4, 2004: 4, 1741: 4, 1733: 4, 1735: 20, 3005: 20, 3003: 20, 1912: 4, 2836: 4, 1797: 4, 1994: 4, 1737: 4, 2939: 4, 2008: 4, 2009: 4, 2007: 4, 1881: 4, 2966: 4, 2199: 4, 1910: 4, 2431: 4, 2169: 4, 2087: 4, 2170: 4, 2068: 4, 2014: 4, 2139: 4, 2451: 4, 2057: 4, 2456: 4, 2044: 4, 2156: 4, 2967: 4, 1740: 4, 1743: 4, 2465: 4, 1896: 4, 1845: 4, 1892: 4, 1830: 4, 1848: 4, 2021: 4, 1862: 4, 1852: 4, 1814: 4, 1842: 4, 1864: 4, 1769: 4, 1893: 4, 3099: 4, 3035: 20, 2854: 20, 2976: 20, 1999: 12, 2414: 4, 2927: 4, 1955: 4, 2468: 4, 1758: 4, 1761: 4, 1763: 4, 1764: 4, 2977: 20, 3025: 20, 3029: 20, 2979: 20, 2981: 20, 3114: 20, 3179: 20, 2942: 20, 2856: 20, 3033: 20, 2564: 20, 2978: 20, 2980: 20, 3115: 20, 2568: 20, 2972: 20, 1767: 4, 1770: 20, 1772: 4, 1774: 20, 3013: 20, 2855: 20, 3014: 20, 3012: 20, 2862: 20, 3020: 20, 2863: 20, 3015: 20, 2973: 20, 3016: 20, 3017: 20, 3018: 20, 3021: 20, 2026: 4, 1957: 4, 1996: 4, 1803: 4, 2047: 4, 2029: 4, 2015: 4, 2003: 4, 2212: 4, 2202: 4, 2023: 4, 2081: 4, 1782: 20, 1784: 4, 1787: 4, 1812: 4, 2415: 4, 2030: 4, 2166: 4, 2022: 4, 2089: 4, 2020: 4, 2424: 4, 2028: 4, 2918: 4, 2005: 4, 1793: 4, 2088: 4, 1804: 4, 2453: 4, 2184: 4, 2010: 4, 1902: 4, 1791: 4, 1795: 4, 1798: 20, 1799: 4, 1832: 4, 1820: 4, 2032: 4, 1833: 4, 2435: 4, 2207: 4, 2154: 4, 2080: 4, 2033: 4, 1844: 4, 1824: 4, 2195: 4, 1807: 4, 1859: 4, 1801: 4, 2421: 4, 2025: 4, 2423: 4, 2438: 4, 2921: 4, 2449: 4, 2464: 4, 1808: 4, 2940: 4, 1856: 4, 2194: 4, 2447: 4, 2450: 4, 2463: 4, 2411: 4, 2420: 4, 2002: 4, 2153: 4, 1961: 4, 1846: 4, 1840: 4, 2159: 4, 2466: 4, 2412: 4, 3006: 20, 3007: 20, 2887: 20, 3008: 20, 3010: 20, 2990: 20, 3011: 20, 2864: 20, 2859: 20, 1816: 4, 2116: 4, 2876: 4, 2444: 4, 2419: 4, 2164: 4, 2957: 4, 2926: 4, 1836: 4, 1837: 21, 2426: 21, 2971: 21, 1847: 4, 2965: 4, 2954: 4, 2961: 4, 2054: 4, 1871: 4, 2958: 4, 2151: 4, 2953: 4, 2197: 4, 2439: 4, 2924: 4, 2418: 4, 2196: 4, 2428: 4, 2441: 4, 2198: 4, 2962: 4, 2925: 4, 2459: 4, 1887: 4, 1993: 4, 1855: 4, 1858: 20, 2985: 20, 2857: 20, 2986: 20, 2861: 20, 2567: 20, 2858: 20, 1908: 20, 2559: 20, 1897: 20, 2879: 20, 1866: 4, 3001: 20, 3002: 20, 2467: 4, 1872: 4, 2997: 20, 2569: 20, 3028: 20, 2998: 20, 2413: 4, 2229: 4, 2027: 4, 2031: 4, 2427: 4, 2430: 4, 1890: 4, 2446: 4, 2082: 4, 2158: 4, 2989: 20, 3039: 20, 2988: 20, 3038: 20, 3026: 20, 2893: 20, 3027: 20, 2410: 4, 2167: 4, 2922: 4, 2455: 4, 2416: 4, 1903: 22, 3022: 22, 3023: 22, 2643: 22, 1916: 4, 2445: 4, 2941: 4, 2094: 1, 1950: 1, 2703: 0, 1933: 0, 1935: 0, 1934: 0, 1936: 0, 2692: 0, 2693: 0, 1939: 0, 1940: 0, 2056: 1, 2110: 1, 2124: 3, 2471: 3, 2123: 3, 2125: 3, 660: 3, 1967: 14, 1969: 11, 1980: 11, 1977: 11, 1978: 11, 2268: 2, 2267: 2, 3076: 3, 2739: 0, 2738: 0, 3093: 4, 2963: 4, 2434: 4, 2964: 4, 2959: 4, 2640: 14, 2638: 14, 2634: 14, 2666: 14, 2872: 14, 2665: 14, 2639: 14, 3146: 14, 3148: 14, 2396: 17, 2230: 0, 3095: 0, 2890: 0, 2231: 0, 2235: 0, 2232: 0, 2239: 0, 2234: 0, 3096: 0, 2240: 0, 3094: 0, 2236: 0, 2237: 0, 2233: 0, 2238: 0, 2379: 17, 2072: 6, 2300: 6, 2142: 4, 2425: 4, 2454: 4, 2582: 0, 2947: 0, 2530: 0, 2531: 0, 2533: 0, 2479: 11, 2189: 15, 2913: 11, 2351: 3, 2632: 14, 2219: 14, 2637: 14, 2252: 0, 2258: 2, 2263: 2, 2259: 9, 3116: 9, 3144: 2, 2269: 4, 2294: 13, 2272: 8, 2275: 8, 2279: 8, 2278: 4, 2314: 7, 2281: 10, 2282: 10, 2912: 10, 2299: 7, 2287: 7, 2317: 7, 2330: 7, 2309: 4, 2302: 13, 2313: 7, 3041: 7, 2301: 7, 2304: 7, 2305: 7, 2327: 7, 2329: 7, 2316: 8, 2324: 8, 3137: 8, 2381: 17, 2380: 5, 2382: 5, 2905: 5, 3097: 5, 2384: 17, 2392: 17, 2393: 17, 2641: 4, 2481: 12, 2486: 12, 2505: 0, 2511: 0, 2512: 0, 2513: 0, 2524: 0, 2527: 0, 2516: 0, 2517: 0, 2521: 0, 2898: 0, 2552: 11, 2562: 20, 2853: 20, 2982: 20, 3034: 20, 2566: 20, 2975: 20, 2974: 20, 3032: 20, 3159: 14, 3210: 14, 2698: 0, 2707: 0, 2710: 0, 2763: 0, 2711: 0, 2745: 0, 2717: 0, 2761: 0, 2762: 0, 2721: 0, 3198: 0, 2737: 0, 2758: 0, 3075: 1, 3203: 1, 3202: 1, 3104: 1, 2793: 1, 3178: 4, 3030: 20, 2860: 20, 2867: 20, 2892: 20, 2894: 20, 2895: 20, 2909: 12, 2914: 0, 2984: 20, 2960: 4, 2970: 21, 3024: 20, 3019: 20, 3031: 20, 3036: 20, 3009: 20, 2995: 20, 2999: 20, 3000: 20, 3004: 20, 3037: 20, 3052: 12, 3058: 12, 3057: 12, 3129: 12, 3127: 12, 3180: 20, 471: 17}\n",
     "output_type": "stream"
    },
    {
     "data": {
      "text/plain": "<Figure size 432x288 with 1 Axes>",
      "image/png": "[encoded data removed]"
     },
     "metadata": {
      "image/png": {
       "width": 349,
       "height": 231
      }
     },
     "output_type": "display_data"
    }
   ]
  },
  {
   "cell_type": "markdown",
   "source": "### Power law",
   "metadata": {
    "tags": [],
    "is_collapsed": false,
    "cell_id": "00037-0c4b6fae-3de0-4526-8130-b1baa21ee540",
    "deepnote_cell_type": "text-cell-h3"
   }
  },
  {
   "cell_type": "code",
   "metadata": {
    "tags": [],
    "cell_id": "00038-91086bd6-2607-4352-a74f-dbc0503872b7",
    "deepnote_to_be_reexecuted": false,
    "source_hash": "b67178c",
    "execution_start": 1637089600163,
    "execution_millis": 3154,
    "deepnote_cell_type": "code"
   },
   "source": "degree_sequence = sorted([d for n, d in G.degree()], reverse=True)\nfit = powerlaw.Fit(degree_sequence)\nfig2 = fit.plot_pdf(color='b', linewidth=2)\nfit.power_law.plot_pdf(color='g', linestyle='--', ax=fig2)\nR, p = fit.distribution_compare('power_law', 'lognormal')\nprint (R, p)",
   "execution_count": 24,
   "outputs": [
    {
     "name": "stdout",
     "text": "Calculating best minimal value for power law fit\n-5.562512674077134 0.029117724710571603\n",
     "output_type": "stream"
    },
    {
     "data": {
      "text/plain": "<Figure size 432x288 with 1 Axes>",
      "image/png": "[encoded data removed]"
     },
     "metadata": {
      "needs_background": "light",
      "image/png": {
       "width": 380,
       "height": 252
      }
     },
     "output_type": "display_data"
    }
   ]
  },
  {
   "cell_type": "markdown",
   "source": "## Other Stuff",
   "metadata": {
    "tags": [],
    "is_collapsed": false,
    "cell_id": "00036-228da84d-8206-42de-ab35-db5efcfb0803",
    "deepnote_cell_type": "text-cell-h2"
   }
  },
  {
   "cell_type": "code",
   "metadata": {
    "tags": [],
    "cell_id": "00006-6178d051-7f69-47eb-a1d6-020e327e63d3",
    "deepnote_to_be_reexecuted": false,
    "source_hash": "e3be78a4",
    "execution_start": 1637089603327,
    "execution_millis": 194,
    "deepnote_cell_type": "code"
   },
   "source": "#plane types explored \nfrom collections import Counter\nequipment=[]\nfor i in pd_edges[\" equipment\"]:\n    possible=str(i).split()\n    for j in possible:\n        equipment.append(j)\nunique_equipment_count=Counter(equipment)\nunique_equipment=pd.DataFrame(set(equipment))\nprint(\"Amount of each plane type\",unique_equipment_count)\nprint(\"Unique plane types\",set(equipment))\n#print(Counter(pd_edges[\" equipment\"])) nope\n",
   "execution_count": 25,
   "outputs": [
    {
     "name": "stdout",
     "text": "Amount of each plane type Counter({'320': 15400, '738': 10344, '319': 7847, '321': 3662, '73H': 3343, '737': 2753, '73W': 2492, 'CRJ': 2224, 'E90': 1968, 'AT7': 1595, '333': 1585, '73G': 1584, '332': 1439, 'DH4': 1387, '733': 1283, '763': 1183, 'CR7': 1161, '757': 1069, 'CR9': 1011, 'ER4': 989, 'ERJ': 947, '777': 945, '77W': 908, '330': 903, '739': 868, 'E70': 864, 'DH8': 785, 'M88': 725, '735': 705, 'E75': 701, 'M80': 656, '772': 633, 'ATR': 626, '73C': 623, '717': 614, '752': 604, '744': 599, '100': 590, '343': 490, 'DH3': 484, 'SF3': 475, '767': 461, '734': 460, 'CR2': 458, 'E95': 457, 'M90': 416, 'ERD': 415, '32S': 383, '773': 370, '736': 364, 'M83': 361, 'DHT': 354, '32A': 315, '75W': 311, 'DH1': 305, 'BEH': 290, '788': 287, 'AT4': 269, 'CNA': 266, 'CNC': 258, 'AT5': 256, '318': 253, 'BE1': 237, '310': 225, '346': 222, '388': 214, 'EM2': 214, '76W': 196, 'EMJ': 195, 'DH2': 187, 'F70': 175, 'AR1': 162, 'M82': 160, 'CRK': 159, '764': 153, '77L': 151, '73J': 145, '753': 143, 'F50': 134, 'S20': 113, '787': 106, 'AR8': 105, 'J41': 104, 'AB6': 102, '340': 96, 'SWM': 91, 'L4T': 91, 'J32': 84, 'ER3': 83, '313': 82, 'AN4': 82, '747': 62, '74E': 61, 'BNI': 61, 'SU9': 60, '732': 55, 'FRJ': 53, 'D38': 52, 'J31': 49, '73M': 47, '345': 47, '762': 46, 'PL2': 44, 'EMB': 44, 'ATP': 41, '73Q': 41, 'CRA': 38, '74M': 38, 'YN2': 38, '146': 35, 'A81': 35, 'PAG': 34, 'CNT': 34, 'BEC': 30, '380': 28, '342': 28, 'PA2': 28, '32B': 26, 'YK2': 26, 'YN7': 26, 'AB4': 24, '143': 22, '74H': 22, 'SFB': 20, '73N': 20, 'DC9': 20, 'BET': 19, 'nan': 18, 'T20': 18, 'BH2': 16, 'A58': 16, 'M87': 14, 'BNT': 14, 'D93': 14, 'A40': 14, 'DH7': 13, 'TU3': 13, 'TU5': 12, 'I14': 12, 'DHP': 11, '73R': 10, 'BE9': 10, '142': 10, 'IL9': 9, 'CN1': 9, '75T': 8, 'M11': 8, 'ARJ': 8, 'D28': 8, 'D1C': 8, 'F28': 7, '32C': 6, 'SH6': 6, '74L': 6, 'CNJ': 4, 'CN2': 4, '141': 4, 'MA6': 4, 'YK4': 4, '33X': 3, '74Y': 3, '76F': 2, 'M1F': 2, 'PA1': 2, '74N': 2, 'S76': 2, 'NDE': 2, '77X': 1})\nUnique plane types {'PA2', '73H', '773', '752', 'M88', 'DH4', 'BH2', 'CRA', '100', '333', 'J41', 'CN2', 'AT4', '388', '146', 'SWM', '143', 'BE1', 'PA1', '32C', '772', '76W', '142', 'D38', 'CR7', 'BET', '74L', 'D28', 'PAG', 'ARJ', 'CNJ', 'CN1', '73G', '732', '73M', '73R', 'MA6', '32B', 'YN7', '345', 'ATP', 'EMJ', 'ATR', '764', 'SF3', '74M', 'M82', 'E70', '330', '733', '75W', '777', 'DC9', 'NDE', 'BEH', '736', 'CNT', '32A', 'SU9', '787', 'CR2', '319', 'L4T', 'AB6', 'D93', 'D1C', 'ER4', '757', '380', 'TU3', 'TU5', '77W', '75T', 'M80', '744', 'CNA', 'EM2', 'DH3', 'J32', '346', 'nan', '738', 'I14', 'AT5', '73W', '33X', 'A58', 'SH6', 'BNI', 'AR8', 'DH8', 'YN2', '763', '737', '734', 'AN4', 'IL9', 'E90', '340', 'M1F', '717', 'DHP', 'EMB', '141', 'AT7', 'YK2', 'F70', '342', 'F28', '318', '74H', 'CR9', '74Y', '767', 'DH1', '73J', '788', 'S20', 'M90', 'A81', 'E75', '73Q', '320', 'F50', '747', '77X', 'DHT', 'CNC', '32S', '74E', '77L', 'BEC', 'M87', 'ERD', 'AB4', '739', 'ER3', 'PL2', '343', 'SFB', 'BE9', '73N', 'T20', 'M83', 'DH7', 'CRJ', '332', '762', 'BNT', 'DH2', '753', 'E95', 'J31', '73C', '74N', '321', 'M11', 'S76', '310', '735', '76F', 'ERJ', '313', 'A40', 'AR1', 'CRK', 'YK4', 'FRJ'}\n",
     "output_type": "stream"
    }
   ]
  },
  {
   "cell_type": "code",
   "metadata": {
    "tags": [],
    "cell_id": "00007-e3ff8f58-0dca-46af-8d64-e22abb503474",
    "deepnote_to_be_reexecuted": false,
    "source_hash": "1df19a48",
    "execution_start": 1637089925823,
    "execution_millis": 539,
    "deepnote_cell_type": "code"
   },
   "source": "unique_equipment.to_csv(\"../network/planes.csv\", sep='\\t',index=False)",
   "execution_count": 31,
   "outputs": []
  },
  {
   "cell_type": "code",
   "metadata": {
    "tags": [],
    "cell_id": "00046-66fc2d55-4c83-4b02-980e-ecd8105c055f",
    "deepnote_to_be_reexecuted": false,
    "source_hash": "881bb92d",
    "execution_start": 1637090475379,
    "execution_millis": 8,
    "deepnote_cell_type": "code"
   },
   "source": "#m = Basemap(projection='robin',lon_0=0,resolution='l')\n#m.drawcountries(linewidth = 0.5)\n#m.fillcontinents(color='white',lake_color='white')\n#m.drawcoastlines(linewidth=0.5)",
   "execution_count": 45,
   "outputs": []
  },
  {
   "cell_type": "code",
   "source": "",
   "metadata": {
    "tags": [],
    "cell_id": "00045-3e7155c4-f6da-429a-b8bd-eab013715956",
    "deepnote_cell_type": "code"
   },
   "outputs": [],
   "execution_count": null
  },
  {
   "cell_type": "markdown",
   "source": "<a style='text-decoration:none;line-height:16px;display:flex;color:#5B5B62;padding:10px;justify-content:end;' href='https://deepnote.com?utm_source=created-in-deepnote-cell&projectId=30c69275-ad4c-4319-be77-065d0edffda8' target=\"_blank\">\n<img alt='Created in deepnote.com' style='display:inline;max-height:16px;margin:0px;margin-right:7.5px;' src='data:image/svg+xml;base64,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' > </img>\nCreated in <span style='font-weight:600;margin-left:4px;'>Deepnote</span></a>",
   "metadata": {
    "tags": [],
    "created_in_deepnote_cell": true,
    "deepnote_cell_type": "markdown"
   }
  }
 ],
 "nbformat": 4,
 "nbformat_minor": 2,
 "metadata": {
  "orig_nbformat": 2,
  "deepnote": {
   "is_reactive": false
  },
  "deepnote_notebook_id": "8ca952b0-c3e4-4d5c-9ee8-7e731917d767",
  "deepnote_execution_queue": []
 }
}